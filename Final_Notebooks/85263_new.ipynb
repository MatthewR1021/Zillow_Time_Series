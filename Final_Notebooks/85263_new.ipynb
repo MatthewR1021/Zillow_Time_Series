{
 "cells": [
  {
   "cell_type": "code",
   "execution_count": 1,
   "metadata": {
    "ExecuteTime": {
     "end_time": "2022-01-05T21:07:45.048959Z",
     "start_time": "2022-01-05T21:07:39.149420Z"
    }
   },
   "outputs": [],
   "source": [
    "#Import relevant packages\n",
    "import pandas as pd\n",
    "import numpy as np\n",
    "import matplotlib.pyplot as plt\n",
    "import seaborn as sns\n",
    "from statsmodels.tsa.stattools import adfuller\n",
    "from statsmodels.graphics.tsaplots import plot_pacf,plot_acf\n",
    "from statsmodels.tsa.arima_model import ARMA\n",
    "from sklearn.model_selection import TimeSeriesSplit\n",
    "from sklearn.metrics import mean_squared_error\n",
    "from statsmodels.tsa.arima.model import ARIMA\n",
    "from statsmodels.tsa.statespace.sarimax import SARIMAX\n",
    "import itertools\n",
    "import warnings\n",
    "warnings.filterwarnings('ignore')"
   ]
  },
  {
   "cell_type": "code",
   "execution_count": 2,
   "metadata": {
    "ExecuteTime": {
     "end_time": "2022-01-05T21:07:45.134881Z",
     "start_time": "2022-01-05T21:07:45.053249Z"
    }
   },
   "outputs": [],
   "source": [
    "#Import functions notebook and load data set here\n",
    "import sys\n",
    "sys.path.append(\"../\")\n",
    "from time_series_functions import *"
   ]
  },
  {
   "cell_type": "code",
   "execution_count": 3,
   "metadata": {
    "ExecuteTime": {
     "end_time": "2022-01-05T21:07:47.038299Z",
     "start_time": "2022-01-05T21:07:45.140313Z"
    }
   },
   "outputs": [],
   "source": [
    "df=pd.read_csv('../zillow_data.csv')"
   ]
  },
  {
   "cell_type": "code",
   "execution_count": 4,
   "metadata": {
    "ExecuteTime": {
     "end_time": "2022-01-05T21:07:52.655427Z",
     "start_time": "2022-01-05T21:07:47.045292Z"
    }
   },
   "outputs": [],
   "source": [
    "df=melt_data2(df)"
   ]
  },
  {
   "cell_type": "code",
   "execution_count": 5,
   "metadata": {
    "ExecuteTime": {
     "end_time": "2022-01-05T21:07:52.755885Z",
     "start_time": "2022-01-05T21:07:52.660335Z"
    }
   },
   "outputs": [],
   "source": [
    "df.set_index('time',inplace=True)"
   ]
  },
  {
   "cell_type": "code",
   "execution_count": 6,
   "metadata": {
    "ExecuteTime": {
     "end_time": "2022-01-05T21:07:53.080059Z",
     "start_time": "2022-01-05T21:07:52.762665Z"
    }
   },
   "outputs": [],
   "source": [
    "# Rename RegionName to be Zipcode\n",
    "df=df.rename({'RegionName':'Zipcode'},axis='columns')"
   ]
  },
  {
   "cell_type": "code",
   "execution_count": 7,
   "metadata": {
    "ExecuteTime": {
     "end_time": "2022-01-05T21:07:53.294532Z",
     "start_time": "2022-01-05T21:07:53.085453Z"
    }
   },
   "outputs": [],
   "source": [
    "#drop no longer relevant columns\n",
    "df.drop(['RegionID','SizeRank','City','CountyName'],axis=1,inplace=True)"
   ]
  },
  {
   "cell_type": "code",
   "execution_count": 8,
   "metadata": {
    "ExecuteTime": {
     "end_time": "2022-01-05T21:07:53.730283Z",
     "start_time": "2022-01-05T21:07:53.306553Z"
    }
   },
   "outputs": [],
   "source": [
    "Arizona_df= df[(df['State'] == 'AZ')]"
   ]
  },
  {
   "cell_type": "code",
   "execution_count": 9,
   "metadata": {
    "ExecuteTime": {
     "end_time": "2022-01-05T21:07:53.849951Z",
     "start_time": "2022-01-05T21:07:53.754842Z"
    }
   },
   "outputs": [
    {
     "data": {
      "text/html": [
       "<div>\n",
       "<style scoped>\n",
       "    .dataframe tbody tr th:only-of-type {\n",
       "        vertical-align: middle;\n",
       "    }\n",
       "\n",
       "    .dataframe tbody tr th {\n",
       "        vertical-align: top;\n",
       "    }\n",
       "\n",
       "    .dataframe thead th {\n",
       "        text-align: right;\n",
       "    }\n",
       "</style>\n",
       "<table border=\"1\" class=\"dataframe\">\n",
       "  <thead>\n",
       "    <tr style=\"text-align: right;\">\n",
       "      <th></th>\n",
       "      <th>Zipcode</th>\n",
       "      <th>State</th>\n",
       "      <th>Metro</th>\n",
       "      <th>value</th>\n",
       "    </tr>\n",
       "    <tr>\n",
       "      <th>time</th>\n",
       "      <th></th>\n",
       "      <th></th>\n",
       "      <th></th>\n",
       "      <th></th>\n",
       "    </tr>\n",
       "  </thead>\n",
       "  <tbody>\n",
       "    <tr>\n",
       "      <th>1996-04-01</th>\n",
       "      <td>85032</td>\n",
       "      <td>AZ</td>\n",
       "      <td>Phoenix</td>\n",
       "      <td>95400.0</td>\n",
       "    </tr>\n",
       "    <tr>\n",
       "      <th>1996-04-01</th>\n",
       "      <td>85710</td>\n",
       "      <td>AZ</td>\n",
       "      <td>Tucson</td>\n",
       "      <td>94600.0</td>\n",
       "    </tr>\n",
       "    <tr>\n",
       "      <th>1996-04-01</th>\n",
       "      <td>85225</td>\n",
       "      <td>AZ</td>\n",
       "      <td>Phoenix</td>\n",
       "      <td>101200.0</td>\n",
       "    </tr>\n",
       "    <tr>\n",
       "      <th>1996-04-01</th>\n",
       "      <td>85308</td>\n",
       "      <td>AZ</td>\n",
       "      <td>Phoenix</td>\n",
       "      <td>124800.0</td>\n",
       "    </tr>\n",
       "    <tr>\n",
       "      <th>1996-04-01</th>\n",
       "      <td>85281</td>\n",
       "      <td>AZ</td>\n",
       "      <td>Phoenix</td>\n",
       "      <td>81200.0</td>\n",
       "    </tr>\n",
       "    <tr>\n",
       "      <th>...</th>\n",
       "      <td>...</td>\n",
       "      <td>...</td>\n",
       "      <td>...</td>\n",
       "      <td>...</td>\n",
       "    </tr>\n",
       "    <tr>\n",
       "      <th>2018-04-01</th>\n",
       "      <td>86332</td>\n",
       "      <td>AZ</td>\n",
       "      <td>Prescott</td>\n",
       "      <td>172500.0</td>\n",
       "    </tr>\n",
       "    <tr>\n",
       "      <th>2018-04-01</th>\n",
       "      <td>85645</td>\n",
       "      <td>AZ</td>\n",
       "      <td>Tucson</td>\n",
       "      <td>152300.0</td>\n",
       "    </tr>\n",
       "    <tr>\n",
       "      <th>2018-04-01</th>\n",
       "      <td>85928</td>\n",
       "      <td>AZ</td>\n",
       "      <td>Show Low</td>\n",
       "      <td>225100.0</td>\n",
       "    </tr>\n",
       "    <tr>\n",
       "      <th>2018-04-01</th>\n",
       "      <td>85637</td>\n",
       "      <td>AZ</td>\n",
       "      <td>Nogales</td>\n",
       "      <td>320000.0</td>\n",
       "    </tr>\n",
       "    <tr>\n",
       "      <th>2018-04-01</th>\n",
       "      <td>85611</td>\n",
       "      <td>AZ</td>\n",
       "      <td>Nogales</td>\n",
       "      <td>269000.0</td>\n",
       "    </tr>\n",
       "  </tbody>\n",
       "</table>\n",
       "<p>58775 rows × 4 columns</p>\n",
       "</div>"
      ],
      "text/plain": [
       "            Zipcode State     Metro     value\n",
       "time                                         \n",
       "1996-04-01    85032    AZ   Phoenix   95400.0\n",
       "1996-04-01    85710    AZ    Tucson   94600.0\n",
       "1996-04-01    85225    AZ   Phoenix  101200.0\n",
       "1996-04-01    85308    AZ   Phoenix  124800.0\n",
       "1996-04-01    85281    AZ   Phoenix   81200.0\n",
       "...             ...   ...       ...       ...\n",
       "2018-04-01    86332    AZ  Prescott  172500.0\n",
       "2018-04-01    85645    AZ    Tucson  152300.0\n",
       "2018-04-01    85928    AZ  Show Low  225100.0\n",
       "2018-04-01    85637    AZ   Nogales  320000.0\n",
       "2018-04-01    85611    AZ   Nogales  269000.0\n",
       "\n",
       "[58775 rows x 4 columns]"
      ]
     },
     "execution_count": 9,
     "metadata": {},
     "output_type": "execute_result"
    }
   ],
   "source": [
    "Arizona_df"
   ]
  },
  {
   "cell_type": "code",
   "execution_count": 10,
   "metadata": {
    "ExecuteTime": {
     "end_time": "2022-01-05T21:07:53.907164Z",
     "start_time": "2022-01-05T21:07:53.890182Z"
    }
   },
   "outputs": [],
   "source": [
    "Arizona_recent_yrs=Arizona_df['2009-01-01':'2018-04-01']"
   ]
  },
  {
   "cell_type": "code",
   "execution_count": 11,
   "metadata": {
    "ExecuteTime": {
     "end_time": "2022-01-05T21:07:53.954509Z",
     "start_time": "2022-01-05T21:07:53.917049Z"
    }
   },
   "outputs": [
    {
     "data": {
      "text/html": [
       "<div>\n",
       "<style scoped>\n",
       "    .dataframe tbody tr th:only-of-type {\n",
       "        vertical-align: middle;\n",
       "    }\n",
       "\n",
       "    .dataframe tbody tr th {\n",
       "        vertical-align: top;\n",
       "    }\n",
       "\n",
       "    .dataframe thead th {\n",
       "        text-align: right;\n",
       "    }\n",
       "</style>\n",
       "<table border=\"1\" class=\"dataframe\">\n",
       "  <thead>\n",
       "    <tr style=\"text-align: right;\">\n",
       "      <th></th>\n",
       "      <th>Zipcode</th>\n",
       "      <th>State</th>\n",
       "      <th>Metro</th>\n",
       "      <th>value</th>\n",
       "    </tr>\n",
       "    <tr>\n",
       "      <th>time</th>\n",
       "      <th></th>\n",
       "      <th></th>\n",
       "      <th></th>\n",
       "      <th></th>\n",
       "    </tr>\n",
       "  </thead>\n",
       "  <tbody>\n",
       "    <tr>\n",
       "      <th>2009-01-01</th>\n",
       "      <td>85032</td>\n",
       "      <td>AZ</td>\n",
       "      <td>Phoenix</td>\n",
       "      <td>190200.0</td>\n",
       "    </tr>\n",
       "    <tr>\n",
       "      <th>2009-01-01</th>\n",
       "      <td>85710</td>\n",
       "      <td>AZ</td>\n",
       "      <td>Tucson</td>\n",
       "      <td>171100.0</td>\n",
       "    </tr>\n",
       "    <tr>\n",
       "      <th>2009-01-01</th>\n",
       "      <td>85225</td>\n",
       "      <td>AZ</td>\n",
       "      <td>Phoenix</td>\n",
       "      <td>179900.0</td>\n",
       "    </tr>\n",
       "    <tr>\n",
       "      <th>2009-01-01</th>\n",
       "      <td>85308</td>\n",
       "      <td>AZ</td>\n",
       "      <td>Phoenix</td>\n",
       "      <td>212000.0</td>\n",
       "    </tr>\n",
       "    <tr>\n",
       "      <th>2009-01-01</th>\n",
       "      <td>85281</td>\n",
       "      <td>AZ</td>\n",
       "      <td>Phoenix</td>\n",
       "      <td>181300.0</td>\n",
       "    </tr>\n",
       "    <tr>\n",
       "      <th>...</th>\n",
       "      <td>...</td>\n",
       "      <td>...</td>\n",
       "      <td>...</td>\n",
       "      <td>...</td>\n",
       "    </tr>\n",
       "    <tr>\n",
       "      <th>2018-04-01</th>\n",
       "      <td>86332</td>\n",
       "      <td>AZ</td>\n",
       "      <td>Prescott</td>\n",
       "      <td>172500.0</td>\n",
       "    </tr>\n",
       "    <tr>\n",
       "      <th>2018-04-01</th>\n",
       "      <td>85645</td>\n",
       "      <td>AZ</td>\n",
       "      <td>Tucson</td>\n",
       "      <td>152300.0</td>\n",
       "    </tr>\n",
       "    <tr>\n",
       "      <th>2018-04-01</th>\n",
       "      <td>85928</td>\n",
       "      <td>AZ</td>\n",
       "      <td>Show Low</td>\n",
       "      <td>225100.0</td>\n",
       "    </tr>\n",
       "    <tr>\n",
       "      <th>2018-04-01</th>\n",
       "      <td>85637</td>\n",
       "      <td>AZ</td>\n",
       "      <td>Nogales</td>\n",
       "      <td>320000.0</td>\n",
       "    </tr>\n",
       "    <tr>\n",
       "      <th>2018-04-01</th>\n",
       "      <td>85611</td>\n",
       "      <td>AZ</td>\n",
       "      <td>Nogales</td>\n",
       "      <td>269000.0</td>\n",
       "    </tr>\n",
       "  </tbody>\n",
       "</table>\n",
       "<p>25520 rows × 4 columns</p>\n",
       "</div>"
      ],
      "text/plain": [
       "            Zipcode State     Metro     value\n",
       "time                                         \n",
       "2009-01-01    85032    AZ   Phoenix  190200.0\n",
       "2009-01-01    85710    AZ    Tucson  171100.0\n",
       "2009-01-01    85225    AZ   Phoenix  179900.0\n",
       "2009-01-01    85308    AZ   Phoenix  212000.0\n",
       "2009-01-01    85281    AZ   Phoenix  181300.0\n",
       "...             ...   ...       ...       ...\n",
       "2018-04-01    86332    AZ  Prescott  172500.0\n",
       "2018-04-01    85645    AZ    Tucson  152300.0\n",
       "2018-04-01    85928    AZ  Show Low  225100.0\n",
       "2018-04-01    85637    AZ   Nogales  320000.0\n",
       "2018-04-01    85611    AZ   Nogales  269000.0\n",
       "\n",
       "[25520 rows x 4 columns]"
      ]
     },
     "execution_count": 11,
     "metadata": {},
     "output_type": "execute_result"
    }
   ],
   "source": [
    "Arizona_recent_yrs"
   ]
  },
  {
   "cell_type": "code",
   "execution_count": 12,
   "metadata": {
    "ExecuteTime": {
     "end_time": "2022-01-05T21:07:53.974781Z",
     "start_time": "2022-01-05T21:07:53.960131Z"
    }
   },
   "outputs": [],
   "source": [
    "Phoenix_data = Arizona_recent_yrs[(Arizona_recent_yrs['Metro'] == 'Phoenix')]"
   ]
  },
  {
   "cell_type": "code",
   "execution_count": 13,
   "metadata": {
    "ExecuteTime": {
     "end_time": "2022-01-05T21:07:53.995843Z",
     "start_time": "2022-01-05T21:07:53.980697Z"
    }
   },
   "outputs": [],
   "source": [
    "Phoenix_data\n",
    "Phoenix_data=Phoenix_data.drop(['State','Metro'],axis=1)"
   ]
  },
  {
   "cell_type": "code",
   "execution_count": 14,
   "metadata": {
    "ExecuteTime": {
     "end_time": "2022-01-05T21:07:54.030370Z",
     "start_time": "2022-01-05T21:07:54.008079Z"
    }
   },
   "outputs": [],
   "source": [
    "top_10_zips_phx=Phoenix_data[(Phoenix_data['Zipcode'] == 85253)|(Phoenix_data['Zipcode'] == 85262)|\n",
    "(Phoenix_data['Zipcode'] == 85377)| (Phoenix_data['Zipcode'] == 85255)|(Phoenix_data['Zipcode'] == 85266)|\n",
    "                             (Phoenix_data['Zipcode'] == 85259)|(Phoenix_data['Zipcode'] == 85258)|\n",
    "                             (Phoenix_data['Zipcode'] == 85018)|(Phoenix_data['Zipcode'] == 85263)|\n",
    "                             (Phoenix_data['Zipcode'] == 85054)]"
   ]
  },
  {
   "cell_type": "code",
   "execution_count": 15,
   "metadata": {
    "ExecuteTime": {
     "end_time": "2022-01-05T21:07:54.057753Z",
     "start_time": "2022-01-05T21:07:54.047421Z"
    }
   },
   "outputs": [],
   "source": [
    "zip_zipcode=top_10_zips_phx[top_10_zips_phx['Zipcode']==85263]"
   ]
  },
  {
   "cell_type": "code",
   "execution_count": 16,
   "metadata": {
    "ExecuteTime": {
     "end_time": "2022-01-05T21:07:54.111067Z",
     "start_time": "2022-01-05T21:07:54.070604Z"
    }
   },
   "outputs": [
    {
     "data": {
      "text/html": [
       "<div>\n",
       "<style scoped>\n",
       "    .dataframe tbody tr th:only-of-type {\n",
       "        vertical-align: middle;\n",
       "    }\n",
       "\n",
       "    .dataframe tbody tr th {\n",
       "        vertical-align: top;\n",
       "    }\n",
       "\n",
       "    .dataframe thead th {\n",
       "        text-align: right;\n",
       "    }\n",
       "</style>\n",
       "<table border=\"1\" class=\"dataframe\">\n",
       "  <thead>\n",
       "    <tr style=\"text-align: right;\">\n",
       "      <th></th>\n",
       "      <th>value</th>\n",
       "    </tr>\n",
       "    <tr>\n",
       "      <th>time</th>\n",
       "      <th></th>\n",
       "    </tr>\n",
       "  </thead>\n",
       "  <tbody>\n",
       "    <tr>\n",
       "      <th>2009-01-01</th>\n",
       "      <td>485800.0</td>\n",
       "    </tr>\n",
       "    <tr>\n",
       "      <th>2009-02-01</th>\n",
       "      <td>477000.0</td>\n",
       "    </tr>\n",
       "    <tr>\n",
       "      <th>2009-03-01</th>\n",
       "      <td>467600.0</td>\n",
       "    </tr>\n",
       "    <tr>\n",
       "      <th>2009-04-01</th>\n",
       "      <td>457300.0</td>\n",
       "    </tr>\n",
       "    <tr>\n",
       "      <th>2009-05-01</th>\n",
       "      <td>447900.0</td>\n",
       "    </tr>\n",
       "    <tr>\n",
       "      <th>...</th>\n",
       "      <td>...</td>\n",
       "    </tr>\n",
       "    <tr>\n",
       "      <th>2017-12-01</th>\n",
       "      <td>473200.0</td>\n",
       "    </tr>\n",
       "    <tr>\n",
       "      <th>2018-01-01</th>\n",
       "      <td>478000.0</td>\n",
       "    </tr>\n",
       "    <tr>\n",
       "      <th>2018-02-01</th>\n",
       "      <td>479800.0</td>\n",
       "    </tr>\n",
       "    <tr>\n",
       "      <th>2018-03-01</th>\n",
       "      <td>480400.0</td>\n",
       "    </tr>\n",
       "    <tr>\n",
       "      <th>2018-04-01</th>\n",
       "      <td>480800.0</td>\n",
       "    </tr>\n",
       "  </tbody>\n",
       "</table>\n",
       "<p>112 rows × 1 columns</p>\n",
       "</div>"
      ],
      "text/plain": [
       "               value\n",
       "time                \n",
       "2009-01-01  485800.0\n",
       "2009-02-01  477000.0\n",
       "2009-03-01  467600.0\n",
       "2009-04-01  457300.0\n",
       "2009-05-01  447900.0\n",
       "...              ...\n",
       "2017-12-01  473200.0\n",
       "2018-01-01  478000.0\n",
       "2018-02-01  479800.0\n",
       "2018-03-01  480400.0\n",
       "2018-04-01  480800.0\n",
       "\n",
       "[112 rows x 1 columns]"
      ]
     },
     "execution_count": 16,
     "metadata": {},
     "output_type": "execute_result"
    }
   ],
   "source": [
    "zip_zipcode.drop('Zipcode',axis=1,inplace=True)\n",
    "\n",
    "zip_zipcode"
   ]
  },
  {
   "cell_type": "code",
   "execution_count": 17,
   "metadata": {
    "ExecuteTime": {
     "end_time": "2022-01-05T21:07:54.152499Z",
     "start_time": "2022-01-05T21:07:54.122475Z"
    }
   },
   "outputs": [],
   "source": [
    "resampled_shift_1 = zip_zipcode[['value']].shift(1)\n",
    "resampled_shift_1.bfill(inplace=True)"
   ]
  },
  {
   "cell_type": "code",
   "execution_count": 18,
   "metadata": {
    "ExecuteTime": {
     "end_time": "2022-01-05T21:07:54.391515Z",
     "start_time": "2022-01-05T21:07:54.372967Z"
    }
   },
   "outputs": [],
   "source": [
    "zip_zipcode['growth'] = (zip_zipcode['value'] - resampled_shift_1['value'])/(resampled_shift_1['value'])\n",
    "zip_zipcode['growth']= abs(zip_zipcode['growth'])"
   ]
  },
  {
   "cell_type": "code",
   "execution_count": 19,
   "metadata": {
    "ExecuteTime": {
     "end_time": "2022-01-05T21:07:54.929915Z",
     "start_time": "2022-01-05T21:07:54.924592Z"
    }
   },
   "outputs": [],
   "source": [
    "zip_zipcode.drop('value',axis=1,inplace=True)"
   ]
  },
  {
   "cell_type": "code",
   "execution_count": 20,
   "metadata": {
    "ExecuteTime": {
     "end_time": "2022-01-05T21:07:55.256139Z",
     "start_time": "2022-01-05T21:07:55.191322Z"
    }
   },
   "outputs": [
    {
     "name": "stdout",
     "output_type": "stream",
     "text": [
      "\n",
      "Results of Dickey-Fuller Test: \n",
      "\n",
      "Test Statistic                  -4.024064\n",
      "p-value                          0.001290\n",
      "#Lags Used                       2.000000\n",
      "Number of Observations Used    109.000000\n",
      "Critical Value (1%)             -3.491818\n",
      "Critical Value (5%)             -2.888444\n",
      "Critical Value (10%)            -2.581120\n",
      "dtype: float64\n"
     ]
    }
   ],
   "source": [
    "stationarity_check(zip_zipcode)"
   ]
  },
  {
   "cell_type": "code",
   "execution_count": 21,
   "metadata": {
    "ExecuteTime": {
     "end_time": "2022-01-05T21:07:59.469499Z",
     "start_time": "2022-01-05T21:07:59.446014Z"
    }
   },
   "outputs": [],
   "source": [
    "zip_zipcode=zip_zipcode[1:]"
   ]
  },
  {
   "cell_type": "code",
   "execution_count": 22,
   "metadata": {
    "ExecuteTime": {
     "end_time": "2022-01-05T21:07:59.820839Z",
     "start_time": "2022-01-05T21:07:59.804070Z"
    }
   },
   "outputs": [],
   "source": [
    "#stationarity_check(zip_zipcode.diff().dropna())"
   ]
  },
  {
   "cell_type": "code",
   "execution_count": 23,
   "metadata": {
    "ExecuteTime": {
     "end_time": "2022-01-05T21:08:00.114659Z",
     "start_time": "2022-01-05T21:08:00.107172Z"
    }
   },
   "outputs": [],
   "source": [
    "#zip_zipcode=(zip_zipcode.diff().dropna())"
   ]
  },
  {
   "cell_type": "code",
   "execution_count": 24,
   "metadata": {
    "ExecuteTime": {
     "end_time": "2022-01-05T21:08:00.401955Z",
     "start_time": "2022-01-05T21:08:00.389305Z"
    }
   },
   "outputs": [
    {
     "data": {
      "text/plain": [
       "89"
      ]
     },
     "execution_count": 24,
     "metadata": {},
     "output_type": "execute_result"
    }
   ],
   "source": [
    "cutoff = round(zip_zipcode.shape[0]*0.8)\n",
    "cutoff"
   ]
  },
  {
   "cell_type": "code",
   "execution_count": 25,
   "metadata": {
    "ExecuteTime": {
     "end_time": "2022-01-05T21:08:00.668080Z",
     "start_time": "2022-01-05T21:08:00.661439Z"
    }
   },
   "outputs": [],
   "source": [
    "# Define train and test sets according to the index found above\n",
    "train = zip_zipcode[:cutoff]\n",
    "\n",
    "test = zip_zipcode[cutoff:]"
   ]
  },
  {
   "cell_type": "code",
   "execution_count": 26,
   "metadata": {
    "ExecuteTime": {
     "end_time": "2022-01-05T21:08:01.072139Z",
     "start_time": "2022-01-05T21:08:01.054704Z"
    }
   },
   "outputs": [
    {
     "name": "stdout",
     "output_type": "stream",
     "text": [
      "[ 0  1  2  3  4  5  6  7  8  9 10 11 12 13 14 15 16 17 18] [19 20 21 22 23 24 25 26 27 28 29 30 31 32]\n",
      "[ 0  1  2  3  4  5  6  7  8  9 10 11 12 13 14 15 16 17 18 19 20 21 22 23\n",
      " 24 25 26 27 28 29 30 31 32] [33 34 35 36 37 38 39 40 41 42 43 44 45 46]\n",
      "[ 0  1  2  3  4  5  6  7  8  9 10 11 12 13 14 15 16 17 18 19 20 21 22 23\n",
      " 24 25 26 27 28 29 30 31 32 33 34 35 36 37 38 39 40 41 42 43 44 45 46] [47 48 49 50 51 52 53 54 55 56 57 58 59 60]\n",
      "[ 0  1  2  3  4  5  6  7  8  9 10 11 12 13 14 15 16 17 18 19 20 21 22 23\n",
      " 24 25 26 27 28 29 30 31 32 33 34 35 36 37 38 39 40 41 42 43 44 45 46 47\n",
      " 48 49 50 51 52 53 54 55 56 57 58 59 60] [61 62 63 64 65 66 67 68 69 70 71 72 73 74]\n",
      "[ 0  1  2  3  4  5  6  7  8  9 10 11 12 13 14 15 16 17 18 19 20 21 22 23\n",
      " 24 25 26 27 28 29 30 31 32 33 34 35 36 37 38 39 40 41 42 43 44 45 46 47\n",
      " 48 49 50 51 52 53 54 55 56 57 58 59 60 61 62 63 64 65 66 67 68 69 70 71\n",
      " 72 73 74] [75 76 77 78 79 80 81 82 83 84 85 86 87 88]\n"
     ]
    }
   ],
   "source": [
    "split = TimeSeriesSplit()\n",
    "\n",
    "for train_ind, val_ind in split.split(train):\n",
    "    print(train_ind, val_ind)"
   ]
  },
  {
   "cell_type": "code",
   "execution_count": 27,
   "metadata": {
    "ExecuteTime": {
     "end_time": "2022-01-05T21:08:01.492232Z",
     "start_time": "2022-01-05T21:08:01.486645Z"
    }
   },
   "outputs": [],
   "source": [
    "baseline = train.shift(1)\n",
    "baseline.dropna(inplace=True)"
   ]
  },
  {
   "cell_type": "code",
   "execution_count": 28,
   "metadata": {
    "ExecuteTime": {
     "end_time": "2022-01-05T21:08:02.066505Z",
     "start_time": "2022-01-05T21:08:02.060546Z"
    }
   },
   "outputs": [],
   "source": [
    "train.dropna(inplace=True)"
   ]
  },
  {
   "cell_type": "code",
   "execution_count": 29,
   "metadata": {
    "ExecuteTime": {
     "end_time": "2022-01-05T21:08:03.118862Z",
     "start_time": "2022-01-05T21:08:02.486005Z"
    }
   },
   "outputs": [
    {
     "data": {
      "image/png": "[encoded data removed]",
      "text/plain": [
       "<Figure size 432x288 with 1 Axes>"
      ]
     },
     "metadata": {
      "needs_background": "light"
     },
     "output_type": "display_data"
    }
   ],
   "source": [
    "fig, ax = plt.subplots()\n",
    "\n",
    "train[0:30].plot(ax=ax, c='r', label='original')\n",
    "baseline[0:30].plot(ax=ax, c='b', label='shifted')\n",
    "ax.set_title('baseline')\n",
    "ax.legend();"
   ]
  },
  {
   "cell_type": "code",
   "execution_count": 30,
   "metadata": {
    "ExecuteTime": {
     "end_time": "2022-01-05T21:08:03.573138Z",
     "start_time": "2022-01-05T21:08:03.548908Z"
    }
   },
   "outputs": [
    {
     "data": {
      "text/plain": [
       "0.005129963804281074"
      ]
     },
     "execution_count": 30,
     "metadata": {},
     "output_type": "execute_result"
    }
   ],
   "source": [
    "np.sqrt(mean_squared_error(train[1:], baseline.dropna()))"
   ]
  },
  {
   "cell_type": "code",
   "execution_count": 31,
   "metadata": {
    "ExecuteTime": {
     "end_time": "2022-01-05T21:08:04.084477Z",
     "start_time": "2022-01-05T21:08:04.053397Z"
    }
   },
   "outputs": [
    {
     "name": "stdout",
     "output_type": "stream",
     "text": [
      "The p-value associated with the Dickey-Fuller statistical test is 0.002645207680858698,\n",
      " so we can safely assume that the differenced data is stationary.\n"
     ]
    }
   ],
   "source": [
    "p_val = adfuller(train[1:])[1]\n",
    "print(f\"The p-value associated with the Dickey-Fuller statistical test is {p_val},\")\n",
    "if p_val < 0.05:\n",
    "    print(\" so we can safely assume that the differenced data is stationary.\")\n",
    "else:\n",
    "    print(\" so we cannot reject the null hypothesis that the differenced data is \\\n",
    "not stationary.\")"
   ]
  },
  {
   "cell_type": "code",
   "execution_count": 32,
   "metadata": {
    "ExecuteTime": {
     "end_time": "2022-01-05T21:08:04.674228Z",
     "start_time": "2022-01-05T21:08:04.501884Z"
    }
   },
   "outputs": [
    {
     "data": {
      "text/plain": [
       "2009-02-01    0.000000\n",
       "2009-03-01    0.018114\n",
       "2009-04-01    0.020172\n",
       "2009-05-01    0.022705\n",
       "2009-06-01    0.020125\n",
       "                ...   \n",
       "2016-02-01    0.002806\n",
       "2016-03-01   -0.000131\n",
       "2016-04-01    0.000694\n",
       "2016-05-01    0.006624\n",
       "2016-06-01    0.010508\n",
       "Freq: MS, Name: predicted_mean, Length: 89, dtype: float64"
      ]
     },
     "execution_count": 32,
     "metadata": {},
     "output_type": "execute_result"
    }
   ],
   "source": [
    "ar_1 = ARIMA(train, order=(1, 1, 0)).fit()\n",
    "\n",
    "# We put a typ='levels' to convert our predictions to remove the differencing performed.\n",
    "ar_1.predict(typ='levels')"
   ]
  },
  {
   "cell_type": "code",
   "execution_count": 33,
   "metadata": {
    "ExecuteTime": {
     "end_time": "2022-01-05T21:08:06.368077Z",
     "start_time": "2022-01-05T21:08:04.967744Z"
    }
   },
   "outputs": [],
   "source": [
    "sari_mod =SARIMAX(train,\n",
    "                  order=(0, 1, 0),\n",
    "                  seasonal_order=(0, 1, 1, 52),\n",
    "                  enforce_stationarity=False,\n",
    "                  enforce_invertibility=False).fit()"
   ]
  },
  {
   "cell_type": "code",
   "execution_count": 34,
   "metadata": {
    "ExecuteTime": {
     "end_time": "2022-01-05T21:08:06.443408Z",
     "start_time": "2022-01-05T21:08:06.397738Z"
    }
   },
   "outputs": [],
   "source": [
    "train_with_ind = train.reset_index()"
   ]
  },
  {
   "cell_type": "code",
   "execution_count": 35,
   "metadata": {
    "ExecuteTime": {
     "end_time": "2022-01-05T21:08:11.573152Z",
     "start_time": "2022-01-05T21:08:06.467126Z"
    }
   },
   "outputs": [
    {
     "name": "stdout",
     "output_type": "stream",
     "text": [
      "0.010106439690396256\n",
      "0.013468808303849082\n",
      "0.007978748891028984\n",
      "0.0167887125687146\n",
      "0.0061541244038334775\n"
     ]
    }
   ],
   "source": [
    "for train_ind, val_ind in split.split(train_with_ind):\n",
    "    sarimax = SARIMAX(endog=train_with_ind.iloc[train_ind, -1],\n",
    "                      order=(1, 1, 1),\n",
    "                     seasonal_order=(0, 1, 1, 52),\n",
    "                     enforce_stationarity=False,\n",
    "                     enforce_invertibility=False).fit()\n",
    "    preds = sarimax.predict(typ='levels', start=val_ind[0], end=val_ind[-1])\n",
    "    true = train_with_ind.iloc[val_ind, -1]\n",
    "    print(np.sqrt(mean_squared_error(true, preds)))"
   ]
  },
  {
   "cell_type": "code",
   "execution_count": 36,
   "metadata": {
    "ExecuteTime": {
     "end_time": "2022-01-05T21:08:37.196275Z",
     "start_time": "2022-01-05T21:08:11.593244Z"
    }
   },
   "outputs": [],
   "source": [
    "sari_mod = SARIMAX(zip_zipcode,\n",
    "                  order=(1, 1, 1),\n",
    "                  seasonal_order=(0, 1, 1, 52),\n",
    "                  enforce_stationarity=False,\n",
    "                  enforce_invertibility=False).fit()"
   ]
  },
  {
   "cell_type": "code",
   "execution_count": 37,
   "metadata": {
    "ExecuteTime": {
     "end_time": "2022-01-05T21:08:37.437421Z",
     "start_time": "2022-01-05T21:08:37.202140Z"
    }
   },
   "outputs": [],
   "source": [
    "forecast = sari_mod.forecast(steps=75)"
   ]
  },
  {
   "cell_type": "code",
   "execution_count": 38,
   "metadata": {
    "ExecuteTime": {
     "end_time": "2022-01-05T21:08:38.011248Z",
     "start_time": "2022-01-05T21:08:37.457967Z"
    }
   },
   "outputs": [
    {
     "data": {
      "image/png": "[encoded data removed]",
      "text/plain": [
       "<Figure size 432x288 with 1 Axes>"
      ]
     },
     "metadata": {
      "needs_background": "light"
     },
     "output_type": "display_data"
    }
   ],
   "source": [
    "fig, ax = plt.subplots()\n",
    "ax.plot(zip_zipcode, label='so_far')\n",
    "ax.plot(forecast, label='forecast')\n",
    "ax.set_title('85263 Growth Forecast')\n",
    "\n",
    "plt.legend();"
   ]
  },
  {
   "cell_type": "code",
   "execution_count": 39,
   "metadata": {
    "ExecuteTime": {
     "end_time": "2022-01-05T21:08:38.025751Z",
     "start_time": "2022-01-05T21:08:38.017554Z"
    }
   },
   "outputs": [
    {
     "data": {
      "text/plain": [
       "0.0025226141315240467"
      ]
     },
     "execution_count": 39,
     "metadata": {},
     "output_type": "execute_result"
    }
   ],
   "source": [
    "forecast.mean()"
   ]
  }
 ],
 "metadata": {
  "kernelspec": {
   "display_name": "Python (learn-env)",
   "language": "python",
   "name": "learn-env"
  },
  "language_info": {
   "codemirror_mode": {
    "name": "ipython",
    "version": 3
   },
   "file_extension": ".py",
   "mimetype": "text/x-python",
   "name": "python",
   "nbconvert_exporter": "python",
   "pygments_lexer": "ipython3",
   "version": "3.8.5"
  }
 },
 "nbformat": 4,
 "nbformat_minor": 4
}
