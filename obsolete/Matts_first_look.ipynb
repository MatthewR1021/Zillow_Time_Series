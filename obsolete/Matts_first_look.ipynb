{
 "cells": [
  {
   "cell_type": "markdown",
   "metadata": {},
   "source": [
    "# Matts Data Exploration Notebook"
   ]
  },
  {
   "cell_type": "code",
   "execution_count": 381,
   "metadata": {
    "ExecuteTime": {
     "end_time": "2022-01-03T19:39:30.229357Z",
     "start_time": "2022-01-03T19:39:30.224019Z"
    }
   },
   "outputs": [],
   "source": [
    "#Import relevant packages\n",
    "import pandas as pd\n",
    "import numpy as np\n",
    "import matplotlib.pyplot as plt\n",
    "import seaborn as sns\n",
    "from statsmodels.tsa.stattools import adfuller"
   ]
  },
  {
   "cell_type": "code",
   "execution_count": 382,
   "metadata": {
    "ExecuteTime": {
     "end_time": "2022-01-03T19:39:32.080793Z",
     "start_time": "2022-01-03T19:39:30.427736Z"
    }
   },
   "outputs": [],
   "source": [
    "#Read the data into notebook\n",
    "df=pd.read_csv('zillow_data.csv')"
   ]
  },
  {
   "cell_type": "code",
   "execution_count": 383,
   "metadata": {
    "ExecuteTime": {
     "end_time": "2022-01-03T19:39:32.163374Z",
     "start_time": "2022-01-03T19:39:32.086453Z"
    },
    "scrolled": true
   },
   "outputs": [
    {
     "data": {
      "text/html": [
       "<div>\n",
       "<style scoped>\n",
       "    .dataframe tbody tr th:only-of-type {\n",
       "        vertical-align: middle;\n",
       "    }\n",
       "\n",
       "    .dataframe tbody tr th {\n",
       "        vertical-align: top;\n",
       "    }\n",
       "\n",
       "    .dataframe thead th {\n",
       "        text-align: right;\n",
       "    }\n",
       "</style>\n",
       "<table border=\"1\" class=\"dataframe\">\n",
       "  <thead>\n",
       "    <tr style=\"text-align: right;\">\n",
       "      <th></th>\n",
       "      <th>RegionID</th>\n",
       "      <th>RegionName</th>\n",
       "      <th>City</th>\n",
       "      <th>State</th>\n",
       "      <th>Metro</th>\n",
       "      <th>CountyName</th>\n",
       "      <th>SizeRank</th>\n",
       "      <th>1996-04</th>\n",
       "      <th>1996-05</th>\n",
       "      <th>1996-06</th>\n",
       "      <th>...</th>\n",
       "      <th>2017-07</th>\n",
       "      <th>2017-08</th>\n",
       "      <th>2017-09</th>\n",
       "      <th>2017-10</th>\n",
       "      <th>2017-11</th>\n",
       "      <th>2017-12</th>\n",
       "      <th>2018-01</th>\n",
       "      <th>2018-02</th>\n",
       "      <th>2018-03</th>\n",
       "      <th>2018-04</th>\n",
       "    </tr>\n",
       "  </thead>\n",
       "  <tbody>\n",
       "    <tr>\n",
       "      <th>0</th>\n",
       "      <td>84654</td>\n",
       "      <td>60657</td>\n",
       "      <td>Chicago</td>\n",
       "      <td>IL</td>\n",
       "      <td>Chicago</td>\n",
       "      <td>Cook</td>\n",
       "      <td>1</td>\n",
       "      <td>334200.0</td>\n",
       "      <td>335400.0</td>\n",
       "      <td>336500.0</td>\n",
       "      <td>...</td>\n",
       "      <td>1005500</td>\n",
       "      <td>1007500</td>\n",
       "      <td>1007800</td>\n",
       "      <td>1009600</td>\n",
       "      <td>1013300</td>\n",
       "      <td>1018700</td>\n",
       "      <td>1024400</td>\n",
       "      <td>1030700</td>\n",
       "      <td>1033800</td>\n",
       "      <td>1030600</td>\n",
       "    </tr>\n",
       "    <tr>\n",
       "      <th>1</th>\n",
       "      <td>90668</td>\n",
       "      <td>75070</td>\n",
       "      <td>McKinney</td>\n",
       "      <td>TX</td>\n",
       "      <td>Dallas-Fort Worth</td>\n",
       "      <td>Collin</td>\n",
       "      <td>2</td>\n",
       "      <td>235700.0</td>\n",
       "      <td>236900.0</td>\n",
       "      <td>236700.0</td>\n",
       "      <td>...</td>\n",
       "      <td>308000</td>\n",
       "      <td>310000</td>\n",
       "      <td>312500</td>\n",
       "      <td>314100</td>\n",
       "      <td>315000</td>\n",
       "      <td>316600</td>\n",
       "      <td>318100</td>\n",
       "      <td>319600</td>\n",
       "      <td>321100</td>\n",
       "      <td>321800</td>\n",
       "    </tr>\n",
       "    <tr>\n",
       "      <th>2</th>\n",
       "      <td>91982</td>\n",
       "      <td>77494</td>\n",
       "      <td>Katy</td>\n",
       "      <td>TX</td>\n",
       "      <td>Houston</td>\n",
       "      <td>Harris</td>\n",
       "      <td>3</td>\n",
       "      <td>210400.0</td>\n",
       "      <td>212200.0</td>\n",
       "      <td>212200.0</td>\n",
       "      <td>...</td>\n",
       "      <td>321000</td>\n",
       "      <td>320600</td>\n",
       "      <td>320200</td>\n",
       "      <td>320400</td>\n",
       "      <td>320800</td>\n",
       "      <td>321200</td>\n",
       "      <td>321200</td>\n",
       "      <td>323000</td>\n",
       "      <td>326900</td>\n",
       "      <td>329900</td>\n",
       "    </tr>\n",
       "    <tr>\n",
       "      <th>3</th>\n",
       "      <td>84616</td>\n",
       "      <td>60614</td>\n",
       "      <td>Chicago</td>\n",
       "      <td>IL</td>\n",
       "      <td>Chicago</td>\n",
       "      <td>Cook</td>\n",
       "      <td>4</td>\n",
       "      <td>498100.0</td>\n",
       "      <td>500900.0</td>\n",
       "      <td>503100.0</td>\n",
       "      <td>...</td>\n",
       "      <td>1289800</td>\n",
       "      <td>1287700</td>\n",
       "      <td>1287400</td>\n",
       "      <td>1291500</td>\n",
       "      <td>1296600</td>\n",
       "      <td>1299000</td>\n",
       "      <td>1302700</td>\n",
       "      <td>1306400</td>\n",
       "      <td>1308500</td>\n",
       "      <td>1307000</td>\n",
       "    </tr>\n",
       "    <tr>\n",
       "      <th>4</th>\n",
       "      <td>93144</td>\n",
       "      <td>79936</td>\n",
       "      <td>El Paso</td>\n",
       "      <td>TX</td>\n",
       "      <td>El Paso</td>\n",
       "      <td>El Paso</td>\n",
       "      <td>5</td>\n",
       "      <td>77300.0</td>\n",
       "      <td>77300.0</td>\n",
       "      <td>77300.0</td>\n",
       "      <td>...</td>\n",
       "      <td>119100</td>\n",
       "      <td>119400</td>\n",
       "      <td>120000</td>\n",
       "      <td>120300</td>\n",
       "      <td>120300</td>\n",
       "      <td>120300</td>\n",
       "      <td>120300</td>\n",
       "      <td>120500</td>\n",
       "      <td>121000</td>\n",
       "      <td>121500</td>\n",
       "    </tr>\n",
       "  </tbody>\n",
       "</table>\n",
       "<p>5 rows × 272 columns</p>\n",
       "</div>"
      ],
      "text/plain": [
       "   RegionID  RegionName      City State              Metro CountyName  \\\n",
       "0     84654       60657   Chicago    IL            Chicago       Cook   \n",
       "1     90668       75070  McKinney    TX  Dallas-Fort Worth     Collin   \n",
       "2     91982       77494      Katy    TX            Houston     Harris   \n",
       "3     84616       60614   Chicago    IL            Chicago       Cook   \n",
       "4     93144       79936   El Paso    TX            El Paso    El Paso   \n",
       "\n",
       "   SizeRank   1996-04   1996-05   1996-06  ...  2017-07  2017-08  2017-09  \\\n",
       "0         1  334200.0  335400.0  336500.0  ...  1005500  1007500  1007800   \n",
       "1         2  235700.0  236900.0  236700.0  ...   308000   310000   312500   \n",
       "2         3  210400.0  212200.0  212200.0  ...   321000   320600   320200   \n",
       "3         4  498100.0  500900.0  503100.0  ...  1289800  1287700  1287400   \n",
       "4         5   77300.0   77300.0   77300.0  ...   119100   119400   120000   \n",
       "\n",
       "   2017-10  2017-11  2017-12  2018-01  2018-02  2018-03  2018-04  \n",
       "0  1009600  1013300  1018700  1024400  1030700  1033800  1030600  \n",
       "1   314100   315000   316600   318100   319600   321100   321800  \n",
       "2   320400   320800   321200   321200   323000   326900   329900  \n",
       "3  1291500  1296600  1299000  1302700  1306400  1308500  1307000  \n",
       "4   120300   120300   120300   120300   120500   121000   121500  \n",
       "\n",
       "[5 rows x 272 columns]"
      ]
     },
     "execution_count": 383,
     "metadata": {},
     "output_type": "execute_result"
    }
   ],
   "source": [
    "df.head()"
   ]
  },
  {
   "cell_type": "markdown",
   "metadata": {},
   "source": [
    "### Try and get Dates alone"
   ]
  },
  {
   "cell_type": "code",
   "execution_count": 384,
   "metadata": {
    "ExecuteTime": {
     "end_time": "2022-01-03T19:39:32.212073Z",
     "start_time": "2022-01-03T19:39:32.180444Z"
    }
   },
   "outputs": [],
   "source": [
    "filter_col1 = [col for col in df if col.startswith('20')]"
   ]
  },
  {
   "cell_type": "code",
   "execution_count": 385,
   "metadata": {
    "ExecuteTime": {
     "end_time": "2022-01-03T19:39:32.228516Z",
     "start_time": "2022-01-03T19:39:32.222059Z"
    }
   },
   "outputs": [],
   "source": [
    "filter_col2=[col for col in df if col.startswith('199')]"
   ]
  },
  {
   "cell_type": "code",
   "execution_count": 386,
   "metadata": {
    "ExecuteTime": {
     "end_time": "2022-01-03T19:39:32.242524Z",
     "start_time": "2022-01-03T19:39:32.234699Z"
    }
   },
   "outputs": [],
   "source": [
    "filter_col1.append(filter_col2)"
   ]
  },
  {
   "cell_type": "code",
   "execution_count": 395,
   "metadata": {
    "ExecuteTime": {
     "end_time": "2022-01-03T19:39:49.242037Z",
     "start_time": "2022-01-03T19:39:49.189337Z"
    }
   },
   "outputs": [],
   "source": [
    "dates_df=df.drop(['RegionID','RegionName','City','State','Metro','CountyName','SizeRank'],axis=1)"
   ]
  },
  {
   "cell_type": "code",
   "execution_count": 396,
   "metadata": {
    "ExecuteTime": {
     "end_time": "2022-01-03T19:39:50.480866Z",
     "start_time": "2022-01-03T19:39:49.912477Z"
    }
   },
   "outputs": [],
   "source": [
    "dates_df2=dates_df.stack().reset_index()"
   ]
  },
  {
   "cell_type": "code",
   "execution_count": 397,
   "metadata": {
    "ExecuteTime": {
     "end_time": "2022-01-03T19:39:50.613570Z",
     "start_time": "2022-01-03T19:39:50.555152Z"
    },
    "scrolled": true
   },
   "outputs": [
    {
     "data": {
      "text/html": [
       "<div>\n",
       "<style scoped>\n",
       "    .dataframe tbody tr th:only-of-type {\n",
       "        vertical-align: middle;\n",
       "    }\n",
       "\n",
       "    .dataframe tbody tr th {\n",
       "        vertical-align: top;\n",
       "    }\n",
       "\n",
       "    .dataframe thead th {\n",
       "        text-align: right;\n",
       "    }\n",
       "</style>\n",
       "<table border=\"1\" class=\"dataframe\">\n",
       "  <thead>\n",
       "    <tr style=\"text-align: right;\">\n",
       "      <th></th>\n",
       "      <th>level_0</th>\n",
       "      <th>level_1</th>\n",
       "      <th>0</th>\n",
       "    </tr>\n",
       "  </thead>\n",
       "  <tbody>\n",
       "    <tr>\n",
       "      <th>0</th>\n",
       "      <td>0</td>\n",
       "      <td>1996-04</td>\n",
       "      <td>334200.0</td>\n",
       "    </tr>\n",
       "    <tr>\n",
       "      <th>1</th>\n",
       "      <td>0</td>\n",
       "      <td>1996-05</td>\n",
       "      <td>335400.0</td>\n",
       "    </tr>\n",
       "    <tr>\n",
       "      <th>2</th>\n",
       "      <td>0</td>\n",
       "      <td>1996-06</td>\n",
       "      <td>336500.0</td>\n",
       "    </tr>\n",
       "    <tr>\n",
       "      <th>3</th>\n",
       "      <td>0</td>\n",
       "      <td>1996-07</td>\n",
       "      <td>337600.0</td>\n",
       "    </tr>\n",
       "    <tr>\n",
       "      <th>4</th>\n",
       "      <td>0</td>\n",
       "      <td>1996-08</td>\n",
       "      <td>338500.0</td>\n",
       "    </tr>\n",
       "    <tr>\n",
       "      <th>...</th>\n",
       "      <td>...</td>\n",
       "      <td>...</td>\n",
       "      <td>...</td>\n",
       "    </tr>\n",
       "    <tr>\n",
       "      <th>3744699</th>\n",
       "      <td>14722</td>\n",
       "      <td>2017-12</td>\n",
       "      <td>348900.0</td>\n",
       "    </tr>\n",
       "    <tr>\n",
       "      <th>3744700</th>\n",
       "      <td>14722</td>\n",
       "      <td>2018-01</td>\n",
       "      <td>350400.0</td>\n",
       "    </tr>\n",
       "    <tr>\n",
       "      <th>3744701</th>\n",
       "      <td>14722</td>\n",
       "      <td>2018-02</td>\n",
       "      <td>353000.0</td>\n",
       "    </tr>\n",
       "    <tr>\n",
       "      <th>3744702</th>\n",
       "      <td>14722</td>\n",
       "      <td>2018-03</td>\n",
       "      <td>356000.0</td>\n",
       "    </tr>\n",
       "    <tr>\n",
       "      <th>3744703</th>\n",
       "      <td>14722</td>\n",
       "      <td>2018-04</td>\n",
       "      <td>357200.0</td>\n",
       "    </tr>\n",
       "  </tbody>\n",
       "</table>\n",
       "<p>3744704 rows × 3 columns</p>\n",
       "</div>"
      ],
      "text/plain": [
       "         level_0  level_1         0\n",
       "0              0  1996-04  334200.0\n",
       "1              0  1996-05  335400.0\n",
       "2              0  1996-06  336500.0\n",
       "3              0  1996-07  337600.0\n",
       "4              0  1996-08  338500.0\n",
       "...          ...      ...       ...\n",
       "3744699    14722  2017-12  348900.0\n",
       "3744700    14722  2018-01  350400.0\n",
       "3744701    14722  2018-02  353000.0\n",
       "3744702    14722  2018-03  356000.0\n",
       "3744703    14722  2018-04  357200.0\n",
       "\n",
       "[3744704 rows x 3 columns]"
      ]
     },
     "execution_count": 397,
     "metadata": {},
     "output_type": "execute_result"
    }
   ],
   "source": [
    "dates_df2"
   ]
  },
  {
   "cell_type": "code",
   "execution_count": 398,
   "metadata": {
    "ExecuteTime": {
     "end_time": "2022-01-03T19:39:50.762969Z",
     "start_time": "2022-01-03T19:39:50.649501Z"
    }
   },
   "outputs": [],
   "source": [
    "dates_df2=dates_df2.rename({'level_1':'Date',0:'Median_Value'},axis='columns')"
   ]
  },
  {
   "cell_type": "code",
   "execution_count": 399,
   "metadata": {
    "ExecuteTime": {
     "end_time": "2022-01-03T19:39:51.780985Z",
     "start_time": "2022-01-03T19:39:51.632940Z"
    }
   },
   "outputs": [],
   "source": [
    "dates_df2.drop(['level_0'],axis=1,inplace=True)"
   ]
  },
  {
   "cell_type": "code",
   "execution_count": 400,
   "metadata": {
    "ExecuteTime": {
     "end_time": "2022-01-03T19:39:52.170465Z",
     "start_time": "2022-01-03T19:39:52.148061Z"
    }
   },
   "outputs": [
    {
     "data": {
      "text/plain": [
       "Index(['Date', 'Median_Value'], dtype='object')"
      ]
     },
     "execution_count": 400,
     "metadata": {},
     "output_type": "execute_result"
    }
   ],
   "source": [
    "dates_df2.columns"
   ]
  },
  {
   "cell_type": "code",
   "execution_count": 401,
   "metadata": {
    "ExecuteTime": {
     "end_time": "2022-01-03T19:39:53.335331Z",
     "start_time": "2022-01-03T19:39:52.689075Z"
    }
   },
   "outputs": [],
   "source": [
    "dates_df2['Date']=pd.to_datetime(dates_df2['Date'])"
   ]
  },
  {
   "cell_type": "code",
   "execution_count": 402,
   "metadata": {
    "ExecuteTime": {
     "end_time": "2022-01-03T19:39:53.949389Z",
     "start_time": "2022-01-03T19:39:53.904902Z"
    }
   },
   "outputs": [
    {
     "name": "stdout",
     "output_type": "stream",
     "text": [
      "<class 'pandas.core.frame.DataFrame'>\n",
      "RangeIndex: 3744704 entries, 0 to 3744703\n",
      "Data columns (total 2 columns):\n",
      " #   Column        Dtype         \n",
      "---  ------        -----         \n",
      " 0   Date          datetime64[ns]\n",
      " 1   Median_Value  float64       \n",
      "dtypes: datetime64[ns](1), float64(1)\n",
      "memory usage: 57.1 MB\n"
     ]
    }
   ],
   "source": [
    "dates_df2.info()"
   ]
  },
  {
   "cell_type": "code",
   "execution_count": 403,
   "metadata": {
    "ExecuteTime": {
     "end_time": "2022-01-03T19:39:55.312442Z",
     "start_time": "2022-01-03T19:39:55.249710Z"
    }
   },
   "outputs": [],
   "source": [
    "dates_df2.set_index('Date',inplace=True)"
   ]
  },
  {
   "cell_type": "code",
   "execution_count": 404,
   "metadata": {
    "ExecuteTime": {
     "end_time": "2022-01-03T19:39:55.792623Z",
     "start_time": "2022-01-03T19:39:55.773770Z"
    }
   },
   "outputs": [
    {
     "data": {
      "text/html": [
       "<div>\n",
       "<style scoped>\n",
       "    .dataframe tbody tr th:only-of-type {\n",
       "        vertical-align: middle;\n",
       "    }\n",
       "\n",
       "    .dataframe tbody tr th {\n",
       "        vertical-align: top;\n",
       "    }\n",
       "\n",
       "    .dataframe thead th {\n",
       "        text-align: right;\n",
       "    }\n",
       "</style>\n",
       "<table border=\"1\" class=\"dataframe\">\n",
       "  <thead>\n",
       "    <tr style=\"text-align: right;\">\n",
       "      <th></th>\n",
       "      <th>Median_Value</th>\n",
       "    </tr>\n",
       "    <tr>\n",
       "      <th>Date</th>\n",
       "      <th></th>\n",
       "    </tr>\n",
       "  </thead>\n",
       "  <tbody>\n",
       "    <tr>\n",
       "      <th>1996-04-01</th>\n",
       "      <td>334200.0</td>\n",
       "    </tr>\n",
       "    <tr>\n",
       "      <th>1996-05-01</th>\n",
       "      <td>335400.0</td>\n",
       "    </tr>\n",
       "    <tr>\n",
       "      <th>1996-06-01</th>\n",
       "      <td>336500.0</td>\n",
       "    </tr>\n",
       "    <tr>\n",
       "      <th>1996-07-01</th>\n",
       "      <td>337600.0</td>\n",
       "    </tr>\n",
       "    <tr>\n",
       "      <th>1996-08-01</th>\n",
       "      <td>338500.0</td>\n",
       "    </tr>\n",
       "    <tr>\n",
       "      <th>...</th>\n",
       "      <td>...</td>\n",
       "    </tr>\n",
       "    <tr>\n",
       "      <th>2017-12-01</th>\n",
       "      <td>348900.0</td>\n",
       "    </tr>\n",
       "    <tr>\n",
       "      <th>2018-01-01</th>\n",
       "      <td>350400.0</td>\n",
       "    </tr>\n",
       "    <tr>\n",
       "      <th>2018-02-01</th>\n",
       "      <td>353000.0</td>\n",
       "    </tr>\n",
       "    <tr>\n",
       "      <th>2018-03-01</th>\n",
       "      <td>356000.0</td>\n",
       "    </tr>\n",
       "    <tr>\n",
       "      <th>2018-04-01</th>\n",
       "      <td>357200.0</td>\n",
       "    </tr>\n",
       "  </tbody>\n",
       "</table>\n",
       "<p>3744704 rows × 1 columns</p>\n",
       "</div>"
      ],
      "text/plain": [
       "            Median_Value\n",
       "Date                    \n",
       "1996-04-01      334200.0\n",
       "1996-05-01      335400.0\n",
       "1996-06-01      336500.0\n",
       "1996-07-01      337600.0\n",
       "1996-08-01      338500.0\n",
       "...                  ...\n",
       "2017-12-01      348900.0\n",
       "2018-01-01      350400.0\n",
       "2018-02-01      353000.0\n",
       "2018-03-01      356000.0\n",
       "2018-04-01      357200.0\n",
       "\n",
       "[3744704 rows x 1 columns]"
      ]
     },
     "execution_count": 404,
     "metadata": {},
     "output_type": "execute_result"
    }
   ],
   "source": [
    "dates_df2"
   ]
  },
  {
   "cell_type": "code",
   "execution_count": 405,
   "metadata": {
    "ExecuteTime": {
     "end_time": "2022-01-03T19:39:56.582208Z",
     "start_time": "2022-01-03T19:39:56.576815Z"
    }
   },
   "outputs": [],
   "source": [
    "into_df=['RegionID','RegionName','City','State','Metro','CountyName','SizeRank']"
   ]
  },
  {
   "cell_type": "code",
   "execution_count": 406,
   "metadata": {
    "ExecuteTime": {
     "end_time": "2022-01-03T19:39:57.054432Z",
     "start_time": "2022-01-03T19:39:57.030088Z"
    }
   },
   "outputs": [],
   "source": [
    "other_df= df[into_df]"
   ]
  },
  {
   "cell_type": "code",
   "execution_count": 407,
   "metadata": {
    "ExecuteTime": {
     "end_time": "2022-01-03T19:39:58.429161Z",
     "start_time": "2022-01-03T19:39:58.364386Z"
    },
    "scrolled": false
   },
   "outputs": [
    {
     "data": {
      "text/html": [
       "<div>\n",
       "<style scoped>\n",
       "    .dataframe tbody tr th:only-of-type {\n",
       "        vertical-align: middle;\n",
       "    }\n",
       "\n",
       "    .dataframe tbody tr th {\n",
       "        vertical-align: top;\n",
       "    }\n",
       "\n",
       "    .dataframe thead th {\n",
       "        text-align: right;\n",
       "    }\n",
       "</style>\n",
       "<table border=\"1\" class=\"dataframe\">\n",
       "  <thead>\n",
       "    <tr style=\"text-align: right;\">\n",
       "      <th></th>\n",
       "      <th>RegionID</th>\n",
       "      <th>RegionName</th>\n",
       "      <th>City</th>\n",
       "      <th>State</th>\n",
       "      <th>Metro</th>\n",
       "      <th>CountyName</th>\n",
       "      <th>SizeRank</th>\n",
       "    </tr>\n",
       "  </thead>\n",
       "  <tbody>\n",
       "    <tr>\n",
       "      <th>0</th>\n",
       "      <td>84654</td>\n",
       "      <td>60657</td>\n",
       "      <td>Chicago</td>\n",
       "      <td>IL</td>\n",
       "      <td>Chicago</td>\n",
       "      <td>Cook</td>\n",
       "      <td>1</td>\n",
       "    </tr>\n",
       "    <tr>\n",
       "      <th>1</th>\n",
       "      <td>90668</td>\n",
       "      <td>75070</td>\n",
       "      <td>McKinney</td>\n",
       "      <td>TX</td>\n",
       "      <td>Dallas-Fort Worth</td>\n",
       "      <td>Collin</td>\n",
       "      <td>2</td>\n",
       "    </tr>\n",
       "    <tr>\n",
       "      <th>2</th>\n",
       "      <td>91982</td>\n",
       "      <td>77494</td>\n",
       "      <td>Katy</td>\n",
       "      <td>TX</td>\n",
       "      <td>Houston</td>\n",
       "      <td>Harris</td>\n",
       "      <td>3</td>\n",
       "    </tr>\n",
       "    <tr>\n",
       "      <th>3</th>\n",
       "      <td>84616</td>\n",
       "      <td>60614</td>\n",
       "      <td>Chicago</td>\n",
       "      <td>IL</td>\n",
       "      <td>Chicago</td>\n",
       "      <td>Cook</td>\n",
       "      <td>4</td>\n",
       "    </tr>\n",
       "    <tr>\n",
       "      <th>4</th>\n",
       "      <td>93144</td>\n",
       "      <td>79936</td>\n",
       "      <td>El Paso</td>\n",
       "      <td>TX</td>\n",
       "      <td>El Paso</td>\n",
       "      <td>El Paso</td>\n",
       "      <td>5</td>\n",
       "    </tr>\n",
       "    <tr>\n",
       "      <th>...</th>\n",
       "      <td>...</td>\n",
       "      <td>...</td>\n",
       "      <td>...</td>\n",
       "      <td>...</td>\n",
       "      <td>...</td>\n",
       "      <td>...</td>\n",
       "      <td>...</td>\n",
       "    </tr>\n",
       "    <tr>\n",
       "      <th>14718</th>\n",
       "      <td>58333</td>\n",
       "      <td>1338</td>\n",
       "      <td>Ashfield</td>\n",
       "      <td>MA</td>\n",
       "      <td>Greenfield Town</td>\n",
       "      <td>Franklin</td>\n",
       "      <td>14719</td>\n",
       "    </tr>\n",
       "    <tr>\n",
       "      <th>14719</th>\n",
       "      <td>59107</td>\n",
       "      <td>3293</td>\n",
       "      <td>Woodstock</td>\n",
       "      <td>NH</td>\n",
       "      <td>Claremont</td>\n",
       "      <td>Grafton</td>\n",
       "      <td>14720</td>\n",
       "    </tr>\n",
       "    <tr>\n",
       "      <th>14720</th>\n",
       "      <td>75672</td>\n",
       "      <td>40404</td>\n",
       "      <td>Berea</td>\n",
       "      <td>KY</td>\n",
       "      <td>Richmond</td>\n",
       "      <td>Madison</td>\n",
       "      <td>14721</td>\n",
       "    </tr>\n",
       "    <tr>\n",
       "      <th>14721</th>\n",
       "      <td>93733</td>\n",
       "      <td>81225</td>\n",
       "      <td>Mount Crested Butte</td>\n",
       "      <td>CO</td>\n",
       "      <td>NaN</td>\n",
       "      <td>Gunnison</td>\n",
       "      <td>14722</td>\n",
       "    </tr>\n",
       "    <tr>\n",
       "      <th>14722</th>\n",
       "      <td>95851</td>\n",
       "      <td>89155</td>\n",
       "      <td>Mesquite</td>\n",
       "      <td>NV</td>\n",
       "      <td>Las Vegas</td>\n",
       "      <td>Clark</td>\n",
       "      <td>14723</td>\n",
       "    </tr>\n",
       "  </tbody>\n",
       "</table>\n",
       "<p>14723 rows × 7 columns</p>\n",
       "</div>"
      ],
      "text/plain": [
       "       RegionID  RegionName                 City State              Metro  \\\n",
       "0         84654       60657              Chicago    IL            Chicago   \n",
       "1         90668       75070             McKinney    TX  Dallas-Fort Worth   \n",
       "2         91982       77494                 Katy    TX            Houston   \n",
       "3         84616       60614              Chicago    IL            Chicago   \n",
       "4         93144       79936              El Paso    TX            El Paso   \n",
       "...         ...         ...                  ...   ...                ...   \n",
       "14718     58333        1338             Ashfield    MA    Greenfield Town   \n",
       "14719     59107        3293            Woodstock    NH          Claremont   \n",
       "14720     75672       40404                Berea    KY           Richmond   \n",
       "14721     93733       81225  Mount Crested Butte    CO                NaN   \n",
       "14722     95851       89155             Mesquite    NV          Las Vegas   \n",
       "\n",
       "      CountyName  SizeRank  \n",
       "0           Cook         1  \n",
       "1         Collin         2  \n",
       "2         Harris         3  \n",
       "3           Cook         4  \n",
       "4        El Paso         5  \n",
       "...          ...       ...  \n",
       "14718   Franklin     14719  \n",
       "14719    Grafton     14720  \n",
       "14720    Madison     14721  \n",
       "14721   Gunnison     14722  \n",
       "14722      Clark     14723  \n",
       "\n",
       "[14723 rows x 7 columns]"
      ]
     },
     "execution_count": 407,
     "metadata": {},
     "output_type": "execute_result"
    }
   ],
   "source": [
    "other_df"
   ]
  },
  {
   "cell_type": "markdown",
   "metadata": {},
   "source": [
    "### Try new direction"
   ]
  },
  {
   "cell_type": "code",
   "execution_count": 408,
   "metadata": {
    "ExecuteTime": {
     "end_time": "2022-01-03T19:40:02.990317Z",
     "start_time": "2022-01-03T19:40:02.966587Z"
    }
   },
   "outputs": [],
   "source": [
    "def melt_data2(df):\n",
    "    \"\"\"\n",
    "    Takes the zillow_data dataset in wide form or a subset of the zillow_dataset.  \n",
    "    Returns a long-form datetime dataframe \n",
    "    with the datetime column names as the index and the values as the 'values' column.\n",
    "    \n",
    "    If more than one row is passes in the wide-form dataset, the values column\n",
    "    will be the mean of the values from the datetime columns in all of the rows.\n",
    "    \"\"\"\n",
    "    \n",
    "    melted = pd.melt(df, id_vars=['RegionName', 'RegionID', 'SizeRank', 'City', 'State', 'Metro', 'CountyName'], var_name='time')\n",
    "    melted['time'] = pd.to_datetime(melted['time'], infer_datetime_format=True)\n",
    "    melted = melted.dropna(subset=['value'])\n",
    "    return melted"
   ]
  },
  {
   "cell_type": "code",
   "execution_count": 409,
   "metadata": {
    "ExecuteTime": {
     "end_time": "2022-01-03T19:40:09.115299Z",
     "start_time": "2022-01-03T19:40:05.443410Z"
    }
   },
   "outputs": [],
   "source": [
    "df=melt_data2(df)"
   ]
  },
  {
   "cell_type": "code",
   "execution_count": 410,
   "metadata": {
    "ExecuteTime": {
     "end_time": "2022-01-03T19:40:09.218080Z",
     "start_time": "2022-01-03T19:40:09.190413Z"
    }
   },
   "outputs": [],
   "source": [
    "df.set_index('time',inplace=True)"
   ]
  },
  {
   "cell_type": "code",
   "execution_count": 411,
   "metadata": {
    "ExecuteTime": {
     "end_time": "2022-01-03T19:40:09.513378Z",
     "start_time": "2022-01-03T19:40:09.262990Z"
    }
   },
   "outputs": [
    {
     "data": {
      "text/plain": [
       "76690     46\n",
       "99281     46\n",
       "79637     46\n",
       "73597     46\n",
       "85339     46\n",
       "        ... \n",
       "77986    265\n",
       "92334    265\n",
       "77984    265\n",
       "86185    265\n",
       "99930    265\n",
       "Name: RegionID, Length: 14723, dtype: int64"
      ]
     },
     "execution_count": 411,
     "metadata": {},
     "output_type": "execute_result"
    }
   ],
   "source": [
    "df.RegionID.value_counts().sort_values()"
   ]
  },
  {
   "cell_type": "code",
   "execution_count": 412,
   "metadata": {
    "ExecuteTime": {
     "end_time": "2022-01-03T19:40:09.566014Z",
     "start_time": "2022-01-03T19:40:09.515814Z"
    }
   },
   "outputs": [
    {
     "data": {
      "text/html": [
       "<div>\n",
       "<style scoped>\n",
       "    .dataframe tbody tr th:only-of-type {\n",
       "        vertical-align: middle;\n",
       "    }\n",
       "\n",
       "    .dataframe tbody tr th {\n",
       "        vertical-align: top;\n",
       "    }\n",
       "\n",
       "    .dataframe thead th {\n",
       "        text-align: right;\n",
       "    }\n",
       "</style>\n",
       "<table border=\"1\" class=\"dataframe\">\n",
       "  <thead>\n",
       "    <tr style=\"text-align: right;\">\n",
       "      <th></th>\n",
       "      <th>RegionName</th>\n",
       "      <th>RegionID</th>\n",
       "      <th>SizeRank</th>\n",
       "      <th>City</th>\n",
       "      <th>State</th>\n",
       "      <th>Metro</th>\n",
       "      <th>CountyName</th>\n",
       "      <th>value</th>\n",
       "    </tr>\n",
       "    <tr>\n",
       "      <th>time</th>\n",
       "      <th></th>\n",
       "      <th></th>\n",
       "      <th></th>\n",
       "      <th></th>\n",
       "      <th></th>\n",
       "      <th></th>\n",
       "      <th></th>\n",
       "      <th></th>\n",
       "    </tr>\n",
       "  </thead>\n",
       "  <tbody>\n",
       "    <tr>\n",
       "      <th>1996-04-01</th>\n",
       "      <td>60657</td>\n",
       "      <td>84654</td>\n",
       "      <td>1</td>\n",
       "      <td>Chicago</td>\n",
       "      <td>IL</td>\n",
       "      <td>Chicago</td>\n",
       "      <td>Cook</td>\n",
       "      <td>334200.0</td>\n",
       "    </tr>\n",
       "    <tr>\n",
       "      <th>1996-04-01</th>\n",
       "      <td>75070</td>\n",
       "      <td>90668</td>\n",
       "      <td>2</td>\n",
       "      <td>McKinney</td>\n",
       "      <td>TX</td>\n",
       "      <td>Dallas-Fort Worth</td>\n",
       "      <td>Collin</td>\n",
       "      <td>235700.0</td>\n",
       "    </tr>\n",
       "    <tr>\n",
       "      <th>1996-04-01</th>\n",
       "      <td>77494</td>\n",
       "      <td>91982</td>\n",
       "      <td>3</td>\n",
       "      <td>Katy</td>\n",
       "      <td>TX</td>\n",
       "      <td>Houston</td>\n",
       "      <td>Harris</td>\n",
       "      <td>210400.0</td>\n",
       "    </tr>\n",
       "    <tr>\n",
       "      <th>1996-04-01</th>\n",
       "      <td>60614</td>\n",
       "      <td>84616</td>\n",
       "      <td>4</td>\n",
       "      <td>Chicago</td>\n",
       "      <td>IL</td>\n",
       "      <td>Chicago</td>\n",
       "      <td>Cook</td>\n",
       "      <td>498100.0</td>\n",
       "    </tr>\n",
       "    <tr>\n",
       "      <th>1996-04-01</th>\n",
       "      <td>79936</td>\n",
       "      <td>93144</td>\n",
       "      <td>5</td>\n",
       "      <td>El Paso</td>\n",
       "      <td>TX</td>\n",
       "      <td>El Paso</td>\n",
       "      <td>El Paso</td>\n",
       "      <td>77300.0</td>\n",
       "    </tr>\n",
       "    <tr>\n",
       "      <th>...</th>\n",
       "      <td>...</td>\n",
       "      <td>...</td>\n",
       "      <td>...</td>\n",
       "      <td>...</td>\n",
       "      <td>...</td>\n",
       "      <td>...</td>\n",
       "      <td>...</td>\n",
       "      <td>...</td>\n",
       "    </tr>\n",
       "    <tr>\n",
       "      <th>2018-04-01</th>\n",
       "      <td>1338</td>\n",
       "      <td>58333</td>\n",
       "      <td>14719</td>\n",
       "      <td>Ashfield</td>\n",
       "      <td>MA</td>\n",
       "      <td>Greenfield Town</td>\n",
       "      <td>Franklin</td>\n",
       "      <td>209300.0</td>\n",
       "    </tr>\n",
       "    <tr>\n",
       "      <th>2018-04-01</th>\n",
       "      <td>3293</td>\n",
       "      <td>59107</td>\n",
       "      <td>14720</td>\n",
       "      <td>Woodstock</td>\n",
       "      <td>NH</td>\n",
       "      <td>Claremont</td>\n",
       "      <td>Grafton</td>\n",
       "      <td>225800.0</td>\n",
       "    </tr>\n",
       "    <tr>\n",
       "      <th>2018-04-01</th>\n",
       "      <td>40404</td>\n",
       "      <td>75672</td>\n",
       "      <td>14721</td>\n",
       "      <td>Berea</td>\n",
       "      <td>KY</td>\n",
       "      <td>Richmond</td>\n",
       "      <td>Madison</td>\n",
       "      <td>133400.0</td>\n",
       "    </tr>\n",
       "    <tr>\n",
       "      <th>2018-04-01</th>\n",
       "      <td>81225</td>\n",
       "      <td>93733</td>\n",
       "      <td>14722</td>\n",
       "      <td>Mount Crested Butte</td>\n",
       "      <td>CO</td>\n",
       "      <td>NaN</td>\n",
       "      <td>Gunnison</td>\n",
       "      <td>664400.0</td>\n",
       "    </tr>\n",
       "    <tr>\n",
       "      <th>2018-04-01</th>\n",
       "      <td>89155</td>\n",
       "      <td>95851</td>\n",
       "      <td>14723</td>\n",
       "      <td>Mesquite</td>\n",
       "      <td>NV</td>\n",
       "      <td>Las Vegas</td>\n",
       "      <td>Clark</td>\n",
       "      <td>357200.0</td>\n",
       "    </tr>\n",
       "  </tbody>\n",
       "</table>\n",
       "<p>3744704 rows × 8 columns</p>\n",
       "</div>"
      ],
      "text/plain": [
       "            RegionName  RegionID  SizeRank                 City State  \\\n",
       "time                                                                    \n",
       "1996-04-01       60657     84654         1              Chicago    IL   \n",
       "1996-04-01       75070     90668         2             McKinney    TX   \n",
       "1996-04-01       77494     91982         3                 Katy    TX   \n",
       "1996-04-01       60614     84616         4              Chicago    IL   \n",
       "1996-04-01       79936     93144         5              El Paso    TX   \n",
       "...                ...       ...       ...                  ...   ...   \n",
       "2018-04-01        1338     58333     14719             Ashfield    MA   \n",
       "2018-04-01        3293     59107     14720            Woodstock    NH   \n",
       "2018-04-01       40404     75672     14721                Berea    KY   \n",
       "2018-04-01       81225     93733     14722  Mount Crested Butte    CO   \n",
       "2018-04-01       89155     95851     14723             Mesquite    NV   \n",
       "\n",
       "                        Metro CountyName     value  \n",
       "time                                                \n",
       "1996-04-01            Chicago       Cook  334200.0  \n",
       "1996-04-01  Dallas-Fort Worth     Collin  235700.0  \n",
       "1996-04-01            Houston     Harris  210400.0  \n",
       "1996-04-01            Chicago       Cook  498100.0  \n",
       "1996-04-01            El Paso    El Paso   77300.0  \n",
       "...                       ...        ...       ...  \n",
       "2018-04-01    Greenfield Town   Franklin  209300.0  \n",
       "2018-04-01          Claremont    Grafton  225800.0  \n",
       "2018-04-01           Richmond    Madison  133400.0  \n",
       "2018-04-01                NaN   Gunnison  664400.0  \n",
       "2018-04-01          Las Vegas      Clark  357200.0  \n",
       "\n",
       "[3744704 rows x 8 columns]"
      ]
     },
     "execution_count": 412,
     "metadata": {},
     "output_type": "execute_result"
    }
   ],
   "source": [
    "df"
   ]
  },
  {
   "cell_type": "code",
   "execution_count": 352,
   "metadata": {
    "ExecuteTime": {
     "end_time": "2022-01-03T19:37:04.209019Z",
     "start_time": "2022-01-03T19:37:04.203184Z"
    },
    "scrolled": true
   },
   "outputs": [],
   "source": [
    "#font = {'family' : 'normal',\n",
    "        #'weight' : 'bold',\n",
    "        #'size'   : 22}\n",
    "\n",
    "#plt.rc('font', **font)\n",
    "\n",
    "# NOTE: if you visualizations are too cluttered to read, try calling 'plt.gcf().autofmt_xdate()'!"
   ]
  },
  {
   "cell_type": "code",
   "execution_count": 413,
   "metadata": {
    "ExecuteTime": {
     "end_time": "2022-01-03T19:40:17.575148Z",
     "start_time": "2022-01-03T19:40:17.506620Z"
    }
   },
   "outputs": [],
   "source": [
    "list2=['RegionID','value']\n",
    "df_plot= df[list2]"
   ]
  },
  {
   "cell_type": "code",
   "execution_count": 414,
   "metadata": {
    "ExecuteTime": {
     "end_time": "2022-01-03T19:40:20.630694Z",
     "start_time": "2022-01-03T19:40:20.605222Z"
    }
   },
   "outputs": [
    {
     "data": {
      "text/html": [
       "<div>\n",
       "<style scoped>\n",
       "    .dataframe tbody tr th:only-of-type {\n",
       "        vertical-align: middle;\n",
       "    }\n",
       "\n",
       "    .dataframe tbody tr th {\n",
       "        vertical-align: top;\n",
       "    }\n",
       "\n",
       "    .dataframe thead th {\n",
       "        text-align: right;\n",
       "    }\n",
       "</style>\n",
       "<table border=\"1\" class=\"dataframe\">\n",
       "  <thead>\n",
       "    <tr style=\"text-align: right;\">\n",
       "      <th></th>\n",
       "      <th>RegionID</th>\n",
       "      <th>value</th>\n",
       "    </tr>\n",
       "    <tr>\n",
       "      <th>time</th>\n",
       "      <th></th>\n",
       "      <th></th>\n",
       "    </tr>\n",
       "  </thead>\n",
       "  <tbody>\n",
       "    <tr>\n",
       "      <th>1996-04-01</th>\n",
       "      <td>84654</td>\n",
       "      <td>334200.0</td>\n",
       "    </tr>\n",
       "    <tr>\n",
       "      <th>1996-04-01</th>\n",
       "      <td>90668</td>\n",
       "      <td>235700.0</td>\n",
       "    </tr>\n",
       "    <tr>\n",
       "      <th>1996-04-01</th>\n",
       "      <td>91982</td>\n",
       "      <td>210400.0</td>\n",
       "    </tr>\n",
       "    <tr>\n",
       "      <th>1996-04-01</th>\n",
       "      <td>84616</td>\n",
       "      <td>498100.0</td>\n",
       "    </tr>\n",
       "    <tr>\n",
       "      <th>1996-04-01</th>\n",
       "      <td>93144</td>\n",
       "      <td>77300.0</td>\n",
       "    </tr>\n",
       "    <tr>\n",
       "      <th>...</th>\n",
       "      <td>...</td>\n",
       "      <td>...</td>\n",
       "    </tr>\n",
       "    <tr>\n",
       "      <th>2018-04-01</th>\n",
       "      <td>58333</td>\n",
       "      <td>209300.0</td>\n",
       "    </tr>\n",
       "    <tr>\n",
       "      <th>2018-04-01</th>\n",
       "      <td>59107</td>\n",
       "      <td>225800.0</td>\n",
       "    </tr>\n",
       "    <tr>\n",
       "      <th>2018-04-01</th>\n",
       "      <td>75672</td>\n",
       "      <td>133400.0</td>\n",
       "    </tr>\n",
       "    <tr>\n",
       "      <th>2018-04-01</th>\n",
       "      <td>93733</td>\n",
       "      <td>664400.0</td>\n",
       "    </tr>\n",
       "    <tr>\n",
       "      <th>2018-04-01</th>\n",
       "      <td>95851</td>\n",
       "      <td>357200.0</td>\n",
       "    </tr>\n",
       "  </tbody>\n",
       "</table>\n",
       "<p>3744704 rows × 2 columns</p>\n",
       "</div>"
      ],
      "text/plain": [
       "            RegionID     value\n",
       "time                          \n",
       "1996-04-01     84654  334200.0\n",
       "1996-04-01     90668  235700.0\n",
       "1996-04-01     91982  210400.0\n",
       "1996-04-01     84616  498100.0\n",
       "1996-04-01     93144   77300.0\n",
       "...              ...       ...\n",
       "2018-04-01     58333  209300.0\n",
       "2018-04-01     59107  225800.0\n",
       "2018-04-01     75672  133400.0\n",
       "2018-04-01     93733  664400.0\n",
       "2018-04-01     95851  357200.0\n",
       "\n",
       "[3744704 rows x 2 columns]"
      ]
     },
     "execution_count": 414,
     "metadata": {},
     "output_type": "execute_result"
    }
   ],
   "source": [
    "df_plot"
   ]
  },
  {
   "cell_type": "code",
   "execution_count": 415,
   "metadata": {
    "ExecuteTime": {
     "end_time": "2022-01-03T19:40:26.706547Z",
     "start_time": "2022-01-03T19:40:23.210728Z"
    }
   },
   "outputs": [
    {
     "data": {
      "text/plain": [
       "[<matplotlib.lines.Line2D at 0x140c00a60>,\n",
       " <matplotlib.lines.Line2D at 0x1e49c0f10>]"
      ]
     },
     "execution_count": 415,
     "metadata": {},
     "output_type": "execute_result"
    },
    {
     "data": {
      "image/png": "[encoded data removed]",
      "text/plain": [
       "<Figure size 432x288 with 1 Axes>"
      ]
     },
     "metadata": {
      "needs_background": "light"
     },
     "output_type": "display_data"
    }
   ],
   "source": [
    "fig,ax= plt.subplots()\n",
    "ax.plot(df_plot)\n"
   ]
  },
  {
   "cell_type": "code",
   "execution_count": 416,
   "metadata": {
    "ExecuteTime": {
     "end_time": "2022-01-03T19:40:39.851166Z",
     "start_time": "2022-01-03T19:40:31.527070Z"
    }
   },
   "outputs": [],
   "source": [
    "new_df=df.groupby(['time','City','RegionID']).mean()"
   ]
  },
  {
   "cell_type": "code",
   "execution_count": 417,
   "metadata": {
    "ExecuteTime": {
     "end_time": "2022-01-03T19:40:40.001604Z",
     "start_time": "2022-01-03T19:40:39.918304Z"
    }
   },
   "outputs": [
    {
     "data": {
      "text/html": [
       "<div>\n",
       "<style scoped>\n",
       "    .dataframe tbody tr th:only-of-type {\n",
       "        vertical-align: middle;\n",
       "    }\n",
       "\n",
       "    .dataframe tbody tr th {\n",
       "        vertical-align: top;\n",
       "    }\n",
       "\n",
       "    .dataframe thead th {\n",
       "        text-align: right;\n",
       "    }\n",
       "</style>\n",
       "<table border=\"1\" class=\"dataframe\">\n",
       "  <thead>\n",
       "    <tr style=\"text-align: right;\">\n",
       "      <th></th>\n",
       "      <th></th>\n",
       "      <th></th>\n",
       "      <th>RegionName</th>\n",
       "      <th>SizeRank</th>\n",
       "      <th>value</th>\n",
       "    </tr>\n",
       "    <tr>\n",
       "      <th>time</th>\n",
       "      <th>City</th>\n",
       "      <th>RegionID</th>\n",
       "      <th></th>\n",
       "      <th></th>\n",
       "      <th></th>\n",
       "    </tr>\n",
       "  </thead>\n",
       "  <tbody>\n",
       "    <tr>\n",
       "      <th rowspan=\"5\" valign=\"top\">1996-04-01</th>\n",
       "      <th>Abbeville</th>\n",
       "      <th>88633</th>\n",
       "      <td>70510</td>\n",
       "      <td>4358</td>\n",
       "      <td>47900.0</td>\n",
       "    </tr>\n",
       "    <tr>\n",
       "      <th rowspan=\"4\" valign=\"top\">Aberdeen</th>\n",
       "      <th>66718</th>\n",
       "      <td>21001</td>\n",
       "      <td>4197</td>\n",
       "      <td>110800.0</td>\n",
       "    </tr>\n",
       "    <tr>\n",
       "      <th>69850</th>\n",
       "      <td>28315</td>\n",
       "      <td>7078</td>\n",
       "      <td>79800.0</td>\n",
       "    </tr>\n",
       "    <tr>\n",
       "      <th>94053</th>\n",
       "      <td>83210</td>\n",
       "      <td>12949</td>\n",
       "      <td>65100.0</td>\n",
       "    </tr>\n",
       "    <tr>\n",
       "      <th>99840</th>\n",
       "      <td>98520</td>\n",
       "      <td>5029</td>\n",
       "      <td>86600.0</td>\n",
       "    </tr>\n",
       "    <tr>\n",
       "      <th>...</th>\n",
       "      <th>...</th>\n",
       "      <th>...</th>\n",
       "      <td>...</td>\n",
       "      <td>...</td>\n",
       "      <td>...</td>\n",
       "    </tr>\n",
       "    <tr>\n",
       "      <th rowspan=\"5\" valign=\"top\">2018-04-01</th>\n",
       "      <th>Zionsville</th>\n",
       "      <th>77955</th>\n",
       "      <td>46077</td>\n",
       "      <td>3608</td>\n",
       "      <td>394800.0</td>\n",
       "    </tr>\n",
       "    <tr>\n",
       "      <th>Zionville</th>\n",
       "      <th>70145</th>\n",
       "      <td>28698</td>\n",
       "      <td>13180</td>\n",
       "      <td>164800.0</td>\n",
       "    </tr>\n",
       "    <tr>\n",
       "      <th>Zumbro Falls</th>\n",
       "      <th>82545</th>\n",
       "      <td>55991</td>\n",
       "      <td>14454</td>\n",
       "      <td>262800.0</td>\n",
       "    </tr>\n",
       "    <tr>\n",
       "      <th>Zumbrota</th>\n",
       "      <th>82546</th>\n",
       "      <td>55992</td>\n",
       "      <td>10870</td>\n",
       "      <td>191600.0</td>\n",
       "    </tr>\n",
       "    <tr>\n",
       "      <th>Zuni</th>\n",
       "      <th>67864</th>\n",
       "      <td>23898</td>\n",
       "      <td>13586</td>\n",
       "      <td>190300.0</td>\n",
       "    </tr>\n",
       "  </tbody>\n",
       "</table>\n",
       "<p>3744704 rows × 3 columns</p>\n",
       "</div>"
      ],
      "text/plain": [
       "                                  RegionName  SizeRank     value\n",
       "time       City         RegionID                                \n",
       "1996-04-01 Abbeville    88633          70510      4358   47900.0\n",
       "           Aberdeen     66718          21001      4197  110800.0\n",
       "                        69850          28315      7078   79800.0\n",
       "                        94053          83210     12949   65100.0\n",
       "                        99840          98520      5029   86600.0\n",
       "...                                      ...       ...       ...\n",
       "2018-04-01 Zionsville   77955          46077      3608  394800.0\n",
       "           Zionville    70145          28698     13180  164800.0\n",
       "           Zumbro Falls 82545          55991     14454  262800.0\n",
       "           Zumbrota     82546          55992     10870  191600.0\n",
       "           Zuni         67864          23898     13586  190300.0\n",
       "\n",
       "[3744704 rows x 3 columns]"
      ]
     },
     "execution_count": 417,
     "metadata": {},
     "output_type": "execute_result"
    }
   ],
   "source": [
    "new_df"
   ]
  },
  {
   "cell_type": "code",
   "execution_count": 418,
   "metadata": {
    "ExecuteTime": {
     "end_time": "2022-01-03T19:40:40.088748Z",
     "start_time": "2022-01-03T19:40:40.014383Z"
    }
   },
   "outputs": [],
   "source": [
    "new_df.drop(['RegionName','SizeRank'],axis=1,inplace=True)"
   ]
  },
  {
   "cell_type": "code",
   "execution_count": 419,
   "metadata": {
    "ExecuteTime": {
     "end_time": "2022-01-03T19:40:40.173155Z",
     "start_time": "2022-01-03T19:40:40.118912Z"
    }
   },
   "outputs": [
    {
     "data": {
      "text/html": [
       "<div>\n",
       "<style scoped>\n",
       "    .dataframe tbody tr th:only-of-type {\n",
       "        vertical-align: middle;\n",
       "    }\n",
       "\n",
       "    .dataframe tbody tr th {\n",
       "        vertical-align: top;\n",
       "    }\n",
       "\n",
       "    .dataframe thead th {\n",
       "        text-align: right;\n",
       "    }\n",
       "</style>\n",
       "<table border=\"1\" class=\"dataframe\">\n",
       "  <thead>\n",
       "    <tr style=\"text-align: right;\">\n",
       "      <th></th>\n",
       "      <th></th>\n",
       "      <th></th>\n",
       "      <th>value</th>\n",
       "    </tr>\n",
       "    <tr>\n",
       "      <th>time</th>\n",
       "      <th>City</th>\n",
       "      <th>RegionID</th>\n",
       "      <th></th>\n",
       "    </tr>\n",
       "  </thead>\n",
       "  <tbody>\n",
       "    <tr>\n",
       "      <th rowspan=\"5\" valign=\"top\">1996-04-01</th>\n",
       "      <th>Abbeville</th>\n",
       "      <th>88633</th>\n",
       "      <td>47900.0</td>\n",
       "    </tr>\n",
       "    <tr>\n",
       "      <th rowspan=\"4\" valign=\"top\">Aberdeen</th>\n",
       "      <th>66718</th>\n",
       "      <td>110800.0</td>\n",
       "    </tr>\n",
       "    <tr>\n",
       "      <th>69850</th>\n",
       "      <td>79800.0</td>\n",
       "    </tr>\n",
       "    <tr>\n",
       "      <th>94053</th>\n",
       "      <td>65100.0</td>\n",
       "    </tr>\n",
       "    <tr>\n",
       "      <th>99840</th>\n",
       "      <td>86600.0</td>\n",
       "    </tr>\n",
       "    <tr>\n",
       "      <th>...</th>\n",
       "      <th>...</th>\n",
       "      <th>...</th>\n",
       "      <td>...</td>\n",
       "    </tr>\n",
       "    <tr>\n",
       "      <th rowspan=\"5\" valign=\"top\">2018-04-01</th>\n",
       "      <th>Zionsville</th>\n",
       "      <th>77955</th>\n",
       "      <td>394800.0</td>\n",
       "    </tr>\n",
       "    <tr>\n",
       "      <th>Zionville</th>\n",
       "      <th>70145</th>\n",
       "      <td>164800.0</td>\n",
       "    </tr>\n",
       "    <tr>\n",
       "      <th>Zumbro Falls</th>\n",
       "      <th>82545</th>\n",
       "      <td>262800.0</td>\n",
       "    </tr>\n",
       "    <tr>\n",
       "      <th>Zumbrota</th>\n",
       "      <th>82546</th>\n",
       "      <td>191600.0</td>\n",
       "    </tr>\n",
       "    <tr>\n",
       "      <th>Zuni</th>\n",
       "      <th>67864</th>\n",
       "      <td>190300.0</td>\n",
       "    </tr>\n",
       "  </tbody>\n",
       "</table>\n",
       "<p>3744704 rows × 1 columns</p>\n",
       "</div>"
      ],
      "text/plain": [
       "                                     value\n",
       "time       City         RegionID          \n",
       "1996-04-01 Abbeville    88633      47900.0\n",
       "           Aberdeen     66718     110800.0\n",
       "                        69850      79800.0\n",
       "                        94053      65100.0\n",
       "                        99840      86600.0\n",
       "...                                    ...\n",
       "2018-04-01 Zionsville   77955     394800.0\n",
       "           Zionville    70145     164800.0\n",
       "           Zumbro Falls 82545     262800.0\n",
       "           Zumbrota     82546     191600.0\n",
       "           Zuni         67864     190300.0\n",
       "\n",
       "[3744704 rows x 1 columns]"
      ]
     },
     "execution_count": 419,
     "metadata": {},
     "output_type": "execute_result"
    }
   ],
   "source": [
    "new_df"
   ]
  },
  {
   "cell_type": "code",
   "execution_count": 420,
   "metadata": {
    "ExecuteTime": {
     "end_time": "2022-01-03T19:40:40.233927Z",
     "start_time": "2022-01-03T19:40:40.187532Z"
    }
   },
   "outputs": [],
   "source": [
    "plot_this= df[['RegionID','value']]"
   ]
  },
  {
   "cell_type": "code",
   "execution_count": 421,
   "metadata": {
    "ExecuteTime": {
     "end_time": "2022-01-03T19:40:55.033396Z",
     "start_time": "2022-01-03T19:40:52.518763Z"
    }
   },
   "outputs": [
    {
     "data": {
      "text/plain": [
       "[<matplotlib.lines.Line2D at 0x28eb1bfa0>,\n",
       " <matplotlib.lines.Line2D at 0x28eb260d0>]"
      ]
     },
     "execution_count": 421,
     "metadata": {},
     "output_type": "execute_result"
    },
    {
     "data": {
      "image/png": "[encoded data removed]",
      "text/plain": [
       "<Figure size 432x288 with 1 Axes>"
      ]
     },
     "metadata": {
      "needs_background": "light"
     },
     "output_type": "display_data"
    }
   ],
   "source": [
    "fig,ax=plt.subplots()\n",
    "ax.plot(plot_this)"
   ]
  },
  {
   "cell_type": "code",
   "execution_count": 422,
   "metadata": {
    "ExecuteTime": {
     "end_time": "2022-01-03T19:40:55.205698Z",
     "start_time": "2022-01-03T19:40:55.045364Z"
    }
   },
   "outputs": [
    {
     "data": {
      "text/plain": [
       "RegionID    0\n",
       "value       0\n",
       "dtype: int64"
      ]
     },
     "execution_count": 422,
     "metadata": {},
     "output_type": "execute_result"
    }
   ],
   "source": [
    "plot_this.isna().sum()"
   ]
  },
  {
   "cell_type": "code",
   "execution_count": 423,
   "metadata": {
    "ExecuteTime": {
     "end_time": "2022-01-03T19:41:03.290390Z",
     "start_time": "2022-01-03T19:41:03.046207Z"
    }
   },
   "outputs": [],
   "source": [
    "# Rename RegionName to be Zipcode\n",
    "df=df.rename({'RegionName':'Zipcode'},axis='columns')"
   ]
  },
  {
   "cell_type": "code",
   "execution_count": 424,
   "metadata": {
    "ExecuteTime": {
     "end_time": "2022-01-03T19:41:05.389552Z",
     "start_time": "2022-01-03T19:41:05.313462Z"
    }
   },
   "outputs": [
    {
     "data": {
      "text/html": [
       "<div>\n",
       "<style scoped>\n",
       "    .dataframe tbody tr th:only-of-type {\n",
       "        vertical-align: middle;\n",
       "    }\n",
       "\n",
       "    .dataframe tbody tr th {\n",
       "        vertical-align: top;\n",
       "    }\n",
       "\n",
       "    .dataframe thead th {\n",
       "        text-align: right;\n",
       "    }\n",
       "</style>\n",
       "<table border=\"1\" class=\"dataframe\">\n",
       "  <thead>\n",
       "    <tr style=\"text-align: right;\">\n",
       "      <th></th>\n",
       "      <th>Zipcode</th>\n",
       "      <th>RegionID</th>\n",
       "      <th>SizeRank</th>\n",
       "      <th>City</th>\n",
       "      <th>State</th>\n",
       "      <th>Metro</th>\n",
       "      <th>CountyName</th>\n",
       "      <th>value</th>\n",
       "    </tr>\n",
       "    <tr>\n",
       "      <th>time</th>\n",
       "      <th></th>\n",
       "      <th></th>\n",
       "      <th></th>\n",
       "      <th></th>\n",
       "      <th></th>\n",
       "      <th></th>\n",
       "      <th></th>\n",
       "      <th></th>\n",
       "    </tr>\n",
       "  </thead>\n",
       "  <tbody>\n",
       "    <tr>\n",
       "      <th>1996-04-01</th>\n",
       "      <td>60657</td>\n",
       "      <td>84654</td>\n",
       "      <td>1</td>\n",
       "      <td>Chicago</td>\n",
       "      <td>IL</td>\n",
       "      <td>Chicago</td>\n",
       "      <td>Cook</td>\n",
       "      <td>334200.0</td>\n",
       "    </tr>\n",
       "    <tr>\n",
       "      <th>1996-04-01</th>\n",
       "      <td>75070</td>\n",
       "      <td>90668</td>\n",
       "      <td>2</td>\n",
       "      <td>McKinney</td>\n",
       "      <td>TX</td>\n",
       "      <td>Dallas-Fort Worth</td>\n",
       "      <td>Collin</td>\n",
       "      <td>235700.0</td>\n",
       "    </tr>\n",
       "    <tr>\n",
       "      <th>1996-04-01</th>\n",
       "      <td>77494</td>\n",
       "      <td>91982</td>\n",
       "      <td>3</td>\n",
       "      <td>Katy</td>\n",
       "      <td>TX</td>\n",
       "      <td>Houston</td>\n",
       "      <td>Harris</td>\n",
       "      <td>210400.0</td>\n",
       "    </tr>\n",
       "    <tr>\n",
       "      <th>1996-04-01</th>\n",
       "      <td>60614</td>\n",
       "      <td>84616</td>\n",
       "      <td>4</td>\n",
       "      <td>Chicago</td>\n",
       "      <td>IL</td>\n",
       "      <td>Chicago</td>\n",
       "      <td>Cook</td>\n",
       "      <td>498100.0</td>\n",
       "    </tr>\n",
       "    <tr>\n",
       "      <th>1996-04-01</th>\n",
       "      <td>79936</td>\n",
       "      <td>93144</td>\n",
       "      <td>5</td>\n",
       "      <td>El Paso</td>\n",
       "      <td>TX</td>\n",
       "      <td>El Paso</td>\n",
       "      <td>El Paso</td>\n",
       "      <td>77300.0</td>\n",
       "    </tr>\n",
       "    <tr>\n",
       "      <th>...</th>\n",
       "      <td>...</td>\n",
       "      <td>...</td>\n",
       "      <td>...</td>\n",
       "      <td>...</td>\n",
       "      <td>...</td>\n",
       "      <td>...</td>\n",
       "      <td>...</td>\n",
       "      <td>...</td>\n",
       "    </tr>\n",
       "    <tr>\n",
       "      <th>2018-04-01</th>\n",
       "      <td>1338</td>\n",
       "      <td>58333</td>\n",
       "      <td>14719</td>\n",
       "      <td>Ashfield</td>\n",
       "      <td>MA</td>\n",
       "      <td>Greenfield Town</td>\n",
       "      <td>Franklin</td>\n",
       "      <td>209300.0</td>\n",
       "    </tr>\n",
       "    <tr>\n",
       "      <th>2018-04-01</th>\n",
       "      <td>3293</td>\n",
       "      <td>59107</td>\n",
       "      <td>14720</td>\n",
       "      <td>Woodstock</td>\n",
       "      <td>NH</td>\n",
       "      <td>Claremont</td>\n",
       "      <td>Grafton</td>\n",
       "      <td>225800.0</td>\n",
       "    </tr>\n",
       "    <tr>\n",
       "      <th>2018-04-01</th>\n",
       "      <td>40404</td>\n",
       "      <td>75672</td>\n",
       "      <td>14721</td>\n",
       "      <td>Berea</td>\n",
       "      <td>KY</td>\n",
       "      <td>Richmond</td>\n",
       "      <td>Madison</td>\n",
       "      <td>133400.0</td>\n",
       "    </tr>\n",
       "    <tr>\n",
       "      <th>2018-04-01</th>\n",
       "      <td>81225</td>\n",
       "      <td>93733</td>\n",
       "      <td>14722</td>\n",
       "      <td>Mount Crested Butte</td>\n",
       "      <td>CO</td>\n",
       "      <td>NaN</td>\n",
       "      <td>Gunnison</td>\n",
       "      <td>664400.0</td>\n",
       "    </tr>\n",
       "    <tr>\n",
       "      <th>2018-04-01</th>\n",
       "      <td>89155</td>\n",
       "      <td>95851</td>\n",
       "      <td>14723</td>\n",
       "      <td>Mesquite</td>\n",
       "      <td>NV</td>\n",
       "      <td>Las Vegas</td>\n",
       "      <td>Clark</td>\n",
       "      <td>357200.0</td>\n",
       "    </tr>\n",
       "  </tbody>\n",
       "</table>\n",
       "<p>3744704 rows × 8 columns</p>\n",
       "</div>"
      ],
      "text/plain": [
       "            Zipcode  RegionID  SizeRank                 City State  \\\n",
       "time                                                                 \n",
       "1996-04-01    60657     84654         1              Chicago    IL   \n",
       "1996-04-01    75070     90668         2             McKinney    TX   \n",
       "1996-04-01    77494     91982         3                 Katy    TX   \n",
       "1996-04-01    60614     84616         4              Chicago    IL   \n",
       "1996-04-01    79936     93144         5              El Paso    TX   \n",
       "...             ...       ...       ...                  ...   ...   \n",
       "2018-04-01     1338     58333     14719             Ashfield    MA   \n",
       "2018-04-01     3293     59107     14720            Woodstock    NH   \n",
       "2018-04-01    40404     75672     14721                Berea    KY   \n",
       "2018-04-01    81225     93733     14722  Mount Crested Butte    CO   \n",
       "2018-04-01    89155     95851     14723             Mesquite    NV   \n",
       "\n",
       "                        Metro CountyName     value  \n",
       "time                                                \n",
       "1996-04-01            Chicago       Cook  334200.0  \n",
       "1996-04-01  Dallas-Fort Worth     Collin  235700.0  \n",
       "1996-04-01            Houston     Harris  210400.0  \n",
       "1996-04-01            Chicago       Cook  498100.0  \n",
       "1996-04-01            El Paso    El Paso   77300.0  \n",
       "...                       ...        ...       ...  \n",
       "2018-04-01    Greenfield Town   Franklin  209300.0  \n",
       "2018-04-01          Claremont    Grafton  225800.0  \n",
       "2018-04-01           Richmond    Madison  133400.0  \n",
       "2018-04-01                NaN   Gunnison  664400.0  \n",
       "2018-04-01          Las Vegas      Clark  357200.0  \n",
       "\n",
       "[3744704 rows x 8 columns]"
      ]
     },
     "execution_count": 424,
     "metadata": {},
     "output_type": "execute_result"
    }
   ],
   "source": [
    "df"
   ]
  },
  {
   "cell_type": "code",
   "execution_count": 425,
   "metadata": {
    "ExecuteTime": {
     "end_time": "2022-01-03T19:41:09.160601Z",
     "start_time": "2022-01-03T19:41:08.978030Z"
    }
   },
   "outputs": [],
   "source": [
    "#drop no longer relevant columns\n",
    "df.drop(['RegionID','SizeRank','City','CountyName'],axis=1,inplace=True)"
   ]
  },
  {
   "cell_type": "code",
   "execution_count": 426,
   "metadata": {
    "ExecuteTime": {
     "end_time": "2022-01-03T19:41:09.455593Z",
     "start_time": "2022-01-03T19:41:09.386723Z"
    },
    "scrolled": true
   },
   "outputs": [
    {
     "data": {
      "text/html": [
       "<div>\n",
       "<style scoped>\n",
       "    .dataframe tbody tr th:only-of-type {\n",
       "        vertical-align: middle;\n",
       "    }\n",
       "\n",
       "    .dataframe tbody tr th {\n",
       "        vertical-align: top;\n",
       "    }\n",
       "\n",
       "    .dataframe thead th {\n",
       "        text-align: right;\n",
       "    }\n",
       "</style>\n",
       "<table border=\"1\" class=\"dataframe\">\n",
       "  <thead>\n",
       "    <tr style=\"text-align: right;\">\n",
       "      <th></th>\n",
       "      <th>Zipcode</th>\n",
       "      <th>State</th>\n",
       "      <th>Metro</th>\n",
       "      <th>value</th>\n",
       "    </tr>\n",
       "    <tr>\n",
       "      <th>time</th>\n",
       "      <th></th>\n",
       "      <th></th>\n",
       "      <th></th>\n",
       "      <th></th>\n",
       "    </tr>\n",
       "  </thead>\n",
       "  <tbody>\n",
       "    <tr>\n",
       "      <th>1996-04-01</th>\n",
       "      <td>60657</td>\n",
       "      <td>IL</td>\n",
       "      <td>Chicago</td>\n",
       "      <td>334200.0</td>\n",
       "    </tr>\n",
       "    <tr>\n",
       "      <th>1996-04-01</th>\n",
       "      <td>75070</td>\n",
       "      <td>TX</td>\n",
       "      <td>Dallas-Fort Worth</td>\n",
       "      <td>235700.0</td>\n",
       "    </tr>\n",
       "    <tr>\n",
       "      <th>1996-04-01</th>\n",
       "      <td>77494</td>\n",
       "      <td>TX</td>\n",
       "      <td>Houston</td>\n",
       "      <td>210400.0</td>\n",
       "    </tr>\n",
       "    <tr>\n",
       "      <th>1996-04-01</th>\n",
       "      <td>60614</td>\n",
       "      <td>IL</td>\n",
       "      <td>Chicago</td>\n",
       "      <td>498100.0</td>\n",
       "    </tr>\n",
       "    <tr>\n",
       "      <th>1996-04-01</th>\n",
       "      <td>79936</td>\n",
       "      <td>TX</td>\n",
       "      <td>El Paso</td>\n",
       "      <td>77300.0</td>\n",
       "    </tr>\n",
       "    <tr>\n",
       "      <th>...</th>\n",
       "      <td>...</td>\n",
       "      <td>...</td>\n",
       "      <td>...</td>\n",
       "      <td>...</td>\n",
       "    </tr>\n",
       "    <tr>\n",
       "      <th>2018-04-01</th>\n",
       "      <td>1338</td>\n",
       "      <td>MA</td>\n",
       "      <td>Greenfield Town</td>\n",
       "      <td>209300.0</td>\n",
       "    </tr>\n",
       "    <tr>\n",
       "      <th>2018-04-01</th>\n",
       "      <td>3293</td>\n",
       "      <td>NH</td>\n",
       "      <td>Claremont</td>\n",
       "      <td>225800.0</td>\n",
       "    </tr>\n",
       "    <tr>\n",
       "      <th>2018-04-01</th>\n",
       "      <td>40404</td>\n",
       "      <td>KY</td>\n",
       "      <td>Richmond</td>\n",
       "      <td>133400.0</td>\n",
       "    </tr>\n",
       "    <tr>\n",
       "      <th>2018-04-01</th>\n",
       "      <td>81225</td>\n",
       "      <td>CO</td>\n",
       "      <td>NaN</td>\n",
       "      <td>664400.0</td>\n",
       "    </tr>\n",
       "    <tr>\n",
       "      <th>2018-04-01</th>\n",
       "      <td>89155</td>\n",
       "      <td>NV</td>\n",
       "      <td>Las Vegas</td>\n",
       "      <td>357200.0</td>\n",
       "    </tr>\n",
       "  </tbody>\n",
       "</table>\n",
       "<p>3744704 rows × 4 columns</p>\n",
       "</div>"
      ],
      "text/plain": [
       "            Zipcode State              Metro     value\n",
       "time                                                  \n",
       "1996-04-01    60657    IL            Chicago  334200.0\n",
       "1996-04-01    75070    TX  Dallas-Fort Worth  235700.0\n",
       "1996-04-01    77494    TX            Houston  210400.0\n",
       "1996-04-01    60614    IL            Chicago  498100.0\n",
       "1996-04-01    79936    TX            El Paso   77300.0\n",
       "...             ...   ...                ...       ...\n",
       "2018-04-01     1338    MA    Greenfield Town  209300.0\n",
       "2018-04-01     3293    NH          Claremont  225800.0\n",
       "2018-04-01    40404    KY           Richmond  133400.0\n",
       "2018-04-01    81225    CO                NaN  664400.0\n",
       "2018-04-01    89155    NV          Las Vegas  357200.0\n",
       "\n",
       "[3744704 rows x 4 columns]"
      ]
     },
     "execution_count": 426,
     "metadata": {},
     "output_type": "execute_result"
    }
   ],
   "source": [
    "df"
   ]
  },
  {
   "cell_type": "markdown",
   "metadata": {},
   "source": [
    "### Create a Arizona dataframe and focus only on Arizona for now"
   ]
  },
  {
   "cell_type": "code",
   "execution_count": 427,
   "metadata": {
    "ExecuteTime": {
     "end_time": "2022-01-03T19:41:15.174095Z",
     "start_time": "2022-01-03T19:41:14.855371Z"
    }
   },
   "outputs": [],
   "source": [
    "Arizona_df= df[(df['State'] == 'AZ')]"
   ]
  },
  {
   "cell_type": "code",
   "execution_count": 428,
   "metadata": {
    "ExecuteTime": {
     "end_time": "2022-01-03T19:41:15.387845Z",
     "start_time": "2022-01-03T19:41:15.291638Z"
    }
   },
   "outputs": [
    {
     "data": {
      "text/html": [
       "<div>\n",
       "<style scoped>\n",
       "    .dataframe tbody tr th:only-of-type {\n",
       "        vertical-align: middle;\n",
       "    }\n",
       "\n",
       "    .dataframe tbody tr th {\n",
       "        vertical-align: top;\n",
       "    }\n",
       "\n",
       "    .dataframe thead th {\n",
       "        text-align: right;\n",
       "    }\n",
       "</style>\n",
       "<table border=\"1\" class=\"dataframe\">\n",
       "  <thead>\n",
       "    <tr style=\"text-align: right;\">\n",
       "      <th></th>\n",
       "      <th>Zipcode</th>\n",
       "      <th>State</th>\n",
       "      <th>Metro</th>\n",
       "      <th>value</th>\n",
       "    </tr>\n",
       "    <tr>\n",
       "      <th>time</th>\n",
       "      <th></th>\n",
       "      <th></th>\n",
       "      <th></th>\n",
       "      <th></th>\n",
       "    </tr>\n",
       "  </thead>\n",
       "  <tbody>\n",
       "    <tr>\n",
       "      <th>1996-04-01</th>\n",
       "      <td>85032</td>\n",
       "      <td>AZ</td>\n",
       "      <td>Phoenix</td>\n",
       "      <td>95400.0</td>\n",
       "    </tr>\n",
       "    <tr>\n",
       "      <th>1996-04-01</th>\n",
       "      <td>85710</td>\n",
       "      <td>AZ</td>\n",
       "      <td>Tucson</td>\n",
       "      <td>94600.0</td>\n",
       "    </tr>\n",
       "    <tr>\n",
       "      <th>1996-04-01</th>\n",
       "      <td>85225</td>\n",
       "      <td>AZ</td>\n",
       "      <td>Phoenix</td>\n",
       "      <td>101200.0</td>\n",
       "    </tr>\n",
       "    <tr>\n",
       "      <th>1996-04-01</th>\n",
       "      <td>85308</td>\n",
       "      <td>AZ</td>\n",
       "      <td>Phoenix</td>\n",
       "      <td>124800.0</td>\n",
       "    </tr>\n",
       "    <tr>\n",
       "      <th>1996-04-01</th>\n",
       "      <td>85281</td>\n",
       "      <td>AZ</td>\n",
       "      <td>Phoenix</td>\n",
       "      <td>81200.0</td>\n",
       "    </tr>\n",
       "    <tr>\n",
       "      <th>...</th>\n",
       "      <td>...</td>\n",
       "      <td>...</td>\n",
       "      <td>...</td>\n",
       "      <td>...</td>\n",
       "    </tr>\n",
       "    <tr>\n",
       "      <th>2018-04-01</th>\n",
       "      <td>86332</td>\n",
       "      <td>AZ</td>\n",
       "      <td>Prescott</td>\n",
       "      <td>172500.0</td>\n",
       "    </tr>\n",
       "    <tr>\n",
       "      <th>2018-04-01</th>\n",
       "      <td>85645</td>\n",
       "      <td>AZ</td>\n",
       "      <td>Tucson</td>\n",
       "      <td>152300.0</td>\n",
       "    </tr>\n",
       "    <tr>\n",
       "      <th>2018-04-01</th>\n",
       "      <td>85928</td>\n",
       "      <td>AZ</td>\n",
       "      <td>Show Low</td>\n",
       "      <td>225100.0</td>\n",
       "    </tr>\n",
       "    <tr>\n",
       "      <th>2018-04-01</th>\n",
       "      <td>85637</td>\n",
       "      <td>AZ</td>\n",
       "      <td>Nogales</td>\n",
       "      <td>320000.0</td>\n",
       "    </tr>\n",
       "    <tr>\n",
       "      <th>2018-04-01</th>\n",
       "      <td>85611</td>\n",
       "      <td>AZ</td>\n",
       "      <td>Nogales</td>\n",
       "      <td>269000.0</td>\n",
       "    </tr>\n",
       "  </tbody>\n",
       "</table>\n",
       "<p>58775 rows × 4 columns</p>\n",
       "</div>"
      ],
      "text/plain": [
       "            Zipcode State     Metro     value\n",
       "time                                         \n",
       "1996-04-01    85032    AZ   Phoenix   95400.0\n",
       "1996-04-01    85710    AZ    Tucson   94600.0\n",
       "1996-04-01    85225    AZ   Phoenix  101200.0\n",
       "1996-04-01    85308    AZ   Phoenix  124800.0\n",
       "1996-04-01    85281    AZ   Phoenix   81200.0\n",
       "...             ...   ...       ...       ...\n",
       "2018-04-01    86332    AZ  Prescott  172500.0\n",
       "2018-04-01    85645    AZ    Tucson  152300.0\n",
       "2018-04-01    85928    AZ  Show Low  225100.0\n",
       "2018-04-01    85637    AZ   Nogales  320000.0\n",
       "2018-04-01    85611    AZ   Nogales  269000.0\n",
       "\n",
       "[58775 rows x 4 columns]"
      ]
     },
     "execution_count": 428,
     "metadata": {},
     "output_type": "execute_result"
    }
   ],
   "source": [
    "Arizona_df"
   ]
  },
  {
   "cell_type": "code",
   "execution_count": 429,
   "metadata": {
    "ExecuteTime": {
     "end_time": "2022-01-03T19:41:19.810930Z",
     "start_time": "2022-01-03T19:41:19.798613Z"
    }
   },
   "outputs": [
    {
     "name": "stdout",
     "output_type": "stream",
     "text": [
      "Number of Zipcodes in Arizona_df: 230\n"
     ]
    }
   ],
   "source": [
    "print('Number of Zipcodes in Arizona_df:', Arizona_df['Zipcode'].nunique())"
   ]
  },
  {
   "cell_type": "code",
   "execution_count": 430,
   "metadata": {
    "ExecuteTime": {
     "end_time": "2022-01-03T19:41:25.006028Z",
     "start_time": "2022-01-03T19:41:24.975134Z"
    }
   },
   "outputs": [],
   "source": [
    "Arizona_df_grouped=Arizona_df.groupby('Zipcode').mean()"
   ]
  },
  {
   "cell_type": "code",
   "execution_count": 433,
   "metadata": {
    "ExecuteTime": {
     "end_time": "2022-01-03T19:43:56.016825Z",
     "start_time": "2022-01-03T19:43:55.899658Z"
    }
   },
   "outputs": [
    {
     "data": {
      "text/html": [
       "<div>\n",
       "<style scoped>\n",
       "    .dataframe tbody tr th:only-of-type {\n",
       "        vertical-align: middle;\n",
       "    }\n",
       "\n",
       "    .dataframe tbody tr th {\n",
       "        vertical-align: top;\n",
       "    }\n",
       "\n",
       "    .dataframe thead th {\n",
       "        text-align: right;\n",
       "    }\n",
       "</style>\n",
       "<table border=\"1\" class=\"dataframe\">\n",
       "  <thead>\n",
       "    <tr style=\"text-align: right;\">\n",
       "      <th></th>\n",
       "      <th>value</th>\n",
       "    </tr>\n",
       "    <tr>\n",
       "      <th>Zipcode</th>\n",
       "      <th></th>\n",
       "    </tr>\n",
       "  </thead>\n",
       "  <tbody>\n",
       "    <tr>\n",
       "      <th>85003</th>\n",
       "      <td>267899.245283</td>\n",
       "    </tr>\n",
       "    <tr>\n",
       "      <th>85008</th>\n",
       "      <td>124401.132075</td>\n",
       "    </tr>\n",
       "    <tr>\n",
       "      <th>85012</th>\n",
       "      <td>347115.471698</td>\n",
       "    </tr>\n",
       "    <tr>\n",
       "      <th>85013</th>\n",
       "      <td>189566.792453</td>\n",
       "    </tr>\n",
       "    <tr>\n",
       "      <th>85014</th>\n",
       "      <td>186123.018868</td>\n",
       "    </tr>\n",
       "    <tr>\n",
       "      <th>...</th>\n",
       "      <td>...</td>\n",
       "    </tr>\n",
       "    <tr>\n",
       "      <th>86413</th>\n",
       "      <td>106110.112360</td>\n",
       "    </tr>\n",
       "    <tr>\n",
       "      <th>86426</th>\n",
       "      <td>142161.132075</td>\n",
       "    </tr>\n",
       "    <tr>\n",
       "      <th>86429</th>\n",
       "      <td>183313.962264</td>\n",
       "    </tr>\n",
       "    <tr>\n",
       "      <th>86440</th>\n",
       "      <td>124294.339623</td>\n",
       "    </tr>\n",
       "    <tr>\n",
       "      <th>86442</th>\n",
       "      <td>125302.641509</td>\n",
       "    </tr>\n",
       "  </tbody>\n",
       "</table>\n",
       "<p>230 rows × 1 columns</p>\n",
       "</div>"
      ],
      "text/plain": [
       "                 value\n",
       "Zipcode               \n",
       "85003    267899.245283\n",
       "85008    124401.132075\n",
       "85012    347115.471698\n",
       "85013    189566.792453\n",
       "85014    186123.018868\n",
       "...                ...\n",
       "86413    106110.112360\n",
       "86426    142161.132075\n",
       "86429    183313.962264\n",
       "86440    124294.339623\n",
       "86442    125302.641509\n",
       "\n",
       "[230 rows x 1 columns]"
      ]
     },
     "execution_count": 433,
     "metadata": {},
     "output_type": "execute_result"
    }
   ],
   "source": [
    "Arizona_df_grouped"
   ]
  },
  {
   "cell_type": "code",
   "execution_count": 434,
   "metadata": {
    "ExecuteTime": {
     "end_time": "2022-01-03T19:44:31.363573Z",
     "start_time": "2022-01-03T19:44:26.806885Z"
    }
   },
   "outputs": [
    {
     "data": {
      "text/html": [
       "<div>\n",
       "<style scoped>\n",
       "    .dataframe tbody tr th:only-of-type {\n",
       "        vertical-align: middle;\n",
       "    }\n",
       "\n",
       "    .dataframe tbody tr th {\n",
       "        vertical-align: top;\n",
       "    }\n",
       "\n",
       "    .dataframe thead th {\n",
       "        text-align: right;\n",
       "    }\n",
       "</style>\n",
       "<table border=\"1\" class=\"dataframe\">\n",
       "  <thead>\n",
       "    <tr style=\"text-align: right;\">\n",
       "      <th></th>\n",
       "      <th></th>\n",
       "      <th>value</th>\n",
       "    </tr>\n",
       "    <tr>\n",
       "      <th>Zipcode</th>\n",
       "      <th>time</th>\n",
       "      <th></th>\n",
       "    </tr>\n",
       "  </thead>\n",
       "  <tbody>\n",
       "    <tr>\n",
       "      <th rowspan=\"5\" valign=\"top\">85003</th>\n",
       "      <th>1996-04-30</th>\n",
       "      <td>109700.0</td>\n",
       "    </tr>\n",
       "    <tr>\n",
       "      <th>1996-05-31</th>\n",
       "      <td>110500.0</td>\n",
       "    </tr>\n",
       "    <tr>\n",
       "      <th>1996-06-30</th>\n",
       "      <td>111300.0</td>\n",
       "    </tr>\n",
       "    <tr>\n",
       "      <th>1996-07-31</th>\n",
       "      <td>112200.0</td>\n",
       "    </tr>\n",
       "    <tr>\n",
       "      <th>1996-08-31</th>\n",
       "      <td>113100.0</td>\n",
       "    </tr>\n",
       "  </tbody>\n",
       "</table>\n",
       "</div>"
      ],
      "text/plain": [
       "                       value\n",
       "Zipcode time                \n",
       "85003   1996-04-30  109700.0\n",
       "        1996-05-31  110500.0\n",
       "        1996-06-30  111300.0\n",
       "        1996-07-31  112200.0\n",
       "        1996-08-31  113100.0"
      ]
     },
     "execution_count": 434,
     "metadata": {},
     "output_type": "execute_result"
    }
   ],
   "source": [
    "Arizona_grouped = Arizona_df.groupby(['Zipcode'], as_index = True).resample('M').sum()\n",
    "Arizona_grouped.drop(columns = 'Zipcode', inplace = True)\n",
    "Arizona_grouped.head()"
   ]
  },
  {
   "cell_type": "code",
   "execution_count": 437,
   "metadata": {
    "ExecuteTime": {
     "end_time": "2022-01-03T19:46:01.548178Z",
     "start_time": "2022-01-03T19:46:01.516682Z"
    }
   },
   "outputs": [],
   "source": [
    "metro_group = Arizona_df.groupby('Metro')"
   ]
  },
  {
   "cell_type": "code",
   "execution_count": 438,
   "metadata": {
    "ExecuteTime": {
     "end_time": "2022-01-03T19:46:30.723437Z",
     "start_time": "2022-01-03T19:46:30.616851Z"
    }
   },
   "outputs": [],
   "source": [
    "metro_group = metro_group.value.mean()\n",
    "metro_group = metro_group.sort_values(ascending=False).head(10)"
   ]
  },
  {
   "cell_type": "code",
   "execution_count": 439,
   "metadata": {
    "ExecuteTime": {
     "end_time": "2022-01-03T19:47:05.836883Z",
     "start_time": "2022-01-03T19:47:05.187023Z"
    }
   },
   "outputs": [
    {
     "name": "stderr",
     "output_type": "stream",
     "text": [
      "findfont: Font family ['normal'] not found. Falling back to DejaVu Sans.\n"
     ]
    },
    {
     "data": {
      "image/png": "[encoded data removed]",
      "text/plain": [
       "<Figure size 432x288 with 1 Axes>"
      ]
     },
     "metadata": {
      "needs_background": "light"
     },
     "output_type": "display_data"
    },
    {
     "data": {
      "text/plain": [
       "<Figure size 432x288 with 0 Axes>"
      ]
     },
     "metadata": {},
     "output_type": "display_data"
    }
   ],
   "source": [
    "metro_group.plot.barh(color='green')\n",
    "plt.title('10-Year Mean Value by Metro')\n",
    "plt.xlabel('Value in Millions of Dollars ($)')\n",
    "plt.show()\n",
    "plt.savefig('10yr-metro-mean-value')"
   ]
  },
  {
   "cell_type": "code",
   "execution_count": 322,
   "metadata": {
    "ExecuteTime": {
     "end_time": "2022-01-03T19:32:42.748570Z",
     "start_time": "2022-01-03T19:32:42.704581Z"
    }
   },
   "outputs": [],
   "source": [
    "# stationarity check with Dickey-Fuller test\n",
    "def stationarity_check(df):\n",
    "    '''Takes time series dataframe and returns with results for Dickey-Fuller test'''\n",
    "    dftest = adfuller(df.dropna())\n",
    "    print('\\nResults of Dickey-Fuller Test: \\n')\n",
    "    dfoutput = pd.Series(dftest[0:4], index = ['Test Statistic', 'p-value', '#Lags Used', 'Number of Observations Used'])\n",
    "    for key, value in dftest[4].items():\n",
    "        dfoutput['Critical Value (%s)'%key] = value\n",
    "    print(dfoutput)"
   ]
  },
  {
   "cell_type": "code",
   "execution_count": 325,
   "metadata": {
    "ExecuteTime": {
     "end_time": "2022-01-03T19:33:47.853854Z",
     "start_time": "2022-01-03T19:33:21.983745Z"
    }
   },
   "outputs": [
    {
     "name": "stdout",
     "output_type": "stream",
     "text": [
      "\n",
      "Results of Dickey-Fuller Test: \n",
      "\n",
      "Test Statistic                -1.255244e+01\n",
      "p-value                        2.190871e-23\n",
      "#Lags Used                     6.000000e+01\n",
      "Number of Observations Used    5.871400e+04\n",
      "Critical Value (1%)           -3.430461e+00\n",
      "Critical Value (5%)           -2.861589e+00\n",
      "Critical Value (10%)          -2.566796e+00\n",
      "dtype: float64\n"
     ]
    }
   ],
   "source": [
    "stationarity_check(Arizona_grouped)"
   ]
  },
  {
   "cell_type": "code",
   "execution_count": 459,
   "metadata": {
    "ExecuteTime": {
     "end_time": "2022-01-03T20:14:10.467122Z",
     "start_time": "2022-01-03T20:14:10.366330Z"
    }
   },
   "outputs": [],
   "source": [
    "def plot_zip(zipcode):\n",
    "    series = Arizona_grouped.loc[zipcode,'value']\n",
    "    fig, ax = plt.subplots(figsize=(18,5))\n",
    "    series.plot(ax=ax);"
   ]
  },
  {
   "cell_type": "code",
   "execution_count": 461,
   "metadata": {
    "ExecuteTime": {
     "end_time": "2022-01-03T20:14:46.669292Z",
     "start_time": "2022-01-03T20:14:45.849344Z"
    }
   },
   "outputs": [
    {
     "data": {
      "image/png": "[encoded data removed]",
      "text/plain": [
       "<Figure size 1296x360 with 1 Axes>"
      ]
     },
     "metadata": {
      "needs_background": "light"
     },
     "output_type": "display_data"
    }
   ],
   "source": [
    "plot_zip(85003)"
   ]
  },
  {
   "cell_type": "code",
   "execution_count": 447,
   "metadata": {
    "ExecuteTime": {
     "end_time": "2022-01-03T20:01:26.737763Z",
     "start_time": "2022-01-03T20:01:25.797198Z"
    }
   },
   "outputs": [
    {
     "data": {
      "image/png": "[encoded data removed]",
      "text/plain": [
       "<Figure size 720x288 with 1 Axes>"
      ]
     },
     "metadata": {
      "needs_background": "light"
     },
     "output_type": "display_data"
    }
   ],
   "source": [
    "def stationarity_check2(TS):\n",
    "    \n",
    "    \n",
    "    # Calculate rolling statistics\n",
    "    roll_mean = TS.rolling(window=8, center=False).mean()\n",
    "    roll_std = TS.rolling(window=8, center=False).std()\n",
    "    \n",
    "    # Perform the Dickey Fuller test\n",
    "    dftest = adfuller(TS) \n",
    "    \n",
    "    # Plot rolling statistics:\n",
    "    fig = plt.figure(figsize=(12,6))\n",
    "    orig = plt.plot(TS, color='blue',label='Original')\n",
    "    mean = plt.plot(roll_mean, color='red', label='Rolling Mean')\n",
    "    std = plt.plot(roll_std, color='black', label = 'Rolling Std')\n",
    "    plt.legend(loc='best')\n",
    "    plt.title('Rolling Mean & Standard Deviation')\n",
    "    plt.show(block=False)\n",
    "    \n",
    "    # Print Dickey-Fuller test results\n",
    "    print('Results of Dickey-Fuller Test: \\n')\n",
    "\n",
    "    dfoutput = pd.Series(dftest[0:4], index=['Test Statistic', 'p-value', \n",
    "                                             '#Lags Used', 'Number of Observations Used'])\n",
    "    for key, value in dftest[4].items():\n",
    "        dfoutput['Critical Value (%s)'%key] = value\n",
    "    print(dfoutput)\n",
    "    \n",
    "    return None\n",
    "\n",
    "\n",
    "# Plot the time series\n",
    "Arizona_grouped.plot(figsize=(10,4), color='blue');"
   ]
  },
  {
   "cell_type": "code",
   "execution_count": null,
   "metadata": {},
   "outputs": [],
   "source": []
  }
 ],
 "metadata": {
  "kernelspec": {
   "display_name": "Python (learn-env)",
   "language": "python",
   "name": "learn-env"
  },
  "language_info": {
   "codemirror_mode": {
    "name": "ipython",
    "version": 3
   },
   "file_extension": ".py",
   "mimetype": "text/x-python",
   "name": "python",
   "nbconvert_exporter": "python",
   "pygments_lexer": "ipython3",
   "version": "3.8.5"
  },
  "notify_time": "30"
 },
 "nbformat": 4,
 "nbformat_minor": 4
}
