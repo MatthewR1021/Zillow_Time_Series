{
 "cells": [
  {
   "cell_type": "code",
   "execution_count": 1,
   "metadata": {
    "ExecuteTime": {
     "end_time": "2022-01-05T20:53:29.031624Z",
     "start_time": "2022-01-05T20:53:23.952127Z"
    }
   },
   "outputs": [],
   "source": [
    "#Import relevant packages\n",
    "import pandas as pd\n",
    "import numpy as np\n",
    "import matplotlib.pyplot as plt\n",
    "import seaborn as sns\n",
    "from statsmodels.tsa.stattools import adfuller\n",
    "from statsmodels.graphics.tsaplots import plot_pacf,plot_acf\n",
    "from statsmodels.tsa.arima_model import ARMA\n",
    "from sklearn.model_selection import TimeSeriesSplit\n",
    "from sklearn.metrics import mean_squared_error\n",
    "from statsmodels.tsa.arima.model import ARIMA\n",
    "from statsmodels.tsa.statespace.sarimax import SARIMAX\n",
    "import itertools\n",
    "import warnings\n",
    "warnings.filterwarnings('ignore')"
   ]
  },
  {
   "cell_type": "code",
   "execution_count": 2,
   "metadata": {
    "ExecuteTime": {
     "end_time": "2022-01-05T20:53:29.078189Z",
     "start_time": "2022-01-05T20:53:29.037445Z"
    }
   },
   "outputs": [],
   "source": [
    "#Import functions notebook and load data set here\n",
    "import sys\n",
    "sys.path.append(\"../\")\n",
    "from time_series_functions import *"
   ]
  },
  {
   "cell_type": "code",
   "execution_count": 3,
   "metadata": {
    "ExecuteTime": {
     "end_time": "2022-01-05T20:53:30.421888Z",
     "start_time": "2022-01-05T20:53:29.131905Z"
    }
   },
   "outputs": [],
   "source": [
    "df=pd.read_csv('../zillow_data.csv')"
   ]
  },
  {
   "cell_type": "code",
   "execution_count": 4,
   "metadata": {
    "ExecuteTime": {
     "end_time": "2022-01-05T20:53:34.208465Z",
     "start_time": "2022-01-05T20:53:30.441044Z"
    }
   },
   "outputs": [],
   "source": [
    "df=melt_data2(df)"
   ]
  },
  {
   "cell_type": "code",
   "execution_count": 5,
   "metadata": {
    "ExecuteTime": {
     "end_time": "2022-01-05T20:53:34.291243Z",
     "start_time": "2022-01-05T20:53:34.212995Z"
    }
   },
   "outputs": [],
   "source": [
    "df.set_index('time',inplace=True)"
   ]
  },
  {
   "cell_type": "code",
   "execution_count": 6,
   "metadata": {
    "ExecuteTime": {
     "end_time": "2022-01-05T20:53:34.955865Z",
     "start_time": "2022-01-05T20:53:34.294360Z"
    }
   },
   "outputs": [],
   "source": [
    "# Rename RegionName to be Zipcode\n",
    "df=df.rename({'RegionName':'Zipcode'},axis='columns')"
   ]
  },
  {
   "cell_type": "code",
   "execution_count": 7,
   "metadata": {
    "ExecuteTime": {
     "end_time": "2022-01-05T20:53:35.474669Z",
     "start_time": "2022-01-05T20:53:34.963828Z"
    }
   },
   "outputs": [],
   "source": [
    "#drop no longer relevant columns\n",
    "df.drop(['RegionID','SizeRank','City','CountyName'],axis=1,inplace=True)"
   ]
  },
  {
   "cell_type": "code",
   "execution_count": 8,
   "metadata": {
    "ExecuteTime": {
     "end_time": "2022-01-05T20:53:36.720720Z",
     "start_time": "2022-01-05T20:53:35.496426Z"
    }
   },
   "outputs": [],
   "source": [
    "Arizona_df= df[(df['State'] == 'AZ')]"
   ]
  },
  {
   "cell_type": "code",
   "execution_count": 9,
   "metadata": {
    "ExecuteTime": {
     "end_time": "2022-01-05T20:53:36.781335Z",
     "start_time": "2022-01-05T20:53:36.725949Z"
    }
   },
   "outputs": [
    {
     "data": {
      "text/html": [
       "<div>\n",
       "<style scoped>\n",
       "    .dataframe tbody tr th:only-of-type {\n",
       "        vertical-align: middle;\n",
       "    }\n",
       "\n",
       "    .dataframe tbody tr th {\n",
       "        vertical-align: top;\n",
       "    }\n",
       "\n",
       "    .dataframe thead th {\n",
       "        text-align: right;\n",
       "    }\n",
       "</style>\n",
       "<table border=\"1\" class=\"dataframe\">\n",
       "  <thead>\n",
       "    <tr style=\"text-align: right;\">\n",
       "      <th></th>\n",
       "      <th>Zipcode</th>\n",
       "      <th>State</th>\n",
       "      <th>Metro</th>\n",
       "      <th>value</th>\n",
       "    </tr>\n",
       "    <tr>\n",
       "      <th>time</th>\n",
       "      <th></th>\n",
       "      <th></th>\n",
       "      <th></th>\n",
       "      <th></th>\n",
       "    </tr>\n",
       "  </thead>\n",
       "  <tbody>\n",
       "    <tr>\n",
       "      <th>1996-04-01</th>\n",
       "      <td>85032</td>\n",
       "      <td>AZ</td>\n",
       "      <td>Phoenix</td>\n",
       "      <td>95400.0</td>\n",
       "    </tr>\n",
       "    <tr>\n",
       "      <th>1996-04-01</th>\n",
       "      <td>85710</td>\n",
       "      <td>AZ</td>\n",
       "      <td>Tucson</td>\n",
       "      <td>94600.0</td>\n",
       "    </tr>\n",
       "    <tr>\n",
       "      <th>1996-04-01</th>\n",
       "      <td>85225</td>\n",
       "      <td>AZ</td>\n",
       "      <td>Phoenix</td>\n",
       "      <td>101200.0</td>\n",
       "    </tr>\n",
       "    <tr>\n",
       "      <th>1996-04-01</th>\n",
       "      <td>85308</td>\n",
       "      <td>AZ</td>\n",
       "      <td>Phoenix</td>\n",
       "      <td>124800.0</td>\n",
       "    </tr>\n",
       "    <tr>\n",
       "      <th>1996-04-01</th>\n",
       "      <td>85281</td>\n",
       "      <td>AZ</td>\n",
       "      <td>Phoenix</td>\n",
       "      <td>81200.0</td>\n",
       "    </tr>\n",
       "    <tr>\n",
       "      <th>...</th>\n",
       "      <td>...</td>\n",
       "      <td>...</td>\n",
       "      <td>...</td>\n",
       "      <td>...</td>\n",
       "    </tr>\n",
       "    <tr>\n",
       "      <th>2018-04-01</th>\n",
       "      <td>86332</td>\n",
       "      <td>AZ</td>\n",
       "      <td>Prescott</td>\n",
       "      <td>172500.0</td>\n",
       "    </tr>\n",
       "    <tr>\n",
       "      <th>2018-04-01</th>\n",
       "      <td>85645</td>\n",
       "      <td>AZ</td>\n",
       "      <td>Tucson</td>\n",
       "      <td>152300.0</td>\n",
       "    </tr>\n",
       "    <tr>\n",
       "      <th>2018-04-01</th>\n",
       "      <td>85928</td>\n",
       "      <td>AZ</td>\n",
       "      <td>Show Low</td>\n",
       "      <td>225100.0</td>\n",
       "    </tr>\n",
       "    <tr>\n",
       "      <th>2018-04-01</th>\n",
       "      <td>85637</td>\n",
       "      <td>AZ</td>\n",
       "      <td>Nogales</td>\n",
       "      <td>320000.0</td>\n",
       "    </tr>\n",
       "    <tr>\n",
       "      <th>2018-04-01</th>\n",
       "      <td>85611</td>\n",
       "      <td>AZ</td>\n",
       "      <td>Nogales</td>\n",
       "      <td>269000.0</td>\n",
       "    </tr>\n",
       "  </tbody>\n",
       "</table>\n",
       "<p>58775 rows × 4 columns</p>\n",
       "</div>"
      ],
      "text/plain": [
       "            Zipcode State     Metro     value\n",
       "time                                         \n",
       "1996-04-01    85032    AZ   Phoenix   95400.0\n",
       "1996-04-01    85710    AZ    Tucson   94600.0\n",
       "1996-04-01    85225    AZ   Phoenix  101200.0\n",
       "1996-04-01    85308    AZ   Phoenix  124800.0\n",
       "1996-04-01    85281    AZ   Phoenix   81200.0\n",
       "...             ...   ...       ...       ...\n",
       "2018-04-01    86332    AZ  Prescott  172500.0\n",
       "2018-04-01    85645    AZ    Tucson  152300.0\n",
       "2018-04-01    85928    AZ  Show Low  225100.0\n",
       "2018-04-01    85637    AZ   Nogales  320000.0\n",
       "2018-04-01    85611    AZ   Nogales  269000.0\n",
       "\n",
       "[58775 rows x 4 columns]"
      ]
     },
     "execution_count": 9,
     "metadata": {},
     "output_type": "execute_result"
    }
   ],
   "source": [
    "Arizona_df"
   ]
  },
  {
   "cell_type": "code",
   "execution_count": 10,
   "metadata": {
    "ExecuteTime": {
     "end_time": "2022-01-05T20:53:36.831768Z",
     "start_time": "2022-01-05T20:53:36.791454Z"
    }
   },
   "outputs": [],
   "source": [
    "Arizona_recent_yrs=Arizona_df['2009-01-01':'2018-04-01']"
   ]
  },
  {
   "cell_type": "code",
   "execution_count": 11,
   "metadata": {
    "ExecuteTime": {
     "end_time": "2022-01-05T20:53:36.912479Z",
     "start_time": "2022-01-05T20:53:36.851991Z"
    }
   },
   "outputs": [
    {
     "data": {
      "text/html": [
       "<div>\n",
       "<style scoped>\n",
       "    .dataframe tbody tr th:only-of-type {\n",
       "        vertical-align: middle;\n",
       "    }\n",
       "\n",
       "    .dataframe tbody tr th {\n",
       "        vertical-align: top;\n",
       "    }\n",
       "\n",
       "    .dataframe thead th {\n",
       "        text-align: right;\n",
       "    }\n",
       "</style>\n",
       "<table border=\"1\" class=\"dataframe\">\n",
       "  <thead>\n",
       "    <tr style=\"text-align: right;\">\n",
       "      <th></th>\n",
       "      <th>Zipcode</th>\n",
       "      <th>State</th>\n",
       "      <th>Metro</th>\n",
       "      <th>value</th>\n",
       "    </tr>\n",
       "    <tr>\n",
       "      <th>time</th>\n",
       "      <th></th>\n",
       "      <th></th>\n",
       "      <th></th>\n",
       "      <th></th>\n",
       "    </tr>\n",
       "  </thead>\n",
       "  <tbody>\n",
       "    <tr>\n",
       "      <th>2009-01-01</th>\n",
       "      <td>85032</td>\n",
       "      <td>AZ</td>\n",
       "      <td>Phoenix</td>\n",
       "      <td>190200.0</td>\n",
       "    </tr>\n",
       "    <tr>\n",
       "      <th>2009-01-01</th>\n",
       "      <td>85710</td>\n",
       "      <td>AZ</td>\n",
       "      <td>Tucson</td>\n",
       "      <td>171100.0</td>\n",
       "    </tr>\n",
       "    <tr>\n",
       "      <th>2009-01-01</th>\n",
       "      <td>85225</td>\n",
       "      <td>AZ</td>\n",
       "      <td>Phoenix</td>\n",
       "      <td>179900.0</td>\n",
       "    </tr>\n",
       "    <tr>\n",
       "      <th>2009-01-01</th>\n",
       "      <td>85308</td>\n",
       "      <td>AZ</td>\n",
       "      <td>Phoenix</td>\n",
       "      <td>212000.0</td>\n",
       "    </tr>\n",
       "    <tr>\n",
       "      <th>2009-01-01</th>\n",
       "      <td>85281</td>\n",
       "      <td>AZ</td>\n",
       "      <td>Phoenix</td>\n",
       "      <td>181300.0</td>\n",
       "    </tr>\n",
       "    <tr>\n",
       "      <th>...</th>\n",
       "      <td>...</td>\n",
       "      <td>...</td>\n",
       "      <td>...</td>\n",
       "      <td>...</td>\n",
       "    </tr>\n",
       "    <tr>\n",
       "      <th>2018-04-01</th>\n",
       "      <td>86332</td>\n",
       "      <td>AZ</td>\n",
       "      <td>Prescott</td>\n",
       "      <td>172500.0</td>\n",
       "    </tr>\n",
       "    <tr>\n",
       "      <th>2018-04-01</th>\n",
       "      <td>85645</td>\n",
       "      <td>AZ</td>\n",
       "      <td>Tucson</td>\n",
       "      <td>152300.0</td>\n",
       "    </tr>\n",
       "    <tr>\n",
       "      <th>2018-04-01</th>\n",
       "      <td>85928</td>\n",
       "      <td>AZ</td>\n",
       "      <td>Show Low</td>\n",
       "      <td>225100.0</td>\n",
       "    </tr>\n",
       "    <tr>\n",
       "      <th>2018-04-01</th>\n",
       "      <td>85637</td>\n",
       "      <td>AZ</td>\n",
       "      <td>Nogales</td>\n",
       "      <td>320000.0</td>\n",
       "    </tr>\n",
       "    <tr>\n",
       "      <th>2018-04-01</th>\n",
       "      <td>85611</td>\n",
       "      <td>AZ</td>\n",
       "      <td>Nogales</td>\n",
       "      <td>269000.0</td>\n",
       "    </tr>\n",
       "  </tbody>\n",
       "</table>\n",
       "<p>25520 rows × 4 columns</p>\n",
       "</div>"
      ],
      "text/plain": [
       "            Zipcode State     Metro     value\n",
       "time                                         \n",
       "2009-01-01    85032    AZ   Phoenix  190200.0\n",
       "2009-01-01    85710    AZ    Tucson  171100.0\n",
       "2009-01-01    85225    AZ   Phoenix  179900.0\n",
       "2009-01-01    85308    AZ   Phoenix  212000.0\n",
       "2009-01-01    85281    AZ   Phoenix  181300.0\n",
       "...             ...   ...       ...       ...\n",
       "2018-04-01    86332    AZ  Prescott  172500.0\n",
       "2018-04-01    85645    AZ    Tucson  152300.0\n",
       "2018-04-01    85928    AZ  Show Low  225100.0\n",
       "2018-04-01    85637    AZ   Nogales  320000.0\n",
       "2018-04-01    85611    AZ   Nogales  269000.0\n",
       "\n",
       "[25520 rows x 4 columns]"
      ]
     },
     "execution_count": 11,
     "metadata": {},
     "output_type": "execute_result"
    }
   ],
   "source": [
    "Arizona_recent_yrs"
   ]
  },
  {
   "cell_type": "code",
   "execution_count": 12,
   "metadata": {
    "ExecuteTime": {
     "end_time": "2022-01-05T20:53:36.952950Z",
     "start_time": "2022-01-05T20:53:36.927461Z"
    }
   },
   "outputs": [],
   "source": [
    "Phoenix_data = Arizona_recent_yrs[(Arizona_recent_yrs['Metro'] == 'Phoenix')]"
   ]
  },
  {
   "cell_type": "code",
   "execution_count": 13,
   "metadata": {
    "ExecuteTime": {
     "end_time": "2022-01-05T20:53:36.974656Z",
     "start_time": "2022-01-05T20:53:36.956121Z"
    }
   },
   "outputs": [],
   "source": [
    "Phoenix_data\n",
    "Phoenix_data=Phoenix_data.drop(['State','Metro'],axis=1)"
   ]
  },
  {
   "cell_type": "code",
   "execution_count": 14,
   "metadata": {
    "ExecuteTime": {
     "end_time": "2022-01-05T20:53:36.999528Z",
     "start_time": "2022-01-05T20:53:36.980634Z"
    }
   },
   "outputs": [],
   "source": [
    "top_10_zips_phx=Phoenix_data[(Phoenix_data['Zipcode'] == 85253)|(Phoenix_data['Zipcode'] == 85262)|\n",
    "(Phoenix_data['Zipcode'] == 85377)| (Phoenix_data['Zipcode'] == 85255)|(Phoenix_data['Zipcode'] == 85266)|\n",
    "                             (Phoenix_data['Zipcode'] == 85259)|(Phoenix_data['Zipcode'] == 85258)|\n",
    "                             (Phoenix_data['Zipcode'] == 85018)|(Phoenix_data['Zipcode'] == 85263)|\n",
    "                             (Phoenix_data['Zipcode'] == 85054)]"
   ]
  },
  {
   "cell_type": "code",
   "execution_count": 17,
   "metadata": {
    "ExecuteTime": {
     "end_time": "2022-01-05T20:53:47.739689Z",
     "start_time": "2022-01-05T20:53:47.723077Z"
    }
   },
   "outputs": [],
   "source": [
    "zip_zipcode=top_10_zips_phx[top_10_zips_phx['Zipcode']==85258]"
   ]
  },
  {
   "cell_type": "code",
   "execution_count": 18,
   "metadata": {
    "ExecuteTime": {
     "end_time": "2022-01-05T20:53:48.760065Z",
     "start_time": "2022-01-05T20:53:48.705242Z"
    }
   },
   "outputs": [
    {
     "data": {
      "text/html": [
       "<div>\n",
       "<style scoped>\n",
       "    .dataframe tbody tr th:only-of-type {\n",
       "        vertical-align: middle;\n",
       "    }\n",
       "\n",
       "    .dataframe tbody tr th {\n",
       "        vertical-align: top;\n",
       "    }\n",
       "\n",
       "    .dataframe thead th {\n",
       "        text-align: right;\n",
       "    }\n",
       "</style>\n",
       "<table border=\"1\" class=\"dataframe\">\n",
       "  <thead>\n",
       "    <tr style=\"text-align: right;\">\n",
       "      <th></th>\n",
       "      <th>value</th>\n",
       "    </tr>\n",
       "    <tr>\n",
       "      <th>time</th>\n",
       "      <th></th>\n",
       "    </tr>\n",
       "  </thead>\n",
       "  <tbody>\n",
       "    <tr>\n",
       "      <th>2009-01-01</th>\n",
       "      <td>466800.0</td>\n",
       "    </tr>\n",
       "    <tr>\n",
       "      <th>2009-02-01</th>\n",
       "      <td>459400.0</td>\n",
       "    </tr>\n",
       "    <tr>\n",
       "      <th>2009-03-01</th>\n",
       "      <td>451300.0</td>\n",
       "    </tr>\n",
       "    <tr>\n",
       "      <th>2009-04-01</th>\n",
       "      <td>442400.0</td>\n",
       "    </tr>\n",
       "    <tr>\n",
       "      <th>2009-05-01</th>\n",
       "      <td>434000.0</td>\n",
       "    </tr>\n",
       "    <tr>\n",
       "      <th>...</th>\n",
       "      <td>...</td>\n",
       "    </tr>\n",
       "    <tr>\n",
       "      <th>2017-12-01</th>\n",
       "      <td>564700.0</td>\n",
       "    </tr>\n",
       "    <tr>\n",
       "      <th>2018-01-01</th>\n",
       "      <td>569100.0</td>\n",
       "    </tr>\n",
       "    <tr>\n",
       "      <th>2018-02-01</th>\n",
       "      <td>572400.0</td>\n",
       "    </tr>\n",
       "    <tr>\n",
       "      <th>2018-03-01</th>\n",
       "      <td>575900.0</td>\n",
       "    </tr>\n",
       "    <tr>\n",
       "      <th>2018-04-01</th>\n",
       "      <td>578600.0</td>\n",
       "    </tr>\n",
       "  </tbody>\n",
       "</table>\n",
       "<p>112 rows × 1 columns</p>\n",
       "</div>"
      ],
      "text/plain": [
       "               value\n",
       "time                \n",
       "2009-01-01  466800.0\n",
       "2009-02-01  459400.0\n",
       "2009-03-01  451300.0\n",
       "2009-04-01  442400.0\n",
       "2009-05-01  434000.0\n",
       "...              ...\n",
       "2017-12-01  564700.0\n",
       "2018-01-01  569100.0\n",
       "2018-02-01  572400.0\n",
       "2018-03-01  575900.0\n",
       "2018-04-01  578600.0\n",
       "\n",
       "[112 rows x 1 columns]"
      ]
     },
     "execution_count": 18,
     "metadata": {},
     "output_type": "execute_result"
    }
   ],
   "source": [
    "zip_zipcode.drop('Zipcode',axis=1,inplace=True)\n",
    "\n",
    "zip_zipcode"
   ]
  },
  {
   "cell_type": "code",
   "execution_count": 19,
   "metadata": {
    "ExecuteTime": {
     "end_time": "2022-01-05T20:53:49.444059Z",
     "start_time": "2022-01-05T20:53:49.439167Z"
    }
   },
   "outputs": [],
   "source": [
    "resampled_shift_1 = zip_zipcode[['value']].shift(1)\n",
    "resampled_shift_1.bfill(inplace=True)"
   ]
  },
  {
   "cell_type": "code",
   "execution_count": 20,
   "metadata": {
    "ExecuteTime": {
     "end_time": "2022-01-05T20:53:52.314499Z",
     "start_time": "2022-01-05T20:53:52.277966Z"
    }
   },
   "outputs": [],
   "source": [
    "zip_zipcode['growth'] = (zip_zipcode['value'] - resampled_shift_1['value'])/(resampled_shift_1['value'])\n",
    "zip_zipcode['growth']= zip_zipcode['growth']"
   ]
  },
  {
   "cell_type": "code",
   "execution_count": 21,
   "metadata": {
    "ExecuteTime": {
     "end_time": "2022-01-05T20:53:52.631767Z",
     "start_time": "2022-01-05T20:53:52.620273Z"
    }
   },
   "outputs": [],
   "source": [
    "zip_zipcode.drop('value',axis=1,inplace=True)"
   ]
  },
  {
   "cell_type": "code",
   "execution_count": 22,
   "metadata": {
    "ExecuteTime": {
     "end_time": "2022-01-05T20:53:53.178628Z",
     "start_time": "2022-01-05T20:53:53.143195Z"
    }
   },
   "outputs": [
    {
     "name": "stdout",
     "output_type": "stream",
     "text": [
      "\n",
      "Results of Dickey-Fuller Test: \n",
      "\n",
      "Test Statistic                  -2.296801\n",
      "p-value                          0.173002\n",
      "#Lags Used                       7.000000\n",
      "Number of Observations Used    104.000000\n",
      "Critical Value (1%)             -3.494850\n",
      "Critical Value (5%)             -2.889758\n",
      "Critical Value (10%)            -2.581822\n",
      "dtype: float64\n"
     ]
    }
   ],
   "source": [
    "stationarity_check(zip_zipcode)"
   ]
  },
  {
   "cell_type": "code",
   "execution_count": 23,
   "metadata": {
    "ExecuteTime": {
     "end_time": "2022-01-05T20:53:55.981888Z",
     "start_time": "2022-01-05T20:53:55.971762Z"
    }
   },
   "outputs": [],
   "source": [
    "zip_zipcode=zip_zipcode[1:]"
   ]
  },
  {
   "cell_type": "code",
   "execution_count": 24,
   "metadata": {
    "ExecuteTime": {
     "end_time": "2022-01-05T20:53:59.082730Z",
     "start_time": "2022-01-05T20:53:59.073592Z"
    }
   },
   "outputs": [],
   "source": [
    "zip_zipcode=(np.log(zip_zipcode).diff())"
   ]
  },
  {
   "cell_type": "code",
   "execution_count": 25,
   "metadata": {
    "ExecuteTime": {
     "end_time": "2022-01-05T20:53:59.579265Z",
     "start_time": "2022-01-05T20:53:59.573013Z"
    }
   },
   "outputs": [
    {
     "data": {
      "text/plain": [
       "89"
      ]
     },
     "execution_count": 25,
     "metadata": {},
     "output_type": "execute_result"
    }
   ],
   "source": [
    "cutoff = round(zip_zipcode.shape[0]*0.8)\n",
    "cutoff"
   ]
  },
  {
   "cell_type": "code",
   "execution_count": 26,
   "metadata": {
    "ExecuteTime": {
     "end_time": "2022-01-05T20:54:00.135478Z",
     "start_time": "2022-01-05T20:54:00.121498Z"
    }
   },
   "outputs": [],
   "source": [
    "# Define train and test sets according to the index found above\n",
    "train = zip_zipcode[:cutoff]\n",
    "\n",
    "test = zip_zipcode[cutoff:]"
   ]
  },
  {
   "cell_type": "code",
   "execution_count": 27,
   "metadata": {
    "ExecuteTime": {
     "end_time": "2022-01-05T20:54:00.745121Z",
     "start_time": "2022-01-05T20:54:00.731582Z"
    }
   },
   "outputs": [
    {
     "name": "stdout",
     "output_type": "stream",
     "text": [
      "[ 0  1  2  3  4  5  6  7  8  9 10 11 12 13 14 15 16 17 18] [19 20 21 22 23 24 25 26 27 28 29 30 31 32]\n",
      "[ 0  1  2  3  4  5  6  7  8  9 10 11 12 13 14 15 16 17 18 19 20 21 22 23\n",
      " 24 25 26 27 28 29 30 31 32] [33 34 35 36 37 38 39 40 41 42 43 44 45 46]\n",
      "[ 0  1  2  3  4  5  6  7  8  9 10 11 12 13 14 15 16 17 18 19 20 21 22 23\n",
      " 24 25 26 27 28 29 30 31 32 33 34 35 36 37 38 39 40 41 42 43 44 45 46] [47 48 49 50 51 52 53 54 55 56 57 58 59 60]\n",
      "[ 0  1  2  3  4  5  6  7  8  9 10 11 12 13 14 15 16 17 18 19 20 21 22 23\n",
      " 24 25 26 27 28 29 30 31 32 33 34 35 36 37 38 39 40 41 42 43 44 45 46 47\n",
      " 48 49 50 51 52 53 54 55 56 57 58 59 60] [61 62 63 64 65 66 67 68 69 70 71 72 73 74]\n",
      "[ 0  1  2  3  4  5  6  7  8  9 10 11 12 13 14 15 16 17 18 19 20 21 22 23\n",
      " 24 25 26 27 28 29 30 31 32 33 34 35 36 37 38 39 40 41 42 43 44 45 46 47\n",
      " 48 49 50 51 52 53 54 55 56 57 58 59 60 61 62 63 64 65 66 67 68 69 70 71\n",
      " 72 73 74] [75 76 77 78 79 80 81 82 83 84 85 86 87 88]\n"
     ]
    }
   ],
   "source": [
    "split = TimeSeriesSplit()\n",
    "\n",
    "for train_ind, val_ind in split.split(train):\n",
    "    print(train_ind, val_ind)"
   ]
  },
  {
   "cell_type": "code",
   "execution_count": 28,
   "metadata": {
    "ExecuteTime": {
     "end_time": "2022-01-05T20:54:01.433386Z",
     "start_time": "2022-01-05T20:54:01.422787Z"
    }
   },
   "outputs": [],
   "source": [
    "baseline = train.shift(1)\n",
    "baseline.dropna(inplace=True)"
   ]
  },
  {
   "cell_type": "code",
   "execution_count": 29,
   "metadata": {
    "ExecuteTime": {
     "end_time": "2022-01-05T20:54:01.947257Z",
     "start_time": "2022-01-05T20:54:01.941852Z"
    }
   },
   "outputs": [],
   "source": [
    "train.dropna(inplace=True)"
   ]
  },
  {
   "cell_type": "code",
   "execution_count": 30,
   "metadata": {
    "ExecuteTime": {
     "end_time": "2022-01-05T20:54:03.081000Z",
     "start_time": "2022-01-05T20:54:02.586139Z"
    }
   },
   "outputs": [
    {
     "data": {
      "image/png": "[encoded data removed]",
      "text/plain": [
       "<Figure size 432x288 with 1 Axes>"
      ]
     },
     "metadata": {
      "needs_background": "light"
     },
     "output_type": "display_data"
    }
   ],
   "source": [
    "fig, ax = plt.subplots()\n",
    "\n",
    "train[0:30].plot(ax=ax, c='r', label='original')\n",
    "baseline[0:30].plot(ax=ax, c='b', label='shifted')\n",
    "ax.set_title('baseline')\n",
    "ax.legend();"
   ]
  },
  {
   "cell_type": "code",
   "execution_count": 31,
   "metadata": {
    "ExecuteTime": {
     "end_time": "2022-01-05T20:54:03.720186Z",
     "start_time": "2022-01-05T20:54:03.711232Z"
    }
   },
   "outputs": [],
   "source": [
    "#np.sqrt(mean_squared_error(train[1:], baseline.dropna()))"
   ]
  },
  {
   "cell_type": "code",
   "execution_count": 32,
   "metadata": {
    "ExecuteTime": {
     "end_time": "2022-01-05T20:54:04.424390Z",
     "start_time": "2022-01-05T20:54:04.403765Z"
    }
   },
   "outputs": [
    {
     "name": "stdout",
     "output_type": "stream",
     "text": [
      "The p-value associated with the Dickey-Fuller statistical test is 0.0072235243255484635,\n",
      " so we can safely assume that the differenced data is stationary.\n"
     ]
    }
   ],
   "source": [
    "p_val = adfuller(train[1:])[1]\n",
    "print(f\"The p-value associated with the Dickey-Fuller statistical test is {p_val},\")\n",
    "if p_val < 0.05:\n",
    "    print(\" so we can safely assume that the differenced data is stationary.\")\n",
    "else:\n",
    "    print(\" so we cannot reject the null hypothesis that the differenced data is \\\n",
    "not stationary.\")"
   ]
  },
  {
   "cell_type": "code",
   "execution_count": 33,
   "metadata": {
    "ExecuteTime": {
     "end_time": "2022-01-05T20:54:05.838916Z",
     "start_time": "2022-01-05T20:54:05.752147Z"
    }
   },
   "outputs": [
    {
     "data": {
      "text/plain": [
       "time\n",
       "2010-01-01    0.000000\n",
       "2010-04-01    1.098370\n",
       "2011-11-01    0.613743\n",
       "2011-12-01    0.813041\n",
       "2012-01-01    0.897709\n",
       "2012-02-01    0.186327\n",
       "2012-03-01    0.043180\n",
       "2012-04-01    0.099010\n",
       "2012-05-01    0.122944\n",
       "2012-06-01    0.092087\n",
       "2012-07-01    0.054623\n",
       "2012-08-01    0.080566\n",
       "2012-09-01   -0.026455\n",
       "2012-10-01   -0.453331\n",
       "2012-11-01   -0.504616\n",
       "2012-12-01    0.153735\n",
       "2013-01-01    0.280148\n",
       "2013-02-01   -0.235067\n",
       "2013-03-01   -0.230513\n",
       "2013-04-01    0.031369\n",
       "2013-05-01    0.078040\n",
       "2013-06-01    0.244501\n",
       "2013-07-01    0.296710\n",
       "2013-08-01   -0.029240\n",
       "2013-09-01   -0.404054\n",
       "2013-10-01   -0.411410\n",
       "2013-11-01   -0.549630\n",
       "2014-09-01   -1.146500\n",
       "2014-10-01    0.090578\n",
       "2014-11-01    0.782203\n",
       "2015-05-01   -0.279425\n",
       "2015-06-01    0.626916\n",
       "2015-07-01    0.949337\n",
       "2015-08-01   -0.013426\n",
       "2015-09-01   -0.060050\n",
       "2015-10-01   -0.010230\n",
       "2015-11-01   -0.202817\n",
       "2015-12-01   -0.342067\n",
       "2016-01-01   -0.110854\n",
       "2016-02-01   -0.252938\n",
       "2016-03-01   -0.437229\n",
       "2016-04-01    0.273094\n",
       "Name: predicted_mean, dtype: float64"
      ]
     },
     "execution_count": 33,
     "metadata": {},
     "output_type": "execute_result"
    }
   ],
   "source": [
    "ar_1 = ARIMA(train, order=(1, 1, 0)).fit()\n",
    "\n",
    "# We put a typ='levels' to convert our predictions to remove the differencing performed.\n",
    "ar_1.predict(typ='levels')"
   ]
  },
  {
   "cell_type": "code",
   "execution_count": 34,
   "metadata": {
    "ExecuteTime": {
     "end_time": "2022-01-05T20:54:06.646877Z",
     "start_time": "2022-01-05T20:54:06.246349Z"
    }
   },
   "outputs": [],
   "source": [
    "sari_mod =SARIMAX(train,\n",
    "                  order=(0, 1, 0),\n",
    "                  seasonal_order=(0, 1, 1, 52),\n",
    "                  enforce_stationarity=False,\n",
    "                  enforce_invertibility=False).fit()"
   ]
  },
  {
   "cell_type": "code",
   "execution_count": 35,
   "metadata": {
    "ExecuteTime": {
     "end_time": "2022-01-05T20:54:06.694754Z",
     "start_time": "2022-01-05T20:54:06.677796Z"
    }
   },
   "outputs": [],
   "source": [
    "train_with_ind = train.reset_index()"
   ]
  },
  {
   "cell_type": "code",
   "execution_count": 36,
   "metadata": {
    "ExecuteTime": {
     "end_time": "2022-01-05T20:54:09.280731Z",
     "start_time": "2022-01-05T20:54:07.361918Z"
    }
   },
   "outputs": [
    {
     "name": "stdout",
     "output_type": "stream",
     "text": [
      "0.37325770777258277\n",
      "0.48303425296922237\n",
      "1.0777774622932306\n",
      "1.5686290171179302\n",
      "0.4837211846144506\n"
     ]
    }
   ],
   "source": [
    "for train_ind, val_ind in split.split(train_with_ind):\n",
    "    sarimax = SARIMAX(endog=train_with_ind.iloc[train_ind, -1],\n",
    "                      order=(1, 1, 1),\n",
    "                     seasonal_order=(0, 1, 1, 52),\n",
    "                     enforce_stationarity=False,\n",
    "                     enforce_invertibility=False).fit()\n",
    "    preds = sarimax.predict(typ='levels', start=val_ind[0], end=val_ind[-1])\n",
    "    true = train_with_ind.iloc[val_ind, -1]\n",
    "    print(np.sqrt(mean_squared_error(true, preds)))"
   ]
  },
  {
   "cell_type": "code",
   "execution_count": 37,
   "metadata": {
    "ExecuteTime": {
     "end_time": "2022-01-05T20:54:17.763220Z",
     "start_time": "2022-01-05T20:54:09.286237Z"
    }
   },
   "outputs": [],
   "source": [
    "sari_mod = SARIMAX(zip_zipcode,\n",
    "                  order=(1, 1, 1),\n",
    "                  seasonal_order=(0, 1, 1, 52),\n",
    "                  enforce_stationarity=False,\n",
    "                  enforce_invertibility=False).fit()"
   ]
  },
  {
   "cell_type": "code",
   "execution_count": 45,
   "metadata": {
    "ExecuteTime": {
     "end_time": "2022-01-05T20:55:19.075765Z",
     "start_time": "2022-01-05T20:55:18.867922Z"
    }
   },
   "outputs": [],
   "source": [
    "forecast = sari_mod.forecast(steps=75)"
   ]
  },
  {
   "cell_type": "code",
   "execution_count": 46,
   "metadata": {
    "ExecuteTime": {
     "end_time": "2022-01-05T20:55:20.594985Z",
     "start_time": "2022-01-05T20:55:19.225355Z"
    }
   },
   "outputs": [
    {
     "data": {
      "image/png": "[encoded data removed]",
      "text/plain": [
       "<Figure size 432x288 with 1 Axes>"
      ]
     },
     "metadata": {
      "needs_background": "light"
     },
     "output_type": "display_data"
    }
   ],
   "source": [
    "fig, ax = plt.subplots()\n",
    "ax.plot(zip_zipcode, label='so_far')\n",
    "ax.plot(forecast, label='forecast')\n",
    "ax.set_title('85258 Growth Forecast')\n",
    "\n",
    "plt.legend();"
   ]
  },
  {
   "cell_type": "code",
   "execution_count": 47,
   "metadata": {
    "ExecuteTime": {
     "end_time": "2022-01-05T20:55:20.795636Z",
     "start_time": "2022-01-05T20:55:20.635649Z"
    }
   },
   "outputs": [
    {
     "data": {
      "text/plain": [
       "1.4896795880608877"
      ]
     },
     "execution_count": 47,
     "metadata": {},
     "output_type": "execute_result"
    }
   ],
   "source": [
    "forecast.mean()"
   ]
  }
 ],
 "metadata": {
  "kernelspec": {
   "display_name": "Python (learn-env)",
   "language": "python",
   "name": "learn-env"
  },
  "language_info": {
   "codemirror_mode": {
    "name": "ipython",
    "version": 3
   },
   "file_extension": ".py",
   "mimetype": "text/x-python",
   "name": "python",
   "nbconvert_exporter": "python",
   "pygments_lexer": "ipython3",
   "version": "3.8.5"
  }
 },
 "nbformat": 4,
 "nbformat_minor": 4
}
