{
 "cells": [
  {
   "cell_type": "code",
   "execution_count": 1,
   "metadata": {
    "ExecuteTime": {
     "end_time": "2022-01-05T22:08:38.559105Z",
     "start_time": "2022-01-05T22:08:30.147679Z"
    }
   },
   "outputs": [],
   "source": [
    "#Import relevant packages\n",
    "import pandas as pd\n",
    "import numpy as np\n",
    "import matplotlib.pyplot as plt\n",
    "import seaborn as sns\n",
    "from statsmodels.tsa.stattools import adfuller\n",
    "from statsmodels.graphics.tsaplots import plot_pacf,plot_acf\n",
    "from statsmodels.tsa.arima_model import ARMA\n",
    "from sklearn.model_selection import TimeSeriesSplit\n",
    "from sklearn.metrics import mean_squared_error\n",
    "from statsmodels.tsa.arima.model import ARIMA\n",
    "from statsmodels.tsa.statespace.sarimax import SARIMAX\n",
    "import itertools\n",
    "import warnings\n",
    "warnings.filterwarnings('ignore')"
   ]
  },
  {
   "cell_type": "code",
   "execution_count": 2,
   "metadata": {
    "ExecuteTime": {
     "end_time": "2022-01-05T22:08:38.660688Z",
     "start_time": "2022-01-05T22:08:38.565402Z"
    }
   },
   "outputs": [],
   "source": [
    "#Import functions notebook and load data set here\n",
    "import sys\n",
    "sys.path.append(\"../\")\n",
    "from time_series_functions import *"
   ]
  },
  {
   "cell_type": "code",
   "execution_count": 3,
   "metadata": {
    "ExecuteTime": {
     "end_time": "2022-01-05T22:08:49.611345Z",
     "start_time": "2022-01-05T22:08:48.133717Z"
    }
   },
   "outputs": [],
   "source": [
    "df=pd.read_csv('../zillow_data.csv')"
   ]
  },
  {
   "cell_type": "code",
   "execution_count": 4,
   "metadata": {
    "ExecuteTime": {
     "end_time": "2022-01-05T22:08:55.488656Z",
     "start_time": "2022-01-05T22:08:49.625839Z"
    }
   },
   "outputs": [],
   "source": [
    "df=melt_data2(df)"
   ]
  },
  {
   "cell_type": "code",
   "execution_count": 5,
   "metadata": {
    "ExecuteTime": {
     "end_time": "2022-01-05T22:08:55.541900Z",
     "start_time": "2022-01-05T22:08:55.508916Z"
    }
   },
   "outputs": [],
   "source": [
    "df.set_index('time',inplace=True)"
   ]
  },
  {
   "cell_type": "code",
   "execution_count": 6,
   "metadata": {
    "ExecuteTime": {
     "end_time": "2022-01-05T22:08:55.944232Z",
     "start_time": "2022-01-05T22:08:55.553866Z"
    }
   },
   "outputs": [],
   "source": [
    "# Rename RegionName to be Zipcode\n",
    "df=df.rename({'RegionName':'Zipcode'},axis='columns')"
   ]
  },
  {
   "cell_type": "code",
   "execution_count": 7,
   "metadata": {
    "ExecuteTime": {
     "end_time": "2022-01-05T22:08:56.190253Z",
     "start_time": "2022-01-05T22:08:55.959941Z"
    }
   },
   "outputs": [],
   "source": [
    "#drop no longer relevant columns\n",
    "df.drop(['RegionID','SizeRank','City','CountyName'],axis=1,inplace=True)"
   ]
  },
  {
   "cell_type": "code",
   "execution_count": 8,
   "metadata": {
    "ExecuteTime": {
     "end_time": "2022-01-05T22:08:56.682024Z",
     "start_time": "2022-01-05T22:08:56.199202Z"
    }
   },
   "outputs": [],
   "source": [
    "Arizona_df= df[(df['State'] == 'AZ')]"
   ]
  },
  {
   "cell_type": "code",
   "execution_count": 9,
   "metadata": {
    "ExecuteTime": {
     "end_time": "2022-01-05T22:08:56.799815Z",
     "start_time": "2022-01-05T22:08:56.722339Z"
    }
   },
   "outputs": [
    {
     "data": {
      "text/html": [
       "<div>\n",
       "<style scoped>\n",
       "    .dataframe tbody tr th:only-of-type {\n",
       "        vertical-align: middle;\n",
       "    }\n",
       "\n",
       "    .dataframe tbody tr th {\n",
       "        vertical-align: top;\n",
       "    }\n",
       "\n",
       "    .dataframe thead th {\n",
       "        text-align: right;\n",
       "    }\n",
       "</style>\n",
       "<table border=\"1\" class=\"dataframe\">\n",
       "  <thead>\n",
       "    <tr style=\"text-align: right;\">\n",
       "      <th></th>\n",
       "      <th>Zipcode</th>\n",
       "      <th>State</th>\n",
       "      <th>Metro</th>\n",
       "      <th>value</th>\n",
       "    </tr>\n",
       "    <tr>\n",
       "      <th>time</th>\n",
       "      <th></th>\n",
       "      <th></th>\n",
       "      <th></th>\n",
       "      <th></th>\n",
       "    </tr>\n",
       "  </thead>\n",
       "  <tbody>\n",
       "    <tr>\n",
       "      <th>1996-04-01</th>\n",
       "      <td>85032</td>\n",
       "      <td>AZ</td>\n",
       "      <td>Phoenix</td>\n",
       "      <td>95400.0</td>\n",
       "    </tr>\n",
       "    <tr>\n",
       "      <th>1996-04-01</th>\n",
       "      <td>85710</td>\n",
       "      <td>AZ</td>\n",
       "      <td>Tucson</td>\n",
       "      <td>94600.0</td>\n",
       "    </tr>\n",
       "    <tr>\n",
       "      <th>1996-04-01</th>\n",
       "      <td>85225</td>\n",
       "      <td>AZ</td>\n",
       "      <td>Phoenix</td>\n",
       "      <td>101200.0</td>\n",
       "    </tr>\n",
       "    <tr>\n",
       "      <th>1996-04-01</th>\n",
       "      <td>85308</td>\n",
       "      <td>AZ</td>\n",
       "      <td>Phoenix</td>\n",
       "      <td>124800.0</td>\n",
       "    </tr>\n",
       "    <tr>\n",
       "      <th>1996-04-01</th>\n",
       "      <td>85281</td>\n",
       "      <td>AZ</td>\n",
       "      <td>Phoenix</td>\n",
       "      <td>81200.0</td>\n",
       "    </tr>\n",
       "    <tr>\n",
       "      <th>...</th>\n",
       "      <td>...</td>\n",
       "      <td>...</td>\n",
       "      <td>...</td>\n",
       "      <td>...</td>\n",
       "    </tr>\n",
       "    <tr>\n",
       "      <th>2018-04-01</th>\n",
       "      <td>86332</td>\n",
       "      <td>AZ</td>\n",
       "      <td>Prescott</td>\n",
       "      <td>172500.0</td>\n",
       "    </tr>\n",
       "    <tr>\n",
       "      <th>2018-04-01</th>\n",
       "      <td>85645</td>\n",
       "      <td>AZ</td>\n",
       "      <td>Tucson</td>\n",
       "      <td>152300.0</td>\n",
       "    </tr>\n",
       "    <tr>\n",
       "      <th>2018-04-01</th>\n",
       "      <td>85928</td>\n",
       "      <td>AZ</td>\n",
       "      <td>Show Low</td>\n",
       "      <td>225100.0</td>\n",
       "    </tr>\n",
       "    <tr>\n",
       "      <th>2018-04-01</th>\n",
       "      <td>85637</td>\n",
       "      <td>AZ</td>\n",
       "      <td>Nogales</td>\n",
       "      <td>320000.0</td>\n",
       "    </tr>\n",
       "    <tr>\n",
       "      <th>2018-04-01</th>\n",
       "      <td>85611</td>\n",
       "      <td>AZ</td>\n",
       "      <td>Nogales</td>\n",
       "      <td>269000.0</td>\n",
       "    </tr>\n",
       "  </tbody>\n",
       "</table>\n",
       "<p>58775 rows × 4 columns</p>\n",
       "</div>"
      ],
      "text/plain": [
       "            Zipcode State     Metro     value\n",
       "time                                         \n",
       "1996-04-01    85032    AZ   Phoenix   95400.0\n",
       "1996-04-01    85710    AZ    Tucson   94600.0\n",
       "1996-04-01    85225    AZ   Phoenix  101200.0\n",
       "1996-04-01    85308    AZ   Phoenix  124800.0\n",
       "1996-04-01    85281    AZ   Phoenix   81200.0\n",
       "...             ...   ...       ...       ...\n",
       "2018-04-01    86332    AZ  Prescott  172500.0\n",
       "2018-04-01    85645    AZ    Tucson  152300.0\n",
       "2018-04-01    85928    AZ  Show Low  225100.0\n",
       "2018-04-01    85637    AZ   Nogales  320000.0\n",
       "2018-04-01    85611    AZ   Nogales  269000.0\n",
       "\n",
       "[58775 rows x 4 columns]"
      ]
     },
     "execution_count": 9,
     "metadata": {},
     "output_type": "execute_result"
    }
   ],
   "source": [
    "Arizona_df"
   ]
  },
  {
   "cell_type": "code",
   "execution_count": 10,
   "metadata": {
    "ExecuteTime": {
     "end_time": "2022-01-05T22:08:56.920746Z",
     "start_time": "2022-01-05T22:08:56.845978Z"
    }
   },
   "outputs": [],
   "source": [
    "Arizona_recent_yrs=Arizona_df['2009-01-01':'2018-04-01']"
   ]
  },
  {
   "cell_type": "code",
   "execution_count": 11,
   "metadata": {
    "ExecuteTime": {
     "end_time": "2022-01-05T22:08:57.011935Z",
     "start_time": "2022-01-05T22:08:56.948759Z"
    }
   },
   "outputs": [
    {
     "data": {
      "text/html": [
       "<div>\n",
       "<style scoped>\n",
       "    .dataframe tbody tr th:only-of-type {\n",
       "        vertical-align: middle;\n",
       "    }\n",
       "\n",
       "    .dataframe tbody tr th {\n",
       "        vertical-align: top;\n",
       "    }\n",
       "\n",
       "    .dataframe thead th {\n",
       "        text-align: right;\n",
       "    }\n",
       "</style>\n",
       "<table border=\"1\" class=\"dataframe\">\n",
       "  <thead>\n",
       "    <tr style=\"text-align: right;\">\n",
       "      <th></th>\n",
       "      <th>Zipcode</th>\n",
       "      <th>State</th>\n",
       "      <th>Metro</th>\n",
       "      <th>value</th>\n",
       "    </tr>\n",
       "    <tr>\n",
       "      <th>time</th>\n",
       "      <th></th>\n",
       "      <th></th>\n",
       "      <th></th>\n",
       "      <th></th>\n",
       "    </tr>\n",
       "  </thead>\n",
       "  <tbody>\n",
       "    <tr>\n",
       "      <th>2009-01-01</th>\n",
       "      <td>85032</td>\n",
       "      <td>AZ</td>\n",
       "      <td>Phoenix</td>\n",
       "      <td>190200.0</td>\n",
       "    </tr>\n",
       "    <tr>\n",
       "      <th>2009-01-01</th>\n",
       "      <td>85710</td>\n",
       "      <td>AZ</td>\n",
       "      <td>Tucson</td>\n",
       "      <td>171100.0</td>\n",
       "    </tr>\n",
       "    <tr>\n",
       "      <th>2009-01-01</th>\n",
       "      <td>85225</td>\n",
       "      <td>AZ</td>\n",
       "      <td>Phoenix</td>\n",
       "      <td>179900.0</td>\n",
       "    </tr>\n",
       "    <tr>\n",
       "      <th>2009-01-01</th>\n",
       "      <td>85308</td>\n",
       "      <td>AZ</td>\n",
       "      <td>Phoenix</td>\n",
       "      <td>212000.0</td>\n",
       "    </tr>\n",
       "    <tr>\n",
       "      <th>2009-01-01</th>\n",
       "      <td>85281</td>\n",
       "      <td>AZ</td>\n",
       "      <td>Phoenix</td>\n",
       "      <td>181300.0</td>\n",
       "    </tr>\n",
       "    <tr>\n",
       "      <th>...</th>\n",
       "      <td>...</td>\n",
       "      <td>...</td>\n",
       "      <td>...</td>\n",
       "      <td>...</td>\n",
       "    </tr>\n",
       "    <tr>\n",
       "      <th>2018-04-01</th>\n",
       "      <td>86332</td>\n",
       "      <td>AZ</td>\n",
       "      <td>Prescott</td>\n",
       "      <td>172500.0</td>\n",
       "    </tr>\n",
       "    <tr>\n",
       "      <th>2018-04-01</th>\n",
       "      <td>85645</td>\n",
       "      <td>AZ</td>\n",
       "      <td>Tucson</td>\n",
       "      <td>152300.0</td>\n",
       "    </tr>\n",
       "    <tr>\n",
       "      <th>2018-04-01</th>\n",
       "      <td>85928</td>\n",
       "      <td>AZ</td>\n",
       "      <td>Show Low</td>\n",
       "      <td>225100.0</td>\n",
       "    </tr>\n",
       "    <tr>\n",
       "      <th>2018-04-01</th>\n",
       "      <td>85637</td>\n",
       "      <td>AZ</td>\n",
       "      <td>Nogales</td>\n",
       "      <td>320000.0</td>\n",
       "    </tr>\n",
       "    <tr>\n",
       "      <th>2018-04-01</th>\n",
       "      <td>85611</td>\n",
       "      <td>AZ</td>\n",
       "      <td>Nogales</td>\n",
       "      <td>269000.0</td>\n",
       "    </tr>\n",
       "  </tbody>\n",
       "</table>\n",
       "<p>25520 rows × 4 columns</p>\n",
       "</div>"
      ],
      "text/plain": [
       "            Zipcode State     Metro     value\n",
       "time                                         \n",
       "2009-01-01    85032    AZ   Phoenix  190200.0\n",
       "2009-01-01    85710    AZ    Tucson  171100.0\n",
       "2009-01-01    85225    AZ   Phoenix  179900.0\n",
       "2009-01-01    85308    AZ   Phoenix  212000.0\n",
       "2009-01-01    85281    AZ   Phoenix  181300.0\n",
       "...             ...   ...       ...       ...\n",
       "2018-04-01    86332    AZ  Prescott  172500.0\n",
       "2018-04-01    85645    AZ    Tucson  152300.0\n",
       "2018-04-01    85928    AZ  Show Low  225100.0\n",
       "2018-04-01    85637    AZ   Nogales  320000.0\n",
       "2018-04-01    85611    AZ   Nogales  269000.0\n",
       "\n",
       "[25520 rows x 4 columns]"
      ]
     },
     "execution_count": 11,
     "metadata": {},
     "output_type": "execute_result"
    }
   ],
   "source": [
    "Arizona_recent_yrs"
   ]
  },
  {
   "cell_type": "code",
   "execution_count": 12,
   "metadata": {
    "ExecuteTime": {
     "end_time": "2022-01-05T22:08:57.048905Z",
     "start_time": "2022-01-05T22:08:57.016765Z"
    }
   },
   "outputs": [],
   "source": [
    "Phoenix_data = Arizona_recent_yrs[(Arizona_recent_yrs['Metro'] == 'Phoenix')]"
   ]
  },
  {
   "cell_type": "code",
   "execution_count": 13,
   "metadata": {
    "ExecuteTime": {
     "end_time": "2022-01-05T22:08:57.079950Z",
     "start_time": "2022-01-05T22:08:57.055899Z"
    }
   },
   "outputs": [],
   "source": [
    "Phoenix_data\n",
    "Phoenix_data=Phoenix_data.drop(['State','Metro'],axis=1)"
   ]
  },
  {
   "cell_type": "code",
   "execution_count": 41,
   "metadata": {
    "ExecuteTime": {
     "end_time": "2022-01-05T22:10:08.419740Z",
     "start_time": "2022-01-05T22:10:08.389922Z"
    }
   },
   "outputs": [],
   "source": [
    "top_10_zips_phx=Phoenix_data[(Phoenix_data['Zipcode'] == 85253)|(Phoenix_data['Zipcode'] == 85262)|\n",
    "(Phoenix_data['Zipcode'] == 85377)| (Phoenix_data['Zipcode'] == 85255)|(Phoenix_data['Zipcode'] == 85266)|\n",
    "                             (Phoenix_data['Zipcode'] == 85259)|(Phoenix_data['Zipcode'] == 85258)|\n",
    "                             (Phoenix_data['Zipcode'] == 85018)|(Phoenix_data['Zipcode'] == 85263)|\n",
    "                             (Phoenix_data['Zipcode'] == 85054)]"
   ]
  },
  {
   "cell_type": "code",
   "execution_count": 42,
   "metadata": {
    "ExecuteTime": {
     "end_time": "2022-01-05T22:11:05.083829Z",
     "start_time": "2022-01-05T22:11:05.077799Z"
    }
   },
   "outputs": [],
   "source": [
    "zip_zipcode=top_10_zips_phx[top_10_zips_phx['Zipcode']==85054]"
   ]
  },
  {
   "cell_type": "code",
   "execution_count": 43,
   "metadata": {
    "ExecuteTime": {
     "end_time": "2022-01-05T22:11:05.383535Z",
     "start_time": "2022-01-05T22:11:05.376455Z"
    }
   },
   "outputs": [],
   "source": [
    "zip_zipcode.drop('Zipcode',axis=1,inplace=True)"
   ]
  },
  {
   "cell_type": "code",
   "execution_count": 44,
   "metadata": {
    "ExecuteTime": {
     "end_time": "2022-01-05T22:11:05.738550Z",
     "start_time": "2022-01-05T22:11:05.703131Z"
    }
   },
   "outputs": [],
   "source": [
    "resampled_shift_1 = zip_zipcode[['value']].shift(1)\n",
    "resampled_shift_1.bfill(inplace=True)"
   ]
  },
  {
   "cell_type": "code",
   "execution_count": 45,
   "metadata": {
    "ExecuteTime": {
     "end_time": "2022-01-05T22:11:05.996496Z",
     "start_time": "2022-01-05T22:11:05.981636Z"
    }
   },
   "outputs": [],
   "source": [
    "zip_zipcode['growth'] = (zip_zipcode['value'] - resampled_shift_1['value'])/(resampled_shift_1['value'])\n",
    "zip_zipcode['growth']= abs(zip_zipcode['growth'])"
   ]
  },
  {
   "cell_type": "code",
   "execution_count": 46,
   "metadata": {
    "ExecuteTime": {
     "end_time": "2022-01-05T22:11:06.388967Z",
     "start_time": "2022-01-05T22:11:06.381807Z"
    }
   },
   "outputs": [],
   "source": [
    "zip_zipcode.drop('value',axis=1,inplace=True)"
   ]
  },
  {
   "cell_type": "code",
   "execution_count": 47,
   "metadata": {
    "ExecuteTime": {
     "end_time": "2022-01-05T22:11:06.994370Z",
     "start_time": "2022-01-05T22:11:06.968212Z"
    }
   },
   "outputs": [
    {
     "name": "stdout",
     "output_type": "stream",
     "text": [
      "\n",
      "Results of Dickey-Fuller Test: \n",
      "\n",
      "Test Statistic                  -3.114566\n",
      "p-value                          0.025494\n",
      "#Lags Used                       2.000000\n",
      "Number of Observations Used    109.000000\n",
      "Critical Value (1%)             -3.491818\n",
      "Critical Value (5%)             -2.888444\n",
      "Critical Value (10%)            -2.581120\n",
      "dtype: float64\n"
     ]
    }
   ],
   "source": [
    "stationarity_check(zip_zipcode)"
   ]
  },
  {
   "cell_type": "code",
   "execution_count": 48,
   "metadata": {
    "ExecuteTime": {
     "end_time": "2022-01-05T22:11:10.614903Z",
     "start_time": "2022-01-05T22:11:10.608877Z"
    }
   },
   "outputs": [],
   "source": [
    "zip_zipcode=zip_zipcode[1:]"
   ]
  },
  {
   "cell_type": "code",
   "execution_count": 49,
   "metadata": {
    "ExecuteTime": {
     "end_time": "2022-01-05T22:11:14.320823Z",
     "start_time": "2022-01-05T22:11:14.312949Z"
    }
   },
   "outputs": [],
   "source": [
    "#abs(zip_zipcode)"
   ]
  },
  {
   "cell_type": "code",
   "execution_count": 50,
   "metadata": {
    "ExecuteTime": {
     "end_time": "2022-01-05T22:11:17.530197Z",
     "start_time": "2022-01-05T22:11:17.473761Z"
    }
   },
   "outputs": [
    {
     "name": "stdout",
     "output_type": "stream",
     "text": [
      "\n",
      "Results of Dickey-Fuller Test: \n",
      "\n",
      "Test Statistic                  -3.194702\n",
      "p-value                          0.020293\n",
      "#Lags Used                       2.000000\n",
      "Number of Observations Used    108.000000\n",
      "Critical Value (1%)             -3.492401\n",
      "Critical Value (5%)             -2.888697\n",
      "Critical Value (10%)            -2.581255\n",
      "dtype: float64\n"
     ]
    }
   ],
   "source": [
    "stationarity_check(zip_zipcode)"
   ]
  },
  {
   "cell_type": "code",
   "execution_count": null,
   "metadata": {},
   "outputs": [],
   "source": []
  },
  {
   "cell_type": "code",
   "execution_count": 24,
   "metadata": {
    "ExecuteTime": {
     "end_time": "2022-01-05T22:08:57.656068Z",
     "start_time": "2022-01-05T22:08:57.609434Z"
    }
   },
   "outputs": [],
   "source": [
    "# def get_zip(zipcode):\n",
    "#     zip_zipcode=top_10_zips_phx[top_10_zips_phx['Zipcode']==zipcode]\n",
    "#     zip_zipcode.drop('Zipcode',axis=1,inplace=True)\n",
    "    \n",
    "    \n",
    "#     resampled_shift_1 = zip_zipcode[['value']].shift(1)\n",
    "#     resampled_shift_1.bfill(inplace=True)\n",
    "    \n",
    "#     zip_zipcode['growth'] = (zip_zipcode['value'] - resampled_shift_1['value'])/(resampled_shift_1['value'])\n",
    "#     zip_zipcode['growth']= abs(zip_zipcode['growth'])\n",
    "    \n",
    "#     zip_zipcode.drop('value',axis=1,inplace=True)\n",
    "#     stationarity_check(zip_zipcode)\n",
    "    \n",
    "#     zip_zipcode=zip_zipcode[1:]\n",
    "    \n",
    "#     stationarity_check(np.log(zip_zipcode).diff())\n",
    "    \n",
    "    \n",
    "#     return zip_zipcode"
   ]
  },
  {
   "cell_type": "code",
   "execution_count": 51,
   "metadata": {
    "ExecuteTime": {
     "end_time": "2022-01-05T22:11:46.225659Z",
     "start_time": "2022-01-05T22:11:46.212778Z"
    }
   },
   "outputs": [
    {
     "data": {
      "text/plain": [
       "89"
      ]
     },
     "execution_count": 51,
     "metadata": {},
     "output_type": "execute_result"
    }
   ],
   "source": [
    "cutoff = round(zip_zipcode.shape[0]*0.8)\n",
    "cutoff"
   ]
  },
  {
   "cell_type": "code",
   "execution_count": 52,
   "metadata": {
    "ExecuteTime": {
     "end_time": "2022-01-05T22:11:47.233988Z",
     "start_time": "2022-01-05T22:11:47.161194Z"
    }
   },
   "outputs": [],
   "source": [
    "# Define train and test sets according to the index found above\n",
    "train = zip_zipcode[:cutoff]\n",
    "\n",
    "test = zip_zipcode[cutoff:]"
   ]
  },
  {
   "cell_type": "code",
   "execution_count": 53,
   "metadata": {
    "ExecuteTime": {
     "end_time": "2022-01-05T22:11:47.926699Z",
     "start_time": "2022-01-05T22:11:47.914519Z"
    }
   },
   "outputs": [
    {
     "name": "stdout",
     "output_type": "stream",
     "text": [
      "[ 0  1  2  3  4  5  6  7  8  9 10 11 12 13 14 15 16 17 18] [19 20 21 22 23 24 25 26 27 28 29 30 31 32]\n",
      "[ 0  1  2  3  4  5  6  7  8  9 10 11 12 13 14 15 16 17 18 19 20 21 22 23\n",
      " 24 25 26 27 28 29 30 31 32] [33 34 35 36 37 38 39 40 41 42 43 44 45 46]\n",
      "[ 0  1  2  3  4  5  6  7  8  9 10 11 12 13 14 15 16 17 18 19 20 21 22 23\n",
      " 24 25 26 27 28 29 30 31 32 33 34 35 36 37 38 39 40 41 42 43 44 45 46] [47 48 49 50 51 52 53 54 55 56 57 58 59 60]\n",
      "[ 0  1  2  3  4  5  6  7  8  9 10 11 12 13 14 15 16 17 18 19 20 21 22 23\n",
      " 24 25 26 27 28 29 30 31 32 33 34 35 36 37 38 39 40 41 42 43 44 45 46 47\n",
      " 48 49 50 51 52 53 54 55 56 57 58 59 60] [61 62 63 64 65 66 67 68 69 70 71 72 73 74]\n",
      "[ 0  1  2  3  4  5  6  7  8  9 10 11 12 13 14 15 16 17 18 19 20 21 22 23\n",
      " 24 25 26 27 28 29 30 31 32 33 34 35 36 37 38 39 40 41 42 43 44 45 46 47\n",
      " 48 49 50 51 52 53 54 55 56 57 58 59 60 61 62 63 64 65 66 67 68 69 70 71\n",
      " 72 73 74] [75 76 77 78 79 80 81 82 83 84 85 86 87 88]\n"
     ]
    }
   ],
   "source": [
    "split = TimeSeriesSplit()\n",
    "\n",
    "for train_ind, val_ind in split.split(train):\n",
    "    print(train_ind, val_ind)"
   ]
  },
  {
   "cell_type": "code",
   "execution_count": 54,
   "metadata": {
    "ExecuteTime": {
     "end_time": "2022-01-05T22:11:48.624202Z",
     "start_time": "2022-01-05T22:11:48.614571Z"
    }
   },
   "outputs": [],
   "source": [
    "baseline = train.shift(1)\n",
    "baseline.dropna(inplace=True)"
   ]
  },
  {
   "cell_type": "code",
   "execution_count": 55,
   "metadata": {
    "ExecuteTime": {
     "end_time": "2022-01-05T22:11:49.073663Z",
     "start_time": "2022-01-05T22:11:49.059947Z"
    }
   },
   "outputs": [],
   "source": [
    "train.dropna(inplace=True)"
   ]
  },
  {
   "cell_type": "code",
   "execution_count": 56,
   "metadata": {
    "ExecuteTime": {
     "end_time": "2022-01-05T22:11:50.231128Z",
     "start_time": "2022-01-05T22:11:49.722898Z"
    }
   },
   "outputs": [
    {
     "data": {
      "image/png": "[encoded data removed]",
      "text/plain": [
       "<Figure size 432x288 with 1 Axes>"
      ]
     },
     "metadata": {
      "needs_background": "light"
     },
     "output_type": "display_data"
    }
   ],
   "source": [
    "fig, ax = plt.subplots()\n",
    "\n",
    "train[0:30].plot(ax=ax, c='r', label='original')\n",
    "baseline[0:30].plot(ax=ax, c='b', label='shifted')\n",
    "ax.set_title('baseline')\n",
    "ax.legend();"
   ]
  },
  {
   "cell_type": "code",
   "execution_count": 57,
   "metadata": {
    "ExecuteTime": {
     "end_time": "2022-01-05T22:11:50.727588Z",
     "start_time": "2022-01-05T22:11:50.682952Z"
    }
   },
   "outputs": [
    {
     "data": {
      "text/plain": [
       "0.0028686428984889918"
      ]
     },
     "execution_count": 57,
     "metadata": {},
     "output_type": "execute_result"
    }
   ],
   "source": [
    "np.sqrt(mean_squared_error(train[1:], baseline.dropna()))"
   ]
  },
  {
   "cell_type": "code",
   "execution_count": 58,
   "metadata": {
    "ExecuteTime": {
     "end_time": "2022-01-05T22:11:51.328349Z",
     "start_time": "2022-01-05T22:11:51.298726Z"
    }
   },
   "outputs": [
    {
     "name": "stdout",
     "output_type": "stream",
     "text": [
      "The p-value associated with the Dickey-Fuller statistical test is 4.3580941968205003e-07,\n",
      " so we can safely assume that the differenced data is stationary.\n"
     ]
    }
   ],
   "source": [
    "p_val = adfuller(train.diff()[1:])[1]\n",
    "print(f\"The p-value associated with the Dickey-Fuller statistical test is {p_val},\")\n",
    "if p_val < 0.05:\n",
    "    print(\" so we can safely assume that the differenced data is stationary.\")\n",
    "else:\n",
    "    print(\" so we cannot reject the null hypothesis that the differenced data is \\\n",
    "not stationary.\")"
   ]
  },
  {
   "cell_type": "code",
   "execution_count": 59,
   "metadata": {
    "ExecuteTime": {
     "end_time": "2022-01-05T22:11:53.313707Z",
     "start_time": "2022-01-05T22:11:52.981303Z"
    }
   },
   "outputs": [
    {
     "data": {
      "text/plain": [
       "2009-02-01    0.000000\n",
       "2009-03-01    0.018119\n",
       "2009-04-01    0.019819\n",
       "2009-05-01    0.019627\n",
       "2009-06-01    0.020752\n",
       "                ...   \n",
       "2016-02-01    0.001195\n",
       "2016-03-01    0.002998\n",
       "2016-04-01    0.000412\n",
       "2016-05-01    0.001144\n",
       "2016-06-01    0.000811\n",
       "Freq: MS, Name: predicted_mean, Length: 89, dtype: float64"
      ]
     },
     "execution_count": 59,
     "metadata": {},
     "output_type": "execute_result"
    }
   ],
   "source": [
    "ar_1 = ARIMA(train, order=(1, 1, 0)).fit()\n",
    "\n",
    "# We put a typ='levels' to convert our predictions to remove the differencing performed.\n",
    "ar_1.predict(typ='levels')"
   ]
  },
  {
   "cell_type": "code",
   "execution_count": 60,
   "metadata": {
    "ExecuteTime": {
     "end_time": "2022-01-05T22:11:54.868154Z",
     "start_time": "2022-01-05T22:11:53.659453Z"
    }
   },
   "outputs": [],
   "source": [
    "sari_mod =SARIMAX(train,\n",
    "                  order=(0, 1, 0),\n",
    "                  seasonal_order=(0, 1, 1, 52),\n",
    "                  enforce_stationarity=False,\n",
    "                  enforce_invertibility=False).fit()"
   ]
  },
  {
   "cell_type": "code",
   "execution_count": 61,
   "metadata": {
    "ExecuteTime": {
     "end_time": "2022-01-05T22:11:54.898903Z",
     "start_time": "2022-01-05T22:11:54.889331Z"
    }
   },
   "outputs": [],
   "source": [
    "train_with_ind = train.reset_index()"
   ]
  },
  {
   "cell_type": "code",
   "execution_count": 62,
   "metadata": {
    "ExecuteTime": {
     "end_time": "2022-01-05T22:11:58.677634Z",
     "start_time": "2022-01-05T22:11:54.998691Z"
    }
   },
   "outputs": [
    {
     "name": "stdout",
     "output_type": "stream",
     "text": [
      "0.006654520549680436\n",
      "0.011468804882618411\n",
      "0.015783976140071147\n",
      "0.003675886606581428\n",
      "0.006613200297082039\n"
     ]
    }
   ],
   "source": [
    "for train_ind, val_ind in split.split(train_with_ind):\n",
    "    sarimax = SARIMAX(endog=train_with_ind.iloc[train_ind, -1],\n",
    "                      order=(1, 1, 1),\n",
    "                     seasonal_order=(0, 1, 1, 52),\n",
    "                     enforce_stationarity=False,\n",
    "                     enforce_invertibility=False).fit()\n",
    "    preds = sarimax.predict(typ='levels', start=val_ind[0], end=val_ind[-1])\n",
    "    true = train_with_ind.iloc[val_ind, -1]\n",
    "    print(np.sqrt(mean_squared_error(true, preds)))"
   ]
  },
  {
   "cell_type": "code",
   "execution_count": 63,
   "metadata": {
    "ExecuteTime": {
     "end_time": "2022-01-05T22:12:26.953707Z",
     "start_time": "2022-01-05T22:11:58.689885Z"
    }
   },
   "outputs": [],
   "source": [
    "sari_mod = SARIMAX(zip_zipcode,\n",
    "                  order=(1, 1, 1),\n",
    "                  seasonal_order=(0, 1, 1, 52),\n",
    "                  enforce_stationarity=False,\n",
    "                  enforce_invertibility=False).fit()"
   ]
  },
  {
   "cell_type": "code",
   "execution_count": 64,
   "metadata": {
    "ExecuteTime": {
     "end_time": "2022-01-05T22:12:27.196332Z",
     "start_time": "2022-01-05T22:12:26.960797Z"
    }
   },
   "outputs": [],
   "source": [
    "forecast = sari_mod.forecast(steps=75)"
   ]
  },
  {
   "cell_type": "code",
   "execution_count": 65,
   "metadata": {
    "ExecuteTime": {
     "end_time": "2022-01-05T22:12:27.760263Z",
     "start_time": "2022-01-05T22:12:27.213695Z"
    }
   },
   "outputs": [
    {
     "data": {
      "image/png": "[encoded data removed]",
      "text/plain": [
       "<Figure size 432x288 with 1 Axes>"
      ]
     },
     "metadata": {
      "needs_background": "light"
     },
     "output_type": "display_data"
    }
   ],
   "source": [
    "fig, ax = plt.subplots()\n",
    "ax.plot(zip_zipcode, label='so_far')\n",
    "ax.plot(forecast, label='forecast')\n",
    "ax.set_title('85054 Growth Forecast')\n",
    "\n",
    "plt.legend();"
   ]
  },
  {
   "cell_type": "code",
   "execution_count": 66,
   "metadata": {
    "ExecuteTime": {
     "end_time": "2022-01-05T22:12:27.862183Z",
     "start_time": "2022-01-05T22:12:27.766827Z"
    }
   },
   "outputs": [
    {
     "data": {
      "text/plain": [
       "0.001961881193139517"
      ]
     },
     "execution_count": 66,
     "metadata": {},
     "output_type": "execute_result"
    }
   ],
   "source": [
    "forecast.mean()"
   ]
  }
 ],
 "metadata": {
  "kernelspec": {
   "display_name": "Python (learn-env)",
   "language": "python",
   "name": "learn-env"
  },
  "language_info": {
   "codemirror_mode": {
    "name": "ipython",
    "version": 3
   },
   "file_extension": ".py",
   "mimetype": "text/x-python",
   "name": "python",
   "nbconvert_exporter": "python",
   "pygments_lexer": "ipython3",
   "version": "3.8.5"
  }
 },
 "nbformat": 4,
 "nbformat_minor": 4
}
