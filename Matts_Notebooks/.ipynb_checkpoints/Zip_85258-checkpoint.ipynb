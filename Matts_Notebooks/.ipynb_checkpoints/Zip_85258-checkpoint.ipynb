{
 "cells": [
  {
   "cell_type": "code",
   "execution_count": 1,
   "metadata": {
    "ExecuteTime": {
     "end_time": "2022-01-04T22:51:57.332662Z",
     "start_time": "2022-01-04T22:51:52.454585Z"
    }
   },
   "outputs": [],
   "source": [
    "#Import relevant packages\n",
    "import pandas as pd\n",
    "import numpy as np\n",
    "import matplotlib.pyplot as plt\n",
    "import seaborn as sns\n",
    "from statsmodels.tsa.stattools import adfuller\n",
    "from statsmodels.graphics.tsaplots import plot_pacf,plot_acf\n",
    "from statsmodels.tsa.arima_model import ARMA\n",
    "from sklearn.model_selection import TimeSeriesSplit\n",
    "from sklearn.metrics import mean_squared_error\n",
    "from statsmodels.tsa.arima.model import ARIMA\n",
    "import warnings\n",
    "warnings.filterwarnings('ignore')"
   ]
  },
  {
   "cell_type": "code",
   "execution_count": 2,
   "metadata": {
    "ExecuteTime": {
     "end_time": "2022-01-04T22:51:57.386081Z",
     "start_time": "2022-01-04T22:51:57.337405Z"
    }
   },
   "outputs": [],
   "source": [
    "#Import functions notebook and load data set here\n",
    "import sys\n",
    "sys.path.append(\"../\")\n",
    "from time_series_functions import *"
   ]
  },
  {
   "cell_type": "code",
   "execution_count": 3,
   "metadata": {
    "ExecuteTime": {
     "end_time": "2022-01-04T22:51:58.668834Z",
     "start_time": "2022-01-04T22:51:57.423351Z"
    }
   },
   "outputs": [],
   "source": [
    "df=pd.read_csv('../zillow_data.csv')"
   ]
  },
  {
   "cell_type": "code",
   "execution_count": 4,
   "metadata": {
    "ExecuteTime": {
     "end_time": "2022-01-04T22:52:02.164919Z",
     "start_time": "2022-01-04T22:51:58.696622Z"
    }
   },
   "outputs": [],
   "source": [
    "df=melt_data2(df)"
   ]
  },
  {
   "cell_type": "code",
   "execution_count": 5,
   "metadata": {
    "ExecuteTime": {
     "end_time": "2022-01-04T22:52:02.304700Z",
     "start_time": "2022-01-04T22:52:02.167594Z"
    }
   },
   "outputs": [],
   "source": [
    "df.set_index('time',inplace=True)"
   ]
  },
  {
   "cell_type": "code",
   "execution_count": 6,
   "metadata": {
    "ExecuteTime": {
     "end_time": "2022-01-04T22:52:02.592111Z",
     "start_time": "2022-01-04T22:52:02.320101Z"
    }
   },
   "outputs": [],
   "source": [
    "# Rename RegionName to be Zipcode\n",
    "df=df.rename({'RegionName':'Zipcode'},axis='columns')"
   ]
  },
  {
   "cell_type": "code",
   "execution_count": 7,
   "metadata": {
    "ExecuteTime": {
     "end_time": "2022-01-04T22:52:02.768492Z",
     "start_time": "2022-01-04T22:52:02.596886Z"
    }
   },
   "outputs": [],
   "source": [
    "#drop no longer relevant columns\n",
    "df.drop(['RegionID','SizeRank','City','CountyName'],axis=1,inplace=True)"
   ]
  },
  {
   "cell_type": "code",
   "execution_count": 8,
   "metadata": {
    "ExecuteTime": {
     "end_time": "2022-01-04T22:52:03.100972Z",
     "start_time": "2022-01-04T22:52:02.777777Z"
    }
   },
   "outputs": [],
   "source": [
    "Arizona_df= df[(df['State'] == 'AZ')]"
   ]
  },
  {
   "cell_type": "code",
   "execution_count": 9,
   "metadata": {
    "ExecuteTime": {
     "end_time": "2022-01-04T22:52:03.148687Z",
     "start_time": "2022-01-04T22:52:03.107707Z"
    }
   },
   "outputs": [
    {
     "data": {
      "text/html": [
       "<div>\n",
       "<style scoped>\n",
       "    .dataframe tbody tr th:only-of-type {\n",
       "        vertical-align: middle;\n",
       "    }\n",
       "\n",
       "    .dataframe tbody tr th {\n",
       "        vertical-align: top;\n",
       "    }\n",
       "\n",
       "    .dataframe thead th {\n",
       "        text-align: right;\n",
       "    }\n",
       "</style>\n",
       "<table border=\"1\" class=\"dataframe\">\n",
       "  <thead>\n",
       "    <tr style=\"text-align: right;\">\n",
       "      <th></th>\n",
       "      <th>Zipcode</th>\n",
       "      <th>State</th>\n",
       "      <th>Metro</th>\n",
       "      <th>value</th>\n",
       "    </tr>\n",
       "    <tr>\n",
       "      <th>time</th>\n",
       "      <th></th>\n",
       "      <th></th>\n",
       "      <th></th>\n",
       "      <th></th>\n",
       "    </tr>\n",
       "  </thead>\n",
       "  <tbody>\n",
       "    <tr>\n",
       "      <th>1996-04-01</th>\n",
       "      <td>85032</td>\n",
       "      <td>AZ</td>\n",
       "      <td>Phoenix</td>\n",
       "      <td>95400.0</td>\n",
       "    </tr>\n",
       "    <tr>\n",
       "      <th>1996-04-01</th>\n",
       "      <td>85710</td>\n",
       "      <td>AZ</td>\n",
       "      <td>Tucson</td>\n",
       "      <td>94600.0</td>\n",
       "    </tr>\n",
       "    <tr>\n",
       "      <th>1996-04-01</th>\n",
       "      <td>85225</td>\n",
       "      <td>AZ</td>\n",
       "      <td>Phoenix</td>\n",
       "      <td>101200.0</td>\n",
       "    </tr>\n",
       "    <tr>\n",
       "      <th>1996-04-01</th>\n",
       "      <td>85308</td>\n",
       "      <td>AZ</td>\n",
       "      <td>Phoenix</td>\n",
       "      <td>124800.0</td>\n",
       "    </tr>\n",
       "    <tr>\n",
       "      <th>1996-04-01</th>\n",
       "      <td>85281</td>\n",
       "      <td>AZ</td>\n",
       "      <td>Phoenix</td>\n",
       "      <td>81200.0</td>\n",
       "    </tr>\n",
       "    <tr>\n",
       "      <th>...</th>\n",
       "      <td>...</td>\n",
       "      <td>...</td>\n",
       "      <td>...</td>\n",
       "      <td>...</td>\n",
       "    </tr>\n",
       "    <tr>\n",
       "      <th>2018-04-01</th>\n",
       "      <td>86332</td>\n",
       "      <td>AZ</td>\n",
       "      <td>Prescott</td>\n",
       "      <td>172500.0</td>\n",
       "    </tr>\n",
       "    <tr>\n",
       "      <th>2018-04-01</th>\n",
       "      <td>85645</td>\n",
       "      <td>AZ</td>\n",
       "      <td>Tucson</td>\n",
       "      <td>152300.0</td>\n",
       "    </tr>\n",
       "    <tr>\n",
       "      <th>2018-04-01</th>\n",
       "      <td>85928</td>\n",
       "      <td>AZ</td>\n",
       "      <td>Show Low</td>\n",
       "      <td>225100.0</td>\n",
       "    </tr>\n",
       "    <tr>\n",
       "      <th>2018-04-01</th>\n",
       "      <td>85637</td>\n",
       "      <td>AZ</td>\n",
       "      <td>Nogales</td>\n",
       "      <td>320000.0</td>\n",
       "    </tr>\n",
       "    <tr>\n",
       "      <th>2018-04-01</th>\n",
       "      <td>85611</td>\n",
       "      <td>AZ</td>\n",
       "      <td>Nogales</td>\n",
       "      <td>269000.0</td>\n",
       "    </tr>\n",
       "  </tbody>\n",
       "</table>\n",
       "<p>58775 rows × 4 columns</p>\n",
       "</div>"
      ],
      "text/plain": [
       "            Zipcode State     Metro     value\n",
       "time                                         \n",
       "1996-04-01    85032    AZ   Phoenix   95400.0\n",
       "1996-04-01    85710    AZ    Tucson   94600.0\n",
       "1996-04-01    85225    AZ   Phoenix  101200.0\n",
       "1996-04-01    85308    AZ   Phoenix  124800.0\n",
       "1996-04-01    85281    AZ   Phoenix   81200.0\n",
       "...             ...   ...       ...       ...\n",
       "2018-04-01    86332    AZ  Prescott  172500.0\n",
       "2018-04-01    85645    AZ    Tucson  152300.0\n",
       "2018-04-01    85928    AZ  Show Low  225100.0\n",
       "2018-04-01    85637    AZ   Nogales  320000.0\n",
       "2018-04-01    85611    AZ   Nogales  269000.0\n",
       "\n",
       "[58775 rows x 4 columns]"
      ]
     },
     "execution_count": 9,
     "metadata": {},
     "output_type": "execute_result"
    }
   ],
   "source": [
    "Arizona_df"
   ]
  },
  {
   "cell_type": "code",
   "execution_count": 10,
   "metadata": {
    "ExecuteTime": {
     "end_time": "2022-01-04T22:52:03.177384Z",
     "start_time": "2022-01-04T22:52:03.156083Z"
    }
   },
   "outputs": [],
   "source": [
    "Arizona_recent_yrs=Arizona_df['2009-01-01':'2018-04-01']"
   ]
  },
  {
   "cell_type": "code",
   "execution_count": 11,
   "metadata": {
    "ExecuteTime": {
     "end_time": "2022-01-04T22:52:03.230545Z",
     "start_time": "2022-01-04T22:52:03.189082Z"
    }
   },
   "outputs": [
    {
     "data": {
      "text/html": [
       "<div>\n",
       "<style scoped>\n",
       "    .dataframe tbody tr th:only-of-type {\n",
       "        vertical-align: middle;\n",
       "    }\n",
       "\n",
       "    .dataframe tbody tr th {\n",
       "        vertical-align: top;\n",
       "    }\n",
       "\n",
       "    .dataframe thead th {\n",
       "        text-align: right;\n",
       "    }\n",
       "</style>\n",
       "<table border=\"1\" class=\"dataframe\">\n",
       "  <thead>\n",
       "    <tr style=\"text-align: right;\">\n",
       "      <th></th>\n",
       "      <th>Zipcode</th>\n",
       "      <th>State</th>\n",
       "      <th>Metro</th>\n",
       "      <th>value</th>\n",
       "    </tr>\n",
       "    <tr>\n",
       "      <th>time</th>\n",
       "      <th></th>\n",
       "      <th></th>\n",
       "      <th></th>\n",
       "      <th></th>\n",
       "    </tr>\n",
       "  </thead>\n",
       "  <tbody>\n",
       "    <tr>\n",
       "      <th>2009-01-01</th>\n",
       "      <td>85032</td>\n",
       "      <td>AZ</td>\n",
       "      <td>Phoenix</td>\n",
       "      <td>190200.0</td>\n",
       "    </tr>\n",
       "    <tr>\n",
       "      <th>2009-01-01</th>\n",
       "      <td>85710</td>\n",
       "      <td>AZ</td>\n",
       "      <td>Tucson</td>\n",
       "      <td>171100.0</td>\n",
       "    </tr>\n",
       "    <tr>\n",
       "      <th>2009-01-01</th>\n",
       "      <td>85225</td>\n",
       "      <td>AZ</td>\n",
       "      <td>Phoenix</td>\n",
       "      <td>179900.0</td>\n",
       "    </tr>\n",
       "    <tr>\n",
       "      <th>2009-01-01</th>\n",
       "      <td>85308</td>\n",
       "      <td>AZ</td>\n",
       "      <td>Phoenix</td>\n",
       "      <td>212000.0</td>\n",
       "    </tr>\n",
       "    <tr>\n",
       "      <th>2009-01-01</th>\n",
       "      <td>85281</td>\n",
       "      <td>AZ</td>\n",
       "      <td>Phoenix</td>\n",
       "      <td>181300.0</td>\n",
       "    </tr>\n",
       "    <tr>\n",
       "      <th>...</th>\n",
       "      <td>...</td>\n",
       "      <td>...</td>\n",
       "      <td>...</td>\n",
       "      <td>...</td>\n",
       "    </tr>\n",
       "    <tr>\n",
       "      <th>2018-04-01</th>\n",
       "      <td>86332</td>\n",
       "      <td>AZ</td>\n",
       "      <td>Prescott</td>\n",
       "      <td>172500.0</td>\n",
       "    </tr>\n",
       "    <tr>\n",
       "      <th>2018-04-01</th>\n",
       "      <td>85645</td>\n",
       "      <td>AZ</td>\n",
       "      <td>Tucson</td>\n",
       "      <td>152300.0</td>\n",
       "    </tr>\n",
       "    <tr>\n",
       "      <th>2018-04-01</th>\n",
       "      <td>85928</td>\n",
       "      <td>AZ</td>\n",
       "      <td>Show Low</td>\n",
       "      <td>225100.0</td>\n",
       "    </tr>\n",
       "    <tr>\n",
       "      <th>2018-04-01</th>\n",
       "      <td>85637</td>\n",
       "      <td>AZ</td>\n",
       "      <td>Nogales</td>\n",
       "      <td>320000.0</td>\n",
       "    </tr>\n",
       "    <tr>\n",
       "      <th>2018-04-01</th>\n",
       "      <td>85611</td>\n",
       "      <td>AZ</td>\n",
       "      <td>Nogales</td>\n",
       "      <td>269000.0</td>\n",
       "    </tr>\n",
       "  </tbody>\n",
       "</table>\n",
       "<p>25520 rows × 4 columns</p>\n",
       "</div>"
      ],
      "text/plain": [
       "            Zipcode State     Metro     value\n",
       "time                                         \n",
       "2009-01-01    85032    AZ   Phoenix  190200.0\n",
       "2009-01-01    85710    AZ    Tucson  171100.0\n",
       "2009-01-01    85225    AZ   Phoenix  179900.0\n",
       "2009-01-01    85308    AZ   Phoenix  212000.0\n",
       "2009-01-01    85281    AZ   Phoenix  181300.0\n",
       "...             ...   ...       ...       ...\n",
       "2018-04-01    86332    AZ  Prescott  172500.0\n",
       "2018-04-01    85645    AZ    Tucson  152300.0\n",
       "2018-04-01    85928    AZ  Show Low  225100.0\n",
       "2018-04-01    85637    AZ   Nogales  320000.0\n",
       "2018-04-01    85611    AZ   Nogales  269000.0\n",
       "\n",
       "[25520 rows x 4 columns]"
      ]
     },
     "execution_count": 11,
     "metadata": {},
     "output_type": "execute_result"
    }
   ],
   "source": [
    "Arizona_recent_yrs"
   ]
  },
  {
   "cell_type": "code",
   "execution_count": 12,
   "metadata": {
    "ExecuteTime": {
     "end_time": "2022-01-04T22:52:03.271938Z",
     "start_time": "2022-01-04T22:52:03.257944Z"
    }
   },
   "outputs": [],
   "source": [
    "Phoenix_data = Arizona_recent_yrs[(Arizona_recent_yrs['Metro'] == 'Phoenix')]"
   ]
  },
  {
   "cell_type": "code",
   "execution_count": 13,
   "metadata": {
    "ExecuteTime": {
     "end_time": "2022-01-04T22:52:03.298160Z",
     "start_time": "2022-01-04T22:52:03.284748Z"
    }
   },
   "outputs": [],
   "source": [
    "Phoenix_data\n",
    "Phoenix_data=Phoenix_data.drop(['State','Metro'],axis=1)"
   ]
  },
  {
   "cell_type": "code",
   "execution_count": 14,
   "metadata": {
    "ExecuteTime": {
     "end_time": "2022-01-04T22:52:03.320887Z",
     "start_time": "2022-01-04T22:52:03.301969Z"
    }
   },
   "outputs": [],
   "source": [
    "top_10_zips_phx=Phoenix_data[(Phoenix_data['Zipcode'] == 85253)|(Phoenix_data['Zipcode'] == 85262)|\n",
    "(Phoenix_data['Zipcode'] == 85377)| (Phoenix_data['Zipcode'] == 85255)|(Phoenix_data['Zipcode'] == 85266)|\n",
    "                             (Phoenix_data['Zipcode'] == 85259)|(Phoenix_data['Zipcode'] == 85258)|\n",
    "                             (Phoenix_data['Zipcode'] == 85018)|(Phoenix_data['Zipcode'] == 85263)|\n",
    "                             (Phoenix_data['Zipcode'] == 85054)]"
   ]
  },
  {
   "cell_type": "code",
   "execution_count": 15,
   "metadata": {
    "ExecuteTime": {
     "end_time": "2022-01-04T22:52:03.339049Z",
     "start_time": "2022-01-04T22:52:03.324322Z"
    }
   },
   "outputs": [],
   "source": [
    "def get_zip(zipcode):\n",
    "    top_10_zips_phx=Phoenix_data[(Phoenix_data['Zipcode'] == 85253)|(Phoenix_data['Zipcode'] == 85262)|\n",
    "    (Phoenix_data['Zipcode'] == 85377)| (Phoenix_data['Zipcode'] == 85255)|(Phoenix_data['Zipcode'] == 85266)|\n",
    "                             (Phoenix_data['Zipcode'] == 85259)|(Phoenix_data['Zipcode'] == 85258)|\n",
    "                            (Phoenix_data['Zipcode'] == 85018)|(Phoenix_data['Zipcode'] == 85263)|\n",
    "                             (Phoenix_data['Zipcode'] == 85054)]\n",
    "    zip_zipcode=top_10_zips_phx[top_10_zips_phx['Zipcode']==zipcode]\n",
    "    #zip_zipcode.drop(['index'],axis=1,inplace=True)\n",
    "    zip_zipcode.reset_index(inplace=True)\n",
    "    \n",
    "    # shift by one period (month)\n",
    "    resampled_shift_1 = zip_zipcode[['value']].shift(1)\n",
    "    resampled_shift_1.bfill(inplace=True)\n",
    "\n",
    "#reset the indexes to perform calculation of growth\n",
    "    top_10_zips_phx = zip_zipcode.reset_index()\n",
    "    resampled_shift_1 = resampled_shift_1.reset_index()\n",
    "\n",
    "#Growth Calculation\n",
    "    zip_zipcode['growth'] = (zip_zipcode['value'] - resampled_shift_1['value'])/(resampled_shift_1['value'])\n",
    "    zip_zipcode['growth']= abs(zip_zipcode['growth'])\n",
    "#set the index back to zipcode and time multi-index\n",
    "    zip_zipcode.set_index(['time'],inplace=True)\n",
    "    \n",
    "    zip_zipcode.drop('Zipcode',axis=1,inplace=True)\n",
    "    data= top_10_zips_phx\n",
    "    print(f'The stationarity check for zipcode {zipcode} before adjustments:{stationarity_check(zip_zipcode.growth)}')\n",
    "    \n",
    "    #Original Plot\n",
    "    fig, ax = plt.subplots()\n",
    "    ax.plot(zip_zipcode.growth)\n",
    "    ax.set_title(f\"Original Zipcode Plot for {zipcode}\");\n",
    "    \n",
    "    #log values and dropna\n",
    "    log_zipcode= abs(np.log(zip_zipcode.growth))\n",
    "    log_zipcode.dropna(inplace=True)\n",
    "    \n",
    "    # get roll mean and subtract\n",
    "    roll_mean = log_zipcode.rolling(window=7,center=False).mean()\n",
    "    data_minus_roll_mean = log_zipcode-roll_mean\n",
    "    \n",
    "    #Drop missing values\n",
    "    data_minus_roll_mean.dropna(inplace=True)\n",
    "    return data_minus_roll_mean\n",
    "    #Plot the data minus roll mean\n",
    "    #data_minus_roll_mean.plot(figsize=(10,6));\n",
    "    fig, ax = plt.subplots()\n",
    "    ax.plot(data_minus_roll_mean)\n",
    "    ax.set_title(f\"Final Zipcode Plot for {zipcode}\");\n",
    "\n",
    "    print(f'The stationarity check for zipcode {zipcode}, after adjustments:{stationarity_check(data_minus_roll_mean)}')\n",
    "    "
   ]
  },
  {
   "cell_type": "code",
   "execution_count": 16,
   "metadata": {
    "ExecuteTime": {
     "end_time": "2022-01-04T22:52:03.828202Z",
     "start_time": "2022-01-04T22:52:03.344364Z"
    },
    "scrolled": true
   },
   "outputs": [
    {
     "name": "stdout",
     "output_type": "stream",
     "text": [
      "\n",
      "Results of Dickey-Fuller Test: \n",
      "\n",
      "Test Statistic                  -3.475228\n",
      "p-value                          0.008647\n",
      "#Lags Used                       3.000000\n",
      "Number of Observations Used    108.000000\n",
      "Critical Value (1%)             -3.492401\n",
      "Critical Value (5%)             -2.888697\n",
      "Critical Value (10%)            -2.581255\n",
      "dtype: float64\n",
      "The stationarity check for zipcode 85258 before adjustments:None\n"
     ]
    },
    {
     "data": {
      "image/png": "[encoded data removed]",
      "text/plain": [
       "<Figure size 432x288 with 1 Axes>"
      ]
     },
     "metadata": {
      "needs_background": "light"
     },
     "output_type": "display_data"
    }
   ],
   "source": [
    "minus_roll_mean=get_zip(85258)"
   ]
  },
  {
   "cell_type": "code",
   "execution_count": 17,
   "metadata": {
    "ExecuteTime": {
     "end_time": "2022-01-04T22:52:03.851442Z",
     "start_time": "2022-01-04T22:52:03.836478Z"
    }
   },
   "outputs": [
    {
     "name": "stdout",
     "output_type": "stream",
     "text": [
      "time\n",
      "2009-08-01    0.643658\n",
      "2009-09-01    0.677155\n",
      "2009-10-01    0.743035\n",
      "2009-11-01    1.269987\n",
      "2009-12-01    2.841578\n",
      "                ...   \n",
      "2017-12-01   -0.332974\n",
      "2018-01-01   -0.296815\n",
      "2018-02-01    0.071498\n",
      "2018-03-01    0.054576\n",
      "2018-04-01    0.257513\n",
      "Name: growth, Length: 105, dtype: float64\n"
     ]
    }
   ],
   "source": [
    "print(minus_roll_mean)"
   ]
  },
  {
   "cell_type": "code",
   "execution_count": 18,
   "metadata": {
    "ExecuteTime": {
     "end_time": "2022-01-04T22:52:03.871041Z",
     "start_time": "2022-01-04T22:52:03.863364Z"
    }
   },
   "outputs": [
    {
     "data": {
      "text/plain": [
       "84"
      ]
     },
     "execution_count": 18,
     "metadata": {},
     "output_type": "execute_result"
    }
   ],
   "source": [
    "# find the index which allows us to split off 20% of the data\n",
    "cutoff = round(minus_roll_mean.shape[0]*0.8)\n",
    "cutoff"
   ]
  },
  {
   "cell_type": "code",
   "execution_count": 19,
   "metadata": {
    "ExecuteTime": {
     "end_time": "2022-01-04T22:52:03.920749Z",
     "start_time": "2022-01-04T22:52:03.877897Z"
    }
   },
   "outputs": [],
   "source": [
    "# Define train and test sets according to the index found above\n",
    "train = minus_roll_mean[:cutoff]\n",
    "\n",
    "test = minus_roll_mean[cutoff:]"
   ]
  },
  {
   "cell_type": "code",
   "execution_count": 20,
   "metadata": {
    "ExecuteTime": {
     "end_time": "2022-01-04T22:52:04.412977Z",
     "start_time": "2022-01-04T22:52:03.937194Z"
    }
   },
   "outputs": [
    {
     "data": {
      "image/png": "[encoded data removed]",
      "text/plain": [
       "<Figure size 864x576 with 1 Axes>"
      ]
     },
     "metadata": {
      "needs_background": "light"
     },
     "output_type": "display_data"
    }
   ],
   "source": [
    "fig, ax = plt.subplots(figsize=(12, 8))\n",
    "ax.plot(train, label='train')\n",
    "ax.plot(test, label='test')\n",
    "ax.set_title('Train-Test Split');\n",
    "plt.legend();"
   ]
  },
  {
   "cell_type": "code",
   "execution_count": 21,
   "metadata": {
    "ExecuteTime": {
     "end_time": "2022-01-04T22:52:04.438759Z",
     "start_time": "2022-01-04T22:52:04.424440Z"
    }
   },
   "outputs": [
    {
     "name": "stdout",
     "output_type": "stream",
     "text": [
      "[ 0  1  2  3  4  5  6  7  8  9 10 11 12 13] [14 15 16 17 18 19 20 21 22 23 24 25 26 27]\n",
      "[ 0  1  2  3  4  5  6  7  8  9 10 11 12 13 14 15 16 17 18 19 20 21 22 23\n",
      " 24 25 26 27] [28 29 30 31 32 33 34 35 36 37 38 39 40 41]\n",
      "[ 0  1  2  3  4  5  6  7  8  9 10 11 12 13 14 15 16 17 18 19 20 21 22 23\n",
      " 24 25 26 27 28 29 30 31 32 33 34 35 36 37 38 39 40 41] [42 43 44 45 46 47 48 49 50 51 52 53 54 55]\n",
      "[ 0  1  2  3  4  5  6  7  8  9 10 11 12 13 14 15 16 17 18 19 20 21 22 23\n",
      " 24 25 26 27 28 29 30 31 32 33 34 35 36 37 38 39 40 41 42 43 44 45 46 47\n",
      " 48 49 50 51 52 53 54 55] [56 57 58 59 60 61 62 63 64 65 66 67 68 69]\n",
      "[ 0  1  2  3  4  5  6  7  8  9 10 11 12 13 14 15 16 17 18 19 20 21 22 23\n",
      " 24 25 26 27 28 29 30 31 32 33 34 35 36 37 38 39 40 41 42 43 44 45 46 47\n",
      " 48 49 50 51 52 53 54 55 56 57 58 59 60 61 62 63 64 65 66 67 68 69] [70 71 72 73 74 75 76 77 78 79 80 81 82 83]\n"
     ]
    }
   ],
   "source": [
    "split = TimeSeriesSplit()\n",
    "\n",
    "for train_ind, val_ind in split.split(train):\n",
    "    print(train_ind, val_ind)"
   ]
  },
  {
   "cell_type": "code",
   "execution_count": 22,
   "metadata": {
    "ExecuteTime": {
     "end_time": "2022-01-04T22:52:04.498722Z",
     "start_time": "2022-01-04T22:52:04.458111Z"
    }
   },
   "outputs": [
    {
     "data": {
      "text/plain": [
       "time\n",
       "2009-08-01         NaN\n",
       "2009-09-01    0.643658\n",
       "2009-10-01    0.677155\n",
       "2009-11-01    0.743035\n",
       "2009-12-01    1.269987\n",
       "                ...   \n",
       "2016-03-01    0.852745\n",
       "2016-04-01   -0.037965\n",
       "2016-05-01    0.466972\n",
       "2016-06-01    0.247526\n",
       "2016-07-01    0.913175\n",
       "Name: growth, Length: 84, dtype: float64"
      ]
     },
     "execution_count": 22,
     "metadata": {},
     "output_type": "execute_result"
    }
   ],
   "source": [
    "# we can perform this with the shift operator\n",
    "# The prediction for the next day is the original series shifted to the future by one day.\n",
    "baseline = train.shift(1)\n",
    "baseline"
   ]
  },
  {
   "cell_type": "code",
   "execution_count": 23,
   "metadata": {
    "ExecuteTime": {
     "end_time": "2022-01-04T22:52:05.049110Z",
     "start_time": "2022-01-04T22:52:04.518943Z"
    }
   },
   "outputs": [
    {
     "data": {
      "image/png": "[encoded data removed]",
      "text/plain": [
       "<Figure size 432x288 with 1 Axes>"
      ]
     },
     "metadata": {
      "needs_background": "light"
     },
     "output_type": "display_data"
    }
   ],
   "source": [
    "fig, ax = plt.subplots()\n",
    "\n",
    "train[0:30].plot(ax=ax, c='r', label='original')\n",
    "baseline[0:30].plot(ax=ax, c='b', label='shifted')\n",
    "ax.set_title('baseline')\n",
    "ax.legend();"
   ]
  },
  {
   "cell_type": "code",
   "execution_count": 24,
   "metadata": {
    "ExecuteTime": {
     "end_time": "2022-01-04T22:52:05.078957Z",
     "start_time": "2022-01-04T22:52:05.065055Z"
    }
   },
   "outputs": [
    {
     "data": {
      "text/plain": [
       "0.8386710773278263"
      ]
     },
     "execution_count": 24,
     "metadata": {},
     "output_type": "execute_result"
    }
   ],
   "source": [
    "np.sqrt(mean_squared_error(train[1:], baseline.dropna()))"
   ]
  },
  {
   "cell_type": "code",
   "execution_count": 25,
   "metadata": {
    "ExecuteTime": {
     "end_time": "2022-01-04T22:52:05.508284Z",
     "start_time": "2022-01-04T22:52:05.093360Z"
    }
   },
   "outputs": [
    {
     "data": {
      "image/png": "[encoded data removed]",
      "text/plain": [
       "<Figure size 432x288 with 1 Axes>"
      ]
     },
     "metadata": {
      "needs_background": "light"
     },
     "output_type": "display_data"
    }
   ],
   "source": [
    "fig, ax = plt.subplots()\n",
    "residuals = baseline[1:] - train[1:]\n",
    "ax.plot(residuals.index, residuals)\n",
    "ax.plot(residuals.index, residuals.rolling(30).std());"
   ]
  },
  {
   "cell_type": "code",
   "execution_count": 26,
   "metadata": {
    "ExecuteTime": {
     "end_time": "2022-01-04T22:52:05.883766Z",
     "start_time": "2022-01-04T22:52:05.524330Z"
    }
   },
   "outputs": [
    {
     "data": {
      "image/png": "[encoded data removed]",
      "text/plain": [
       "<Figure size 432x288 with 1 Axes>"
      ]
     },
     "metadata": {
      "needs_background": "light"
     },
     "output_type": "display_data"
    }
   ],
   "source": [
    "fig, ax = plt.subplots()\n",
    "\n",
    "ax.plot(residuals.index, residuals.rolling(30).var());"
   ]
  },
  {
   "cell_type": "code",
   "execution_count": 27,
   "metadata": {
    "ExecuteTime": {
     "end_time": "2022-01-04T22:52:06.331164Z",
     "start_time": "2022-01-04T22:52:05.890684Z"
    }
   },
   "outputs": [
    {
     "data": {
      "image/png": "[encoded data removed]",
      "text/plain": [
       "<Figure size 432x288 with 1 Axes>"
      ]
     },
     "metadata": {
      "needs_background": "light"
     },
     "output_type": "display_data"
    }
   ],
   "source": [
    "fig, ax = plt.subplots()\n",
    "ax.plot(train.diff())\n",
    "ax.set_title('Monthly differenced data');"
   ]
  },
  {
   "cell_type": "code",
   "execution_count": 28,
   "metadata": {
    "ExecuteTime": {
     "end_time": "2022-01-04T22:52:06.357026Z",
     "start_time": "2022-01-04T22:52:06.335163Z"
    }
   },
   "outputs": [
    {
     "name": "stdout",
     "output_type": "stream",
     "text": [
      "The p-value associated with the Dickey-Fuller statistical test is 3.688289836297542e-09,\n",
      " so we can safely assume that the differenced data is stationary.\n"
     ]
    }
   ],
   "source": [
    "p_val = adfuller(train.diff()[1:])[1]\n",
    "print(f\"The p-value associated with the Dickey-Fuller statistical test is {p_val},\")\n",
    "if p_val < 0.05:\n",
    "    print(\" so we can safely assume that the differenced data is stationary.\")\n",
    "else:\n",
    "    print(\" so we cannot reject the null hypothesis that the differenced data is \\\n",
    "not stationary.\")"
   ]
  },
  {
   "cell_type": "code",
   "execution_count": 29,
   "metadata": {
    "ExecuteTime": {
     "end_time": "2022-01-04T22:52:06.479554Z",
     "start_time": "2022-01-04T22:52:06.359618Z"
    }
   },
   "outputs": [
    {
     "data": {
      "text/plain": [
       "2009-08-01    0.000000\n",
       "2009-09-01    0.643657\n",
       "2009-10-01    0.672896\n",
       "2009-11-01    0.734658\n",
       "2009-12-01    1.202980\n",
       "                ...   \n",
       "2016-03-01    0.845466\n",
       "2016-04-01    0.075295\n",
       "2016-05-01    0.402765\n",
       "2016-06-01    0.275431\n",
       "2016-07-01    0.828532\n",
       "Freq: MS, Name: predicted_mean, Length: 84, dtype: float64"
      ]
     },
     "execution_count": 29,
     "metadata": {},
     "output_type": "execute_result"
    }
   ],
   "source": [
    "ar_1 = ARIMA(train, order=(1, 1, 0)).fit()\n",
    "\n",
    "# We put a typ='levels' to convert our predictions to remove the differencing performed.\n",
    "ar_1.predict(typ='levels')"
   ]
  },
  {
   "cell_type": "code",
   "execution_count": 30,
   "metadata": {
    "ExecuteTime": {
     "end_time": "2022-01-04T22:52:06.559887Z",
     "start_time": "2022-01-04T22:52:06.482398Z"
    }
   },
   "outputs": [
    {
     "data": {
      "text/html": [
       "<table class=\"simpletable\">\n",
       "<caption>SARIMAX Results</caption>\n",
       "<tr>\n",
       "  <th>Dep. Variable:</th>        <td>growth</td>      <th>  No. Observations:  </th>    <td>84</td>   \n",
       "</tr>\n",
       "<tr>\n",
       "  <th>Model:</th>            <td>ARIMA(1, 1, 0)</td>  <th>  Log Likelihood     </th> <td>-102.525</td>\n",
       "</tr>\n",
       "<tr>\n",
       "  <th>Date:</th>            <td>Tue, 04 Jan 2022</td> <th>  AIC                </th>  <td>209.050</td>\n",
       "</tr>\n",
       "<tr>\n",
       "  <th>Time:</th>                <td>17:52:06</td>     <th>  BIC                </th>  <td>213.888</td>\n",
       "</tr>\n",
       "<tr>\n",
       "  <th>Sample:</th>             <td>08-01-2009</td>    <th>  HQIC               </th>  <td>210.994</td>\n",
       "</tr>\n",
       "<tr>\n",
       "  <th></th>                   <td>- 07-01-2016</td>   <th>                     </th>     <td> </td>   \n",
       "</tr>\n",
       "<tr>\n",
       "  <th>Covariance Type:</th>        <td>opg</td>       <th>                     </th>     <td> </td>   \n",
       "</tr>\n",
       "</table>\n",
       "<table class=\"simpletable\">\n",
       "<tr>\n",
       "     <td></td>       <th>coef</th>     <th>std err</th>      <th>z</th>      <th>P>|z|</th>  <th>[0.025</th>    <th>0.975]</th>  \n",
       "</tr>\n",
       "<tr>\n",
       "  <th>ar.L1</th>  <td>   -0.1272</td> <td>    0.106</td> <td>   -1.204</td> <td> 0.229</td> <td>   -0.334</td> <td>    0.080</td>\n",
       "</tr>\n",
       "<tr>\n",
       "  <th>sigma2</th> <td>    0.6924</td> <td>    0.087</td> <td>    7.913</td> <td> 0.000</td> <td>    0.521</td> <td>    0.864</td>\n",
       "</tr>\n",
       "</table>\n",
       "<table class=\"simpletable\">\n",
       "<tr>\n",
       "  <th>Ljung-Box (L1) (Q):</th>     <td>0.01</td> <th>  Jarque-Bera (JB):  </th> <td>7.84</td> \n",
       "</tr>\n",
       "<tr>\n",
       "  <th>Prob(Q):</th>                <td>0.92</td> <th>  Prob(JB):          </th> <td>0.02</td> \n",
       "</tr>\n",
       "<tr>\n",
       "  <th>Heteroskedasticity (H):</th> <td>1.82</td> <th>  Skew:              </th> <td>-0.44</td>\n",
       "</tr>\n",
       "<tr>\n",
       "  <th>Prob(H) (two-sided):</th>    <td>0.12</td> <th>  Kurtosis:          </th> <td>4.22</td> \n",
       "</tr>\n",
       "</table><br/><br/>Warnings:<br/>[1] Covariance matrix calculated using the outer product of gradients (complex-step)."
      ],
      "text/plain": [
       "<class 'statsmodels.iolib.summary.Summary'>\n",
       "\"\"\"\n",
       "                               SARIMAX Results                                \n",
       "==============================================================================\n",
       "Dep. Variable:                 growth   No. Observations:                   84\n",
       "Model:                 ARIMA(1, 1, 0)   Log Likelihood                -102.525\n",
       "Date:                Tue, 04 Jan 2022   AIC                            209.050\n",
       "Time:                        17:52:06   BIC                            213.888\n",
       "Sample:                    08-01-2009   HQIC                           210.994\n",
       "                         - 07-01-2016                                         \n",
       "Covariance Type:                  opg                                         \n",
       "==============================================================================\n",
       "                 coef    std err          z      P>|z|      [0.025      0.975]\n",
       "------------------------------------------------------------------------------\n",
       "ar.L1         -0.1272      0.106     -1.204      0.229      -0.334       0.080\n",
       "sigma2         0.6924      0.087      7.913      0.000       0.521       0.864\n",
       "===================================================================================\n",
       "Ljung-Box (L1) (Q):                   0.01   Jarque-Bera (JB):                 7.84\n",
       "Prob(Q):                              0.92   Prob(JB):                         0.02\n",
       "Heteroskedasticity (H):               1.82   Skew:                            -0.44\n",
       "Prob(H) (two-sided):                  0.12   Kurtosis:                         4.22\n",
       "===================================================================================\n",
       "\n",
       "Warnings:\n",
       "[1] Covariance matrix calculated using the outer product of gradients (complex-step).\n",
       "\"\"\""
      ]
     },
     "execution_count": 30,
     "metadata": {},
     "output_type": "execute_result"
    }
   ],
   "source": [
    "ar_1.summary()"
   ]
  },
  {
   "cell_type": "code",
   "execution_count": 31,
   "metadata": {
    "ExecuteTime": {
     "end_time": "2022-01-04T22:52:06.660878Z",
     "start_time": "2022-01-04T22:52:06.564497Z"
    }
   },
   "outputs": [
    {
     "data": {
      "text/html": [
       "<table class=\"simpletable\">\n",
       "<caption>SARIMAX Results</caption>\n",
       "<tr>\n",
       "  <th>Dep. Variable:</th>        <td>growth</td>      <th>  No. Observations:  </th>    <td>84</td>   \n",
       "</tr>\n",
       "<tr>\n",
       "  <th>Model:</th>            <td>ARIMA(0, 1, 0)</td>  <th>  Log Likelihood     </th> <td>-103.169</td>\n",
       "</tr>\n",
       "<tr>\n",
       "  <th>Date:</th>            <td>Tue, 04 Jan 2022</td> <th>  AIC                </th>  <td>208.338</td>\n",
       "</tr>\n",
       "<tr>\n",
       "  <th>Time:</th>                <td>17:52:06</td>     <th>  BIC                </th>  <td>210.757</td>\n",
       "</tr>\n",
       "<tr>\n",
       "  <th>Sample:</th>             <td>08-01-2009</td>    <th>  HQIC               </th>  <td>209.310</td>\n",
       "</tr>\n",
       "<tr>\n",
       "  <th></th>                   <td>- 07-01-2016</td>   <th>                     </th>     <td> </td>   \n",
       "</tr>\n",
       "<tr>\n",
       "  <th>Covariance Type:</th>        <td>opg</td>       <th>                     </th>     <td> </td>   \n",
       "</tr>\n",
       "</table>\n",
       "<table class=\"simpletable\">\n",
       "<tr>\n",
       "     <td></td>       <th>coef</th>     <th>std err</th>      <th>z</th>      <th>P>|z|</th>  <th>[0.025</th>    <th>0.975]</th>  \n",
       "</tr>\n",
       "<tr>\n",
       "  <th>sigma2</th> <td>    0.7034</td> <td>    0.083</td> <td>    8.516</td> <td> 0.000</td> <td>    0.541</td> <td>    0.865</td>\n",
       "</tr>\n",
       "</table>\n",
       "<table class=\"simpletable\">\n",
       "<tr>\n",
       "  <th>Ljung-Box (L1) (Q):</th>     <td>1.26</td> <th>  Jarque-Bera (JB):  </th> <td>11.12</td>\n",
       "</tr>\n",
       "<tr>\n",
       "  <th>Prob(Q):</th>                <td>0.26</td> <th>  Prob(JB):          </th> <td>0.00</td> \n",
       "</tr>\n",
       "<tr>\n",
       "  <th>Heteroskedasticity (H):</th> <td>1.86</td> <th>  Skew:              </th> <td>-0.53</td>\n",
       "</tr>\n",
       "<tr>\n",
       "  <th>Prob(H) (two-sided):</th>    <td>0.11</td> <th>  Kurtosis:          </th> <td>4.45</td> \n",
       "</tr>\n",
       "</table><br/><br/>Warnings:<br/>[1] Covariance matrix calculated using the outer product of gradients (complex-step)."
      ],
      "text/plain": [
       "<class 'statsmodels.iolib.summary.Summary'>\n",
       "\"\"\"\n",
       "                               SARIMAX Results                                \n",
       "==============================================================================\n",
       "Dep. Variable:                 growth   No. Observations:                   84\n",
       "Model:                 ARIMA(0, 1, 0)   Log Likelihood                -103.169\n",
       "Date:                Tue, 04 Jan 2022   AIC                            208.338\n",
       "Time:                        17:52:06   BIC                            210.757\n",
       "Sample:                    08-01-2009   HQIC                           209.310\n",
       "                         - 07-01-2016                                         \n",
       "Covariance Type:                  opg                                         \n",
       "==============================================================================\n",
       "                 coef    std err          z      P>|z|      [0.025      0.975]\n",
       "------------------------------------------------------------------------------\n",
       "sigma2         0.7034      0.083      8.516      0.000       0.541       0.865\n",
       "===================================================================================\n",
       "Ljung-Box (L1) (Q):                   1.26   Jarque-Bera (JB):                11.12\n",
       "Prob(Q):                              0.26   Prob(JB):                         0.00\n",
       "Heteroskedasticity (H):               1.86   Skew:                            -0.53\n",
       "Prob(H) (two-sided):                  0.11   Kurtosis:                         4.45\n",
       "===================================================================================\n",
       "\n",
       "Warnings:\n",
       "[1] Covariance matrix calculated using the outer product of gradients (complex-step).\n",
       "\"\"\""
      ]
     },
     "execution_count": 31,
     "metadata": {},
     "output_type": "execute_result"
    }
   ],
   "source": [
    "random_walk_model = ARIMA(train, order=(0, 1, 0)).fit()\n",
    "random_walk_model.summary()"
   ]
  },
  {
   "cell_type": "code",
   "execution_count": 32,
   "metadata": {
    "ExecuteTime": {
     "end_time": "2022-01-04T22:52:06.679119Z",
     "start_time": "2022-01-04T22:52:06.669467Z"
    }
   },
   "outputs": [
    {
     "name": "stdout",
     "output_type": "stream",
     "text": [
      "Random Walk AIC: 208.33830586263858\n",
      "AR(1, 1, 0) AIC: 209.05016499679843\n"
     ]
    }
   ],
   "source": [
    "print(f'Random Walk AIC: {random_walk_model.aic}')\n",
    "print(f'AR(1, 1, 0) AIC: {ar_1.aic}' )"
   ]
  },
  {
   "cell_type": "code",
   "execution_count": 33,
   "metadata": {
    "ExecuteTime": {
     "end_time": "2022-01-04T22:52:06.704243Z",
     "start_time": "2022-01-04T22:52:06.689218Z"
    }
   },
   "outputs": [
    {
     "data": {
      "text/plain": [
       "0.8301148987676307"
      ]
     },
     "execution_count": 33,
     "metadata": {},
     "output_type": "execute_result"
    }
   ],
   "source": [
    "y_hat_ar1 = ar_1.predict(typ='levels')\n",
    "np.sqrt(mean_squared_error(train, y_hat_ar1))"
   ]
  },
  {
   "cell_type": "code",
   "execution_count": 34,
   "metadata": {
    "ExecuteTime": {
     "end_time": "2022-01-04T22:52:06.760881Z",
     "start_time": "2022-01-04T22:52:06.725816Z"
    }
   },
   "outputs": [
    {
     "data": {
      "text/plain": [
       "0.8366168878965913"
      ]
     },
     "execution_count": 34,
     "metadata": {},
     "output_type": "execute_result"
    }
   ],
   "source": [
    "y_hat_rw = random_walk_model.predict(typ='levels')\n",
    "np.sqrt(mean_squared_error(train, y_hat_rw))"
   ]
  },
  {
   "cell_type": "code",
   "execution_count": 35,
   "metadata": {
    "ExecuteTime": {
     "end_time": "2022-01-04T22:52:06.780956Z",
     "start_time": "2022-01-04T22:52:06.768286Z"
    }
   },
   "outputs": [
    {
     "data": {
      "text/plain": [
       "DatetimeIndex(['2009-08-01', '2009-09-01', '2009-10-01', '2009-11-01',\n",
       "               '2009-12-01', '2010-01-01', '2010-02-01', '2010-03-01',\n",
       "               '2010-04-01', '2010-05-01', '2010-06-01', '2010-07-01',\n",
       "               '2010-08-01', '2010-09-01', '2010-10-01', '2010-11-01',\n",
       "               '2010-12-01', '2011-01-01', '2011-02-01', '2011-03-01',\n",
       "               '2011-04-01', '2011-05-01', '2011-06-01', '2011-07-01',\n",
       "               '2011-08-01', '2011-09-01', '2011-10-01', '2011-11-01',\n",
       "               '2011-12-01', '2012-01-01', '2012-02-01', '2012-03-01',\n",
       "               '2012-04-01', '2012-05-01', '2012-06-01', '2012-07-01',\n",
       "               '2012-08-01', '2012-09-01', '2012-10-01', '2012-11-01',\n",
       "               '2012-12-01', '2013-01-01', '2013-02-01', '2013-03-01',\n",
       "               '2013-04-01', '2013-05-01', '2013-06-01', '2013-07-01',\n",
       "               '2013-08-01', '2013-09-01', '2013-10-01', '2013-11-01',\n",
       "               '2013-12-01', '2014-01-01', '2014-02-01', '2014-03-01',\n",
       "               '2014-04-01', '2014-05-01', '2014-06-01', '2014-07-01',\n",
       "               '2014-08-01', '2014-09-01', '2014-10-01', '2014-11-01',\n",
       "               '2014-12-01', '2015-01-01', '2015-02-01', '2015-03-01',\n",
       "               '2015-04-01', '2015-05-01', '2015-06-01', '2015-07-01',\n",
       "               '2015-08-01', '2015-09-01', '2015-10-01', '2015-11-01',\n",
       "               '2015-12-01', '2016-01-01', '2016-02-01', '2016-03-01',\n",
       "               '2016-04-01', '2016-05-01', '2016-06-01', '2016-07-01'],\n",
       "              dtype='datetime64[ns]', name='time', freq=None)"
      ]
     },
     "execution_count": 35,
     "metadata": {},
     "output_type": "execute_result"
    }
   ],
   "source": [
    "train.index"
   ]
  },
  {
   "cell_type": "code",
   "execution_count": 36,
   "metadata": {
    "ExecuteTime": {
     "end_time": "2022-01-04T22:52:06.814825Z",
     "start_time": "2022-01-04T22:52:06.797029Z"
    }
   },
   "outputs": [],
   "source": [
    "train_with_ind = train.reset_index()"
   ]
  },
  {
   "cell_type": "code",
   "execution_count": 37,
   "metadata": {
    "ExecuteTime": {
     "end_time": "2022-01-04T22:52:07.076137Z",
     "start_time": "2022-01-04T22:52:06.828770Z"
    }
   },
   "outputs": [
    {
     "name": "stdout",
     "output_type": "stream",
     "text": [
      "0.8090689700921099\n",
      "0.5457187996367836\n",
      "1.0242059174360796\n",
      "1.17277043109638\n",
      "1.9039742706972276\n"
     ]
    }
   ],
   "source": [
    "for train_ind, val_ind in split.split(train_with_ind):\n",
    "    ar = ARIMA(endog=train_with_ind.iloc[train_ind, -1], order=(1, 1, 0)).fit()\n",
    "    preds = ar.predict(typ='levels', start=val_ind[0], end=val_ind[-1])\n",
    "    true = train_with_ind.iloc[val_ind, -1]\n",
    "    print(np.sqrt(mean_squared_error(true, preds)))"
   ]
  },
  {
   "cell_type": "code",
   "execution_count": 38,
   "metadata": {
    "ExecuteTime": {
     "end_time": "2022-01-04T22:52:07.102735Z",
     "start_time": "2022-01-04T22:52:07.080783Z"
    }
   },
   "outputs": [
    {
     "data": {
      "text/plain": [
       "array([-0.12715793])"
      ]
     },
     "execution_count": 38,
     "metadata": {},
     "output_type": "execute_result"
    }
   ],
   "source": [
    "ar_1.arparams"
   ]
  },
  {
   "cell_type": "code",
   "execution_count": 39,
   "metadata": {
    "ExecuteTime": {
     "end_time": "2022-01-04T22:52:07.274796Z",
     "start_time": "2022-01-04T22:52:07.105689Z"
    }
   },
   "outputs": [
    {
     "name": "stdout",
     "output_type": "stream",
     "text": [
      "[-0.12869562]\n"
     ]
    }
   ],
   "source": [
    "from sklearn.linear_model import LinearRegression\n",
    "lr = LinearRegression()\n",
    "lr.fit(np.array(train.diff().shift(1).dropna()).reshape(-1, 1), train[1:].diff().dropna())\n",
    "print(lr.coef_)"
   ]
  },
  {
   "cell_type": "code",
   "execution_count": 40,
   "metadata": {
    "ExecuteTime": {
     "end_time": "2022-01-04T22:52:07.410602Z",
     "start_time": "2022-01-04T22:52:07.279797Z"
    }
   },
   "outputs": [
    {
     "data": {
      "text/plain": [
       "2009-08-01    0.000000\n",
       "2009-09-01    0.643657\n",
       "2009-10-01    0.672828\n",
       "2009-11-01    0.738543\n",
       "2009-12-01    1.214730\n",
       "                ...   \n",
       "2016-03-01    0.886337\n",
       "2016-04-01    0.071562\n",
       "2016-05-01    0.322786\n",
       "2016-06-01    0.321461\n",
       "2016-07-01    0.814423\n",
       "Freq: MS, Name: predicted_mean, Length: 84, dtype: float64"
      ]
     },
     "execution_count": 40,
     "metadata": {},
     "output_type": "execute_result"
    }
   ],
   "source": [
    "ar_2 = ARIMA(train, order=(2, 1, 0)).fit()\n",
    "\n",
    "ar_2.predict(typ='levels')"
   ]
  },
  {
   "cell_type": "code",
   "execution_count": 41,
   "metadata": {
    "ExecuteTime": {
     "end_time": "2022-01-04T22:52:07.438728Z",
     "start_time": "2022-01-04T22:52:07.429482Z"
    }
   },
   "outputs": [
    {
     "name": "stdout",
     "output_type": "stream",
     "text": [
      "208.33830586263858\n",
      "209.05016499679843\n",
      "210.31730017009735\n"
     ]
    }
   ],
   "source": [
    "print(random_walk_model.aic)\n",
    "print(ar_1.aic)\n",
    "print(ar_2.aic)"
   ]
  },
  {
   "cell_type": "code",
   "execution_count": 42,
   "metadata": {
    "ExecuteTime": {
     "end_time": "2022-01-04T22:52:07.498319Z",
     "start_time": "2022-01-04T22:52:07.472338Z"
    }
   },
   "outputs": [
    {
     "data": {
      "text/plain": [
       "0.8263913188498804"
      ]
     },
     "execution_count": 42,
     "metadata": {},
     "output_type": "execute_result"
    }
   ],
   "source": [
    "y_hat_ar1 = ar_2.predict(typ='levels')\n",
    "np.sqrt(mean_squared_error(train, y_hat_ar1))"
   ]
  },
  {
   "cell_type": "code",
   "execution_count": 43,
   "metadata": {
    "ExecuteTime": {
     "end_time": "2022-01-04T22:52:08.202349Z",
     "start_time": "2022-01-04T22:52:07.510907Z"
    }
   },
   "outputs": [
    {
     "name": "stdout",
     "output_type": "stream",
     "text": [
      "0.5495759153585341\n",
      "0.64222694625221\n",
      "1.0219369505736087\n",
      "1.2492027442177387\n",
      "2.10441191353009\n"
     ]
    }
   ],
   "source": [
    "for train_ind, val_ind in split.split(train_with_ind):\n",
    "    ar = ARIMA(endog=train_with_ind.iloc[train_ind, -1], order=(2, 1, 0)).fit()\n",
    "    preds = ar.predict(typ='levels', start=val_ind[0], end=val_ind[-1])\n",
    "    true = train_with_ind.iloc[val_ind, -1]\n",
    "    print(np.sqrt(mean_squared_error(true, preds)))"
   ]
  },
  {
   "cell_type": "markdown",
   "metadata": {},
   "source": [
    "### Moving Avg"
   ]
  },
  {
   "cell_type": "code",
   "execution_count": 44,
   "metadata": {
    "ExecuteTime": {
     "end_time": "2022-01-04T22:52:08.467387Z",
     "start_time": "2022-01-04T22:52:08.211628Z"
    }
   },
   "outputs": [
    {
     "data": {
      "text/plain": [
       "2009-08-01    0.056122\n",
       "2009-09-01    0.295009\n",
       "2009-10-01    0.242273\n",
       "2009-11-01    0.310013\n",
       "2009-12-01    0.547796\n",
       "                ...   \n",
       "2016-03-01    0.280861\n",
       "2016-04-01   -0.107761\n",
       "2016-05-01    0.351547\n",
       "2016-06-01    0.002653\n",
       "2016-07-01    0.524149\n",
       "Freq: MS, Name: predicted_mean, Length: 84, dtype: float64"
      ]
     },
     "execution_count": 44,
     "metadata": {},
     "output_type": "execute_result"
    }
   ],
   "source": [
    "ma_1 = ARIMA(train, order=(0, 0, 1)).fit()\n",
    "y_hat = ma_1.predict(typ='levels')\n",
    "y_hat"
   ]
  },
  {
   "cell_type": "code",
   "execution_count": 45,
   "metadata": {
    "ExecuteTime": {
     "end_time": "2022-01-04T22:52:08.598442Z",
     "start_time": "2022-01-04T22:52:08.512986Z"
    }
   },
   "outputs": [
    {
     "data": {
      "text/html": [
       "<table class=\"simpletable\">\n",
       "<caption>SARIMAX Results</caption>\n",
       "<tr>\n",
       "  <th>Dep. Variable:</th>        <td>growth</td>      <th>  No. Observations:  </th>    <td>84</td>   \n",
       "</tr>\n",
       "<tr>\n",
       "  <th>Model:</th>            <td>ARIMA(0, 0, 1)</td>  <th>  Log Likelihood     </th> <td>-103.125</td>\n",
       "</tr>\n",
       "<tr>\n",
       "  <th>Date:</th>            <td>Tue, 04 Jan 2022</td> <th>  AIC                </th>  <td>212.249</td>\n",
       "</tr>\n",
       "<tr>\n",
       "  <th>Time:</th>                <td>17:52:08</td>     <th>  BIC                </th>  <td>219.542</td>\n",
       "</tr>\n",
       "<tr>\n",
       "  <th>Sample:</th>             <td>08-01-2009</td>    <th>  HQIC               </th>  <td>215.181</td>\n",
       "</tr>\n",
       "<tr>\n",
       "  <th></th>                   <td>- 07-01-2016</td>   <th>                     </th>     <td> </td>   \n",
       "</tr>\n",
       "<tr>\n",
       "  <th>Covariance Type:</th>        <td>opg</td>       <th>                     </th>     <td> </td>   \n",
       "</tr>\n",
       "</table>\n",
       "<table class=\"simpletable\">\n",
       "<tr>\n",
       "     <td></td>       <th>coef</th>     <th>std err</th>      <th>z</th>      <th>P>|z|</th>  <th>[0.025</th>    <th>0.975]</th>  \n",
       "</tr>\n",
       "<tr>\n",
       "  <th>const</th>  <td>    0.0561</td> <td>    0.142</td> <td>    0.394</td> <td> 0.694</td> <td>   -0.223</td> <td>    0.335</td>\n",
       "</tr>\n",
       "<tr>\n",
       "  <th>ma.L1</th>  <td>    0.5140</td> <td>    0.079</td> <td>    6.491</td> <td> 0.000</td> <td>    0.359</td> <td>    0.669</td>\n",
       "</tr>\n",
       "<tr>\n",
       "  <th>sigma2</th> <td>    0.6796</td> <td>    0.095</td> <td>    7.146</td> <td> 0.000</td> <td>    0.493</td> <td>    0.866</td>\n",
       "</tr>\n",
       "</table>\n",
       "<table class=\"simpletable\">\n",
       "<tr>\n",
       "  <th>Ljung-Box (L1) (Q):</th>     <td>2.87</td> <th>  Jarque-Bera (JB):  </th> <td>3.17</td>\n",
       "</tr>\n",
       "<tr>\n",
       "  <th>Prob(Q):</th>                <td>0.09</td> <th>  Prob(JB):          </th> <td>0.20</td>\n",
       "</tr>\n",
       "<tr>\n",
       "  <th>Heteroskedasticity (H):</th> <td>1.29</td> <th>  Skew:              </th> <td>0.34</td>\n",
       "</tr>\n",
       "<tr>\n",
       "  <th>Prob(H) (two-sided):</th>    <td>0.50</td> <th>  Kurtosis:          </th> <td>3.66</td>\n",
       "</tr>\n",
       "</table><br/><br/>Warnings:<br/>[1] Covariance matrix calculated using the outer product of gradients (complex-step)."
      ],
      "text/plain": [
       "<class 'statsmodels.iolib.summary.Summary'>\n",
       "\"\"\"\n",
       "                               SARIMAX Results                                \n",
       "==============================================================================\n",
       "Dep. Variable:                 growth   No. Observations:                   84\n",
       "Model:                 ARIMA(0, 0, 1)   Log Likelihood                -103.125\n",
       "Date:                Tue, 04 Jan 2022   AIC                            212.249\n",
       "Time:                        17:52:08   BIC                            219.542\n",
       "Sample:                    08-01-2009   HQIC                           215.181\n",
       "                         - 07-01-2016                                         \n",
       "Covariance Type:                  opg                                         \n",
       "==============================================================================\n",
       "                 coef    std err          z      P>|z|      [0.025      0.975]\n",
       "------------------------------------------------------------------------------\n",
       "const          0.0561      0.142      0.394      0.694      -0.223       0.335\n",
       "ma.L1          0.5140      0.079      6.491      0.000       0.359       0.669\n",
       "sigma2         0.6796      0.095      7.146      0.000       0.493       0.866\n",
       "===================================================================================\n",
       "Ljung-Box (L1) (Q):                   2.87   Jarque-Bera (JB):                 3.17\n",
       "Prob(Q):                              0.09   Prob(JB):                         0.20\n",
       "Heteroskedasticity (H):               1.29   Skew:                             0.34\n",
       "Prob(H) (two-sided):                  0.50   Kurtosis:                         3.66\n",
       "===================================================================================\n",
       "\n",
       "Warnings:\n",
       "[1] Covariance matrix calculated using the outer product of gradients (complex-step).\n",
       "\"\"\""
      ]
     },
     "execution_count": 45,
     "metadata": {},
     "output_type": "execute_result"
    }
   ],
   "source": [
    "ma_1.summary()"
   ]
  },
  {
   "cell_type": "code",
   "execution_count": 46,
   "metadata": {
    "ExecuteTime": {
     "end_time": "2022-01-04T22:52:08.916438Z",
     "start_time": "2022-01-04T22:52:08.611701Z"
    }
   },
   "outputs": [
    {
     "name": "stdout",
     "output_type": "stream",
     "text": [
      "208.33830586263858\n",
      "209.05016499679843\n",
      "210.31730017009735\n",
      "209.23993080302242\n"
     ]
    }
   ],
   "source": [
    "ma_1 = ARIMA(train, order=(0, 1, 1)).fit()\n",
    "\n",
    "print(random_walk_model.aic)\n",
    "print(ar_1.aic)\n",
    "print(ar_2.aic)\n",
    "print(ma_1.aic)"
   ]
  },
  {
   "cell_type": "code",
   "execution_count": 47,
   "metadata": {
    "ExecuteTime": {
     "end_time": "2022-01-04T22:52:08.960576Z",
     "start_time": "2022-01-04T22:52:08.935259Z"
    }
   },
   "outputs": [
    {
     "data": {
      "text/plain": [
       "0.8310775660107877"
      ]
     },
     "execution_count": 47,
     "metadata": {},
     "output_type": "execute_result"
    }
   ],
   "source": [
    "y_hat_ar1 = ma_1.predict(typ='levels')\n",
    "np.sqrt(mean_squared_error(train, y_hat_ar1))"
   ]
  },
  {
   "cell_type": "code",
   "execution_count": 48,
   "metadata": {
    "ExecuteTime": {
     "end_time": "2022-01-04T22:52:09.467400Z",
     "start_time": "2022-01-04T22:52:08.975721Z"
    }
   },
   "outputs": [
    {
     "name": "stdout",
     "output_type": "stream",
     "text": [
      "0.7992390851111055\n",
      "0.5460696229866322\n",
      "1.0244890249925385\n",
      "1.1745658874399025\n",
      "1.9009326158208197\n"
     ]
    }
   ],
   "source": [
    "for train_ind, val_ind in split.split(train_with_ind):\n",
    "    ar = ARIMA(endog=train_with_ind.iloc[train_ind, -1], order=(0, 1, 1)).fit()\n",
    "    preds = ar.predict(typ='levels', start=val_ind[0], end=val_ind[-1])\n",
    "    true = train_with_ind.iloc[val_ind, -1]\n",
    "    print(np.sqrt(mean_squared_error(true, preds)))"
   ]
  },
  {
   "cell_type": "code",
   "execution_count": 49,
   "metadata": {
    "ExecuteTime": {
     "end_time": "2022-01-04T22:52:09.665809Z",
     "start_time": "2022-01-04T22:52:09.479219Z"
    }
   },
   "outputs": [
    {
     "data": {
      "text/plain": [
       "2009-08-01    0.000000\n",
       "2009-09-01    0.643658\n",
       "2009-10-01    0.674765\n",
       "2009-11-01    0.745880\n",
       "2009-12-01    1.251037\n",
       "                ...   \n",
       "2016-03-01    0.909103\n",
       "2016-04-01    0.049832\n",
       "2016-05-01    0.240986\n",
       "2016-06-01    0.335312\n",
       "2016-07-01    0.878870\n",
       "Freq: MS, Name: predicted_mean, Length: 84, dtype: float64"
      ]
     },
     "execution_count": 49,
     "metadata": {},
     "output_type": "execute_result"
    }
   ],
   "source": [
    "ma_2 = ARIMA(train, order=(0, 1, 2)).fit()\n",
    "y_hat = ma_2.predict(typ='levels')\n",
    "y_hat"
   ]
  },
  {
   "cell_type": "code",
   "execution_count": 50,
   "metadata": {
    "ExecuteTime": {
     "end_time": "2022-01-04T22:52:09.713926Z",
     "start_time": "2022-01-04T22:52:09.671841Z"
    }
   },
   "outputs": [
    {
     "name": "stdout",
     "output_type": "stream",
     "text": [
      "208.33830586263858\n",
      "209.05016499679843\n",
      "210.31730017009735\n",
      "209.23993080302242\n",
      "209.90786652291496\n"
     ]
    }
   ],
   "source": [
    "print(random_walk_model.aic)\n",
    "print(ar_1.aic)\n",
    "print(ar_2.aic)\n",
    "print(ma_1.aic)\n",
    "print(ma_2.aic)"
   ]
  },
  {
   "cell_type": "code",
   "execution_count": 51,
   "metadata": {
    "ExecuteTime": {
     "end_time": "2022-01-04T22:52:09.783037Z",
     "start_time": "2022-01-04T22:52:09.740690Z"
    }
   },
   "outputs": [
    {
     "data": {
      "text/plain": [
       "0.8241207343468201"
      ]
     },
     "execution_count": 51,
     "metadata": {},
     "output_type": "execute_result"
    }
   ],
   "source": [
    "y_hat_ar1 = ma_2.predict(typ='levels')\n",
    "np.sqrt(mean_squared_error(train, y_hat_ar1))"
   ]
  },
  {
   "cell_type": "code",
   "execution_count": 52,
   "metadata": {
    "ExecuteTime": {
     "end_time": "2022-01-04T22:52:10.290029Z",
     "start_time": "2022-01-04T22:52:09.797667Z"
    }
   },
   "outputs": [
    {
     "name": "stdout",
     "output_type": "stream",
     "text": [
      "0.42799655929167935\n",
      "0.9066826427612868\n",
      "1.0177455652289973\n",
      "1.2972257357178814\n",
      "2.494145933929743\n"
     ]
    }
   ],
   "source": [
    "for train_ind, val_ind in split.split(train_with_ind):\n",
    "    ar = ARIMA(endog=train_with_ind.iloc[train_ind, -1], order=(0, 1, 2)).fit()\n",
    "    preds = ar.predict(typ='levels', start=val_ind[0], end=val_ind[-1])\n",
    "    true = train_with_ind.iloc[val_ind, -1]\n",
    "    print(np.sqrt(mean_squared_error(true, preds)))"
   ]
  },
  {
   "cell_type": "markdown",
   "metadata": {},
   "source": [
    "### ARMA"
   ]
  },
  {
   "cell_type": "code",
   "execution_count": 53,
   "metadata": {
    "ExecuteTime": {
     "end_time": "2022-01-04T22:52:10.869907Z",
     "start_time": "2022-01-04T22:52:10.300777Z"
    }
   },
   "outputs": [],
   "source": [
    "arma_21 = ARIMA(train, order=(2, 1, 2)).fit()"
   ]
  },
  {
   "cell_type": "code",
   "execution_count": 54,
   "metadata": {
    "ExecuteTime": {
     "end_time": "2022-01-04T22:52:10.899006Z",
     "start_time": "2022-01-04T22:52:10.872838Z"
    }
   },
   "outputs": [
    {
     "name": "stdout",
     "output_type": "stream",
     "text": [
      "208.33830586263858\n",
      "209.05016499679843\n",
      "210.31730017009735\n",
      "209.23993080302242\n",
      "209.90786652291496\n",
      "201.96920081390306\n"
     ]
    }
   ],
   "source": [
    "print(random_walk_model.aic)\n",
    "print(ar_1.aic)\n",
    "print(ar_2.aic)\n",
    "print(ma_1.aic)\n",
    "print(ma_2.aic)\n",
    "print(arma_21.aic)"
   ]
  },
  {
   "cell_type": "code",
   "execution_count": 55,
   "metadata": {
    "ExecuteTime": {
     "end_time": "2022-01-04T22:52:10.962985Z",
     "start_time": "2022-01-04T22:52:10.921579Z"
    }
   },
   "outputs": [],
   "source": [
    "def find_rmse(model, train_data=train):\n",
    "    y_hat = model.predict(typ='levels')\n",
    "    return np.sqrt(mean_squared_error(train_data, y_hat))"
   ]
  },
  {
   "cell_type": "code",
   "execution_count": 56,
   "metadata": {
    "ExecuteTime": {
     "end_time": "2022-01-04T22:52:11.047764Z",
     "start_time": "2022-01-04T22:52:10.971117Z"
    }
   },
   "outputs": [
    {
     "name": "stdout",
     "output_type": "stream",
     "text": [
      "0.8366168878965913\n",
      "0.8301148987676307\n",
      "0.8263913188498804\n",
      "0.8310775660107877\n",
      "0.8241207343468201\n",
      "0.7672753044327677\n"
     ]
    }
   ],
   "source": [
    "print(find_rmse(random_walk_model))\n",
    "print(find_rmse(ar_1))\n",
    "print(find_rmse(ar_2))\n",
    "print(find_rmse(ma_1))\n",
    "print(find_rmse(ma_2))\n",
    "print(find_rmse(arma_21))"
   ]
  },
  {
   "cell_type": "code",
   "execution_count": 57,
   "metadata": {
    "ExecuteTime": {
     "end_time": "2022-01-04T22:52:13.568009Z",
     "start_time": "2022-01-04T22:52:11.063798Z"
    }
   },
   "outputs": [
    {
     "name": "stdout",
     "output_type": "stream",
     "text": [
      "0.5321760077279156\n",
      "0.8354822118335619\n",
      "1.1146307217588298\n",
      "1.20541864328336\n",
      "0.6140317957509386\n"
     ]
    }
   ],
   "source": [
    "for train_ind, val_ind in split.split(train_with_ind):\n",
    "    ar = ARIMA(endog=train_with_ind.iloc[train_ind, -1], order=(2, 1, 2)).fit()\n",
    "    preds = ar.predict(typ='levels', start=val_ind[0], end=val_ind[-1])\n",
    "    true = train_with_ind.iloc[val_ind, -1]\n",
    "    print(np.sqrt(mean_squared_error(true, preds)))"
   ]
  },
  {
   "cell_type": "code",
   "execution_count": 58,
   "metadata": {
    "ExecuteTime": {
     "end_time": "2022-01-04T22:52:13.698171Z",
     "start_time": "2022-01-04T22:52:13.646363Z"
    }
   },
   "outputs": [],
   "source": [
    "def find_rmse_test(model, test_data=test):\n",
    "    y_hat = model.predict(start=test_data.index[0], end=test_data.index[-1], typ='levels')\n",
    "    return np.sqrt(mean_squared_error(test_data, y_hat))"
   ]
  },
  {
   "cell_type": "code",
   "execution_count": 59,
   "metadata": {
    "ExecuteTime": {
     "end_time": "2022-01-04T22:52:13.959828Z",
     "start_time": "2022-01-04T22:52:13.702468Z"
    }
   },
   "outputs": [
    {
     "name": "stdout",
     "output_type": "stream",
     "text": [
      "0.9219126400281992\n",
      "0.7350765887542905\n",
      "0.8325967027856117\n",
      "0.745182471027358\n",
      "1.0618312696079923\n",
      "0.4005358859422995\n"
     ]
    }
   ],
   "source": [
    "print(find_rmse_test(random_walk_model))\n",
    "print(find_rmse_test(ar_1))\n",
    "print(find_rmse_test(ar_2))\n",
    "print(find_rmse_test(ma_1))\n",
    "print(find_rmse_test(ma_2))\n",
    "print(find_rmse_test(arma_21))"
   ]
  },
  {
   "cell_type": "code",
   "execution_count": null,
   "metadata": {},
   "outputs": [],
   "source": []
  }
 ],
 "metadata": {
  "kernelspec": {
   "display_name": "Python (learn-env)",
   "language": "python",
   "name": "learn-env"
  },
  "language_info": {
   "codemirror_mode": {
    "name": "ipython",
    "version": 3
   },
   "file_extension": ".py",
   "mimetype": "text/x-python",
   "name": "python",
   "nbconvert_exporter": "python",
   "pygments_lexer": "ipython3",
   "version": "3.8.5"
  }
 },
 "nbformat": 4,
 "nbformat_minor": 4
}
