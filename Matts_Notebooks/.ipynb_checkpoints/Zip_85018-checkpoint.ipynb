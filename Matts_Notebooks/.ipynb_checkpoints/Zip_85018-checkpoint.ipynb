{
 "cells": [
  {
   "cell_type": "code",
   "execution_count": 2,
   "metadata": {
    "ExecuteTime": {
     "end_time": "2022-01-05T16:19:20.269177Z",
     "start_time": "2022-01-05T16:19:20.232506Z"
    }
   },
   "outputs": [],
   "source": [
    "#Import relevant packages\n",
    "import pandas as pd\n",
    "import numpy as np\n",
    "import matplotlib.pyplot as plt\n",
    "import seaborn as sns\n",
    "from statsmodels.tsa.stattools import adfuller\n",
    "from statsmodels.graphics.tsaplots import plot_pacf,plot_acf\n",
    "from statsmodels.tsa.arima_model import ARMA\n",
    "from sklearn.model_selection import TimeSeriesSplit\n",
    "from sklearn.metrics import mean_squared_error\n",
    "from statsmodels.tsa.arima.model import ARIMA\n",
    "from statsmodels.tsa.statespace.sarimax import SARIMAX\n",
    "import itertools\n",
    "import warnings\n",
    "warnings.filterwarnings('ignore')"
   ]
  },
  {
   "cell_type": "code",
   "execution_count": 3,
   "metadata": {
    "ExecuteTime": {
     "end_time": "2022-01-05T16:19:20.299663Z",
     "start_time": "2022-01-05T16:19:20.275257Z"
    }
   },
   "outputs": [],
   "source": [
    "#Import functions notebook and load data set here\n",
    "import sys\n",
    "sys.path.append(\"../\")\n",
    "from time_series_functions import *"
   ]
  },
  {
   "cell_type": "code",
   "execution_count": 4,
   "metadata": {
    "ExecuteTime": {
     "end_time": "2022-01-05T16:19:22.324279Z",
     "start_time": "2022-01-05T16:19:20.304156Z"
    }
   },
   "outputs": [],
   "source": [
    "df=pd.read_csv('../zillow_data.csv')"
   ]
  },
  {
   "cell_type": "code",
   "execution_count": 5,
   "metadata": {
    "ExecuteTime": {
     "end_time": "2022-01-05T16:19:27.983622Z",
     "start_time": "2022-01-05T16:19:22.342682Z"
    }
   },
   "outputs": [],
   "source": [
    "df=melt_data2(df)"
   ]
  },
  {
   "cell_type": "code",
   "execution_count": 6,
   "metadata": {
    "ExecuteTime": {
     "end_time": "2022-01-05T16:19:28.074337Z",
     "start_time": "2022-01-05T16:19:27.987491Z"
    }
   },
   "outputs": [],
   "source": [
    "df.set_index('time',inplace=True)"
   ]
  },
  {
   "cell_type": "code",
   "execution_count": 7,
   "metadata": {
    "ExecuteTime": {
     "end_time": "2022-01-05T16:19:28.414929Z",
     "start_time": "2022-01-05T16:19:28.107534Z"
    }
   },
   "outputs": [],
   "source": [
    "# Rename RegionName to be Zipcode\n",
    "df=df.rename({'RegionName':'Zipcode'},axis='columns')"
   ]
  },
  {
   "cell_type": "code",
   "execution_count": 8,
   "metadata": {
    "ExecuteTime": {
     "end_time": "2022-01-05T16:19:28.644052Z",
     "start_time": "2022-01-05T16:19:28.444340Z"
    }
   },
   "outputs": [],
   "source": [
    "#drop no longer relevant columns\n",
    "df.drop(['RegionID','SizeRank','City','CountyName'],axis=1,inplace=True)"
   ]
  },
  {
   "cell_type": "code",
   "execution_count": 9,
   "metadata": {
    "ExecuteTime": {
     "end_time": "2022-01-05T16:19:29.026389Z",
     "start_time": "2022-01-05T16:19:28.649179Z"
    }
   },
   "outputs": [],
   "source": [
    "Arizona_df= df[(df['State'] == 'AZ')]"
   ]
  },
  {
   "cell_type": "code",
   "execution_count": 10,
   "metadata": {
    "ExecuteTime": {
     "end_time": "2022-01-05T16:19:29.090331Z",
     "start_time": "2022-01-05T16:19:29.032218Z"
    }
   },
   "outputs": [
    {
     "data": {
      "text/html": [
       "<div>\n",
       "<style scoped>\n",
       "    .dataframe tbody tr th:only-of-type {\n",
       "        vertical-align: middle;\n",
       "    }\n",
       "\n",
       "    .dataframe tbody tr th {\n",
       "        vertical-align: top;\n",
       "    }\n",
       "\n",
       "    .dataframe thead th {\n",
       "        text-align: right;\n",
       "    }\n",
       "</style>\n",
       "<table border=\"1\" class=\"dataframe\">\n",
       "  <thead>\n",
       "    <tr style=\"text-align: right;\">\n",
       "      <th></th>\n",
       "      <th>Zipcode</th>\n",
       "      <th>State</th>\n",
       "      <th>Metro</th>\n",
       "      <th>value</th>\n",
       "    </tr>\n",
       "    <tr>\n",
       "      <th>time</th>\n",
       "      <th></th>\n",
       "      <th></th>\n",
       "      <th></th>\n",
       "      <th></th>\n",
       "    </tr>\n",
       "  </thead>\n",
       "  <tbody>\n",
       "    <tr>\n",
       "      <th>1996-04-01</th>\n",
       "      <td>85032</td>\n",
       "      <td>AZ</td>\n",
       "      <td>Phoenix</td>\n",
       "      <td>95400.0</td>\n",
       "    </tr>\n",
       "    <tr>\n",
       "      <th>1996-04-01</th>\n",
       "      <td>85710</td>\n",
       "      <td>AZ</td>\n",
       "      <td>Tucson</td>\n",
       "      <td>94600.0</td>\n",
       "    </tr>\n",
       "    <tr>\n",
       "      <th>1996-04-01</th>\n",
       "      <td>85225</td>\n",
       "      <td>AZ</td>\n",
       "      <td>Phoenix</td>\n",
       "      <td>101200.0</td>\n",
       "    </tr>\n",
       "    <tr>\n",
       "      <th>1996-04-01</th>\n",
       "      <td>85308</td>\n",
       "      <td>AZ</td>\n",
       "      <td>Phoenix</td>\n",
       "      <td>124800.0</td>\n",
       "    </tr>\n",
       "    <tr>\n",
       "      <th>1996-04-01</th>\n",
       "      <td>85281</td>\n",
       "      <td>AZ</td>\n",
       "      <td>Phoenix</td>\n",
       "      <td>81200.0</td>\n",
       "    </tr>\n",
       "    <tr>\n",
       "      <th>...</th>\n",
       "      <td>...</td>\n",
       "      <td>...</td>\n",
       "      <td>...</td>\n",
       "      <td>...</td>\n",
       "    </tr>\n",
       "    <tr>\n",
       "      <th>2018-04-01</th>\n",
       "      <td>86332</td>\n",
       "      <td>AZ</td>\n",
       "      <td>Prescott</td>\n",
       "      <td>172500.0</td>\n",
       "    </tr>\n",
       "    <tr>\n",
       "      <th>2018-04-01</th>\n",
       "      <td>85645</td>\n",
       "      <td>AZ</td>\n",
       "      <td>Tucson</td>\n",
       "      <td>152300.0</td>\n",
       "    </tr>\n",
       "    <tr>\n",
       "      <th>2018-04-01</th>\n",
       "      <td>85928</td>\n",
       "      <td>AZ</td>\n",
       "      <td>Show Low</td>\n",
       "      <td>225100.0</td>\n",
       "    </tr>\n",
       "    <tr>\n",
       "      <th>2018-04-01</th>\n",
       "      <td>85637</td>\n",
       "      <td>AZ</td>\n",
       "      <td>Nogales</td>\n",
       "      <td>320000.0</td>\n",
       "    </tr>\n",
       "    <tr>\n",
       "      <th>2018-04-01</th>\n",
       "      <td>85611</td>\n",
       "      <td>AZ</td>\n",
       "      <td>Nogales</td>\n",
       "      <td>269000.0</td>\n",
       "    </tr>\n",
       "  </tbody>\n",
       "</table>\n",
       "<p>58775 rows × 4 columns</p>\n",
       "</div>"
      ],
      "text/plain": [
       "            Zipcode State     Metro     value\n",
       "time                                         \n",
       "1996-04-01    85032    AZ   Phoenix   95400.0\n",
       "1996-04-01    85710    AZ    Tucson   94600.0\n",
       "1996-04-01    85225    AZ   Phoenix  101200.0\n",
       "1996-04-01    85308    AZ   Phoenix  124800.0\n",
       "1996-04-01    85281    AZ   Phoenix   81200.0\n",
       "...             ...   ...       ...       ...\n",
       "2018-04-01    86332    AZ  Prescott  172500.0\n",
       "2018-04-01    85645    AZ    Tucson  152300.0\n",
       "2018-04-01    85928    AZ  Show Low  225100.0\n",
       "2018-04-01    85637    AZ   Nogales  320000.0\n",
       "2018-04-01    85611    AZ   Nogales  269000.0\n",
       "\n",
       "[58775 rows x 4 columns]"
      ]
     },
     "execution_count": 10,
     "metadata": {},
     "output_type": "execute_result"
    }
   ],
   "source": [
    "Arizona_df"
   ]
  },
  {
   "cell_type": "code",
   "execution_count": 11,
   "metadata": {
    "ExecuteTime": {
     "end_time": "2022-01-05T16:19:29.152072Z",
     "start_time": "2022-01-05T16:19:29.105606Z"
    }
   },
   "outputs": [],
   "source": [
    "Arizona_recent_yrs=Arizona_df['2009-01-01':'2018-04-01']"
   ]
  },
  {
   "cell_type": "code",
   "execution_count": 12,
   "metadata": {
    "ExecuteTime": {
     "end_time": "2022-01-05T16:19:29.192794Z",
     "start_time": "2022-01-05T16:19:29.156855Z"
    }
   },
   "outputs": [
    {
     "data": {
      "text/html": [
       "<div>\n",
       "<style scoped>\n",
       "    .dataframe tbody tr th:only-of-type {\n",
       "        vertical-align: middle;\n",
       "    }\n",
       "\n",
       "    .dataframe tbody tr th {\n",
       "        vertical-align: top;\n",
       "    }\n",
       "\n",
       "    .dataframe thead th {\n",
       "        text-align: right;\n",
       "    }\n",
       "</style>\n",
       "<table border=\"1\" class=\"dataframe\">\n",
       "  <thead>\n",
       "    <tr style=\"text-align: right;\">\n",
       "      <th></th>\n",
       "      <th>Zipcode</th>\n",
       "      <th>State</th>\n",
       "      <th>Metro</th>\n",
       "      <th>value</th>\n",
       "    </tr>\n",
       "    <tr>\n",
       "      <th>time</th>\n",
       "      <th></th>\n",
       "      <th></th>\n",
       "      <th></th>\n",
       "      <th></th>\n",
       "    </tr>\n",
       "  </thead>\n",
       "  <tbody>\n",
       "    <tr>\n",
       "      <th>2009-01-01</th>\n",
       "      <td>85032</td>\n",
       "      <td>AZ</td>\n",
       "      <td>Phoenix</td>\n",
       "      <td>190200.0</td>\n",
       "    </tr>\n",
       "    <tr>\n",
       "      <th>2009-01-01</th>\n",
       "      <td>85710</td>\n",
       "      <td>AZ</td>\n",
       "      <td>Tucson</td>\n",
       "      <td>171100.0</td>\n",
       "    </tr>\n",
       "    <tr>\n",
       "      <th>2009-01-01</th>\n",
       "      <td>85225</td>\n",
       "      <td>AZ</td>\n",
       "      <td>Phoenix</td>\n",
       "      <td>179900.0</td>\n",
       "    </tr>\n",
       "    <tr>\n",
       "      <th>2009-01-01</th>\n",
       "      <td>85308</td>\n",
       "      <td>AZ</td>\n",
       "      <td>Phoenix</td>\n",
       "      <td>212000.0</td>\n",
       "    </tr>\n",
       "    <tr>\n",
       "      <th>2009-01-01</th>\n",
       "      <td>85281</td>\n",
       "      <td>AZ</td>\n",
       "      <td>Phoenix</td>\n",
       "      <td>181300.0</td>\n",
       "    </tr>\n",
       "    <tr>\n",
       "      <th>...</th>\n",
       "      <td>...</td>\n",
       "      <td>...</td>\n",
       "      <td>...</td>\n",
       "      <td>...</td>\n",
       "    </tr>\n",
       "    <tr>\n",
       "      <th>2018-04-01</th>\n",
       "      <td>86332</td>\n",
       "      <td>AZ</td>\n",
       "      <td>Prescott</td>\n",
       "      <td>172500.0</td>\n",
       "    </tr>\n",
       "    <tr>\n",
       "      <th>2018-04-01</th>\n",
       "      <td>85645</td>\n",
       "      <td>AZ</td>\n",
       "      <td>Tucson</td>\n",
       "      <td>152300.0</td>\n",
       "    </tr>\n",
       "    <tr>\n",
       "      <th>2018-04-01</th>\n",
       "      <td>85928</td>\n",
       "      <td>AZ</td>\n",
       "      <td>Show Low</td>\n",
       "      <td>225100.0</td>\n",
       "    </tr>\n",
       "    <tr>\n",
       "      <th>2018-04-01</th>\n",
       "      <td>85637</td>\n",
       "      <td>AZ</td>\n",
       "      <td>Nogales</td>\n",
       "      <td>320000.0</td>\n",
       "    </tr>\n",
       "    <tr>\n",
       "      <th>2018-04-01</th>\n",
       "      <td>85611</td>\n",
       "      <td>AZ</td>\n",
       "      <td>Nogales</td>\n",
       "      <td>269000.0</td>\n",
       "    </tr>\n",
       "  </tbody>\n",
       "</table>\n",
       "<p>25520 rows × 4 columns</p>\n",
       "</div>"
      ],
      "text/plain": [
       "            Zipcode State     Metro     value\n",
       "time                                         \n",
       "2009-01-01    85032    AZ   Phoenix  190200.0\n",
       "2009-01-01    85710    AZ    Tucson  171100.0\n",
       "2009-01-01    85225    AZ   Phoenix  179900.0\n",
       "2009-01-01    85308    AZ   Phoenix  212000.0\n",
       "2009-01-01    85281    AZ   Phoenix  181300.0\n",
       "...             ...   ...       ...       ...\n",
       "2018-04-01    86332    AZ  Prescott  172500.0\n",
       "2018-04-01    85645    AZ    Tucson  152300.0\n",
       "2018-04-01    85928    AZ  Show Low  225100.0\n",
       "2018-04-01    85637    AZ   Nogales  320000.0\n",
       "2018-04-01    85611    AZ   Nogales  269000.0\n",
       "\n",
       "[25520 rows x 4 columns]"
      ]
     },
     "execution_count": 12,
     "metadata": {},
     "output_type": "execute_result"
    }
   ],
   "source": [
    "Arizona_recent_yrs"
   ]
  },
  {
   "cell_type": "code",
   "execution_count": 13,
   "metadata": {
    "ExecuteTime": {
     "end_time": "2022-01-05T16:19:29.231354Z",
     "start_time": "2022-01-05T16:19:29.208997Z"
    }
   },
   "outputs": [],
   "source": [
    "Phoenix_data = Arizona_recent_yrs[(Arizona_recent_yrs['Metro'] == 'Phoenix')]"
   ]
  },
  {
   "cell_type": "code",
   "execution_count": 14,
   "metadata": {
    "ExecuteTime": {
     "end_time": "2022-01-05T16:19:29.251633Z",
     "start_time": "2022-01-05T16:19:29.234416Z"
    }
   },
   "outputs": [],
   "source": [
    "Phoenix_data\n",
    "Phoenix_data=Phoenix_data.drop(['State','Metro'],axis=1)"
   ]
  },
  {
   "cell_type": "code",
   "execution_count": 15,
   "metadata": {
    "ExecuteTime": {
     "end_time": "2022-01-05T16:19:29.293776Z",
     "start_time": "2022-01-05T16:19:29.272863Z"
    }
   },
   "outputs": [],
   "source": [
    "top_10_zips_phx=Phoenix_data[(Phoenix_data['Zipcode'] == 85253)|(Phoenix_data['Zipcode'] == 85262)|\n",
    "(Phoenix_data['Zipcode'] == 85377)| (Phoenix_data['Zipcode'] == 85255)|(Phoenix_data['Zipcode'] == 85266)|\n",
    "                             (Phoenix_data['Zipcode'] == 85259)|(Phoenix_data['Zipcode'] == 85258)|\n",
    "                             (Phoenix_data['Zipcode'] == 85018)|(Phoenix_data['Zipcode'] == 85263)|\n",
    "                             (Phoenix_data['Zipcode'] == 85054)]"
   ]
  },
  {
   "cell_type": "code",
   "execution_count": 16,
   "metadata": {
    "ExecuteTime": {
     "end_time": "2022-01-05T16:19:29.333912Z",
     "start_time": "2022-01-05T16:19:29.307198Z"
    }
   },
   "outputs": [],
   "source": [
    "def get_zip(zipcode):\n",
    "    top_10_zips_phx=Phoenix_data[(Phoenix_data['Zipcode'] == 85253)|(Phoenix_data['Zipcode'] == 85262)|\n",
    "    (Phoenix_data['Zipcode'] == 85377)| (Phoenix_data['Zipcode'] == 85255)|(Phoenix_data['Zipcode'] == 85266)|\n",
    "                             (Phoenix_data['Zipcode'] == 85259)|(Phoenix_data['Zipcode'] == 85258)|\n",
    "                            (Phoenix_data['Zipcode'] == 85018)|(Phoenix_data['Zipcode'] == 85263)|\n",
    "                             (Phoenix_data['Zipcode'] == 85054)]\n",
    "    zip_zipcode=top_10_zips_phx[top_10_zips_phx['Zipcode']==zipcode]\n",
    "    #zip_zipcode.drop(['index'],axis=1,inplace=True)\n",
    "    zip_zipcode.reset_index(inplace=True)\n",
    "    \n",
    "    # shift by one period (month)\n",
    "    resampled_shift_1 = zip_zipcode[['value']].shift(1)\n",
    "    resampled_shift_1.bfill(inplace=True)\n",
    "\n",
    "#reset the indexes to perform calculation of growth\n",
    "    top_10_zips_phx = zip_zipcode.reset_index()\n",
    "    resampled_shift_1 = resampled_shift_1.reset_index()\n",
    "\n",
    "#Growth Calculation\n",
    "    zip_zipcode['growth'] = (zip_zipcode['value'] - resampled_shift_1['value'])/(resampled_shift_1['value'])\n",
    "    zip_zipcode['growth']= abs(zip_zipcode['growth'])\n",
    "#set the index back to zipcode and time multi-index\n",
    "    zip_zipcode.set_index(['time'],inplace=True)\n",
    "    \n",
    "    zip_zipcode.drop('Zipcode',axis=1,inplace=True)\n",
    "    data= top_10_zips_phx\n",
    "    print(f'The stationarity check for zipcode {zipcode} before adjustments:{stationarity_check(zip_zipcode.growth)}')\n",
    "    \n",
    "    #Original Plot\n",
    "    fig, ax = plt.subplots()\n",
    "    ax.plot(zip_zipcode.growth)\n",
    "    ax.set_title(f\"Original Zipcode Plot for {zipcode}\");\n",
    "    \n",
    "    #log values and dropna\n",
    "    log_zipcode= abs(np.log(zip_zipcode.growth))\n",
    "    log_zipcode.dropna(inplace=True)\n",
    "    \n",
    "    # get roll mean and subtract\n",
    "    roll_mean = log_zipcode.rolling(window=7,center=False).mean()\n",
    "    data_minus_roll_mean = log_zipcode-roll_mean\n",
    "    \n",
    "    #Drop missing values\n",
    "    data_minus_roll_mean.dropna(inplace=True)\n",
    "    return data_minus_roll_mean\n",
    "    #Plot the data minus roll mean\n",
    "    #data_minus_roll_mean.plot(figsize=(10,6));\n",
    "    fig, ax = plt.subplots()\n",
    "    ax.plot(data_minus_roll_mean)\n",
    "    ax.set_title(f\"Final Zipcode Plot for {zipcode}\");\n",
    "\n",
    "    print(f'The stationarity check for zipcode {zipcode}, after adjustments:{stationarity_check(data_minus_roll_mean)}')\n",
    "    "
   ]
  },
  {
   "cell_type": "code",
   "execution_count": 17,
   "metadata": {
    "ExecuteTime": {
     "end_time": "2022-01-05T16:19:30.217903Z",
     "start_time": "2022-01-05T16:19:29.337097Z"
    },
    "scrolled": true
   },
   "outputs": [
    {
     "name": "stdout",
     "output_type": "stream",
     "text": [
      "\n",
      "Results of Dickey-Fuller Test: \n",
      "\n",
      "Test Statistic                  -3.489792\n",
      "p-value                          0.008253\n",
      "#Lags Used                       3.000000\n",
      "Number of Observations Used    108.000000\n",
      "Critical Value (1%)             -3.492401\n",
      "Critical Value (5%)             -2.888697\n",
      "Critical Value (10%)            -2.581255\n",
      "dtype: float64\n",
      "The stationarity check for zipcode 85018 before adjustments:None\n"
     ]
    },
    {
     "data": {
      "image/png": "[encoded data removed]",
      "text/plain": [
       "<Figure size 432x288 with 1 Axes>"
      ]
     },
     "metadata": {
      "needs_background": "light"
     },
     "output_type": "display_data"
    }
   ],
   "source": [
    "minus_roll_mean_85018=get_zip(85018)"
   ]
  },
  {
   "cell_type": "code",
   "execution_count": 18,
   "metadata": {
    "ExecuteTime": {
     "end_time": "2022-01-05T16:19:30.247365Z",
     "start_time": "2022-01-05T16:19:30.225176Z"
    }
   },
   "outputs": [
    {
     "name": "stdout",
     "output_type": "stream",
     "text": [
      "time\n",
      "2009-08-01    0.065968\n",
      "2009-09-01    0.051474\n",
      "2009-10-01    0.045407\n",
      "2009-11-01    0.297312\n",
      "2009-12-01   -0.124711\n",
      "                ...   \n",
      "2017-12-01   -0.464507\n",
      "2018-01-01   -0.327819\n",
      "2018-02-01    0.051675\n",
      "2018-03-01    0.010183\n",
      "2018-04-01    0.062124\n",
      "Name: growth, Length: 105, dtype: float64\n"
     ]
    }
   ],
   "source": [
    "print(minus_roll_mean_85018)"
   ]
  },
  {
   "cell_type": "code",
   "execution_count": 19,
   "metadata": {
    "ExecuteTime": {
     "end_time": "2022-01-05T16:19:30.272307Z",
     "start_time": "2022-01-05T16:19:30.251734Z"
    }
   },
   "outputs": [
    {
     "data": {
      "text/plain": [
       "84"
      ]
     },
     "execution_count": 19,
     "metadata": {},
     "output_type": "execute_result"
    }
   ],
   "source": [
    "# find the index which allows us to split off 20% of the data\n",
    "cutoff = round(minus_roll_mean_85018.shape[0]*0.8)\n",
    "cutoff"
   ]
  },
  {
   "cell_type": "code",
   "execution_count": 20,
   "metadata": {
    "ExecuteTime": {
     "end_time": "2022-01-05T16:19:30.292668Z",
     "start_time": "2022-01-05T16:19:30.276041Z"
    }
   },
   "outputs": [],
   "source": [
    "# Define train and test sets according to the index found above\n",
    "train = minus_roll_mean_85018[:cutoff]\n",
    "\n",
    "test = minus_roll_mean_85018[cutoff:]"
   ]
  },
  {
   "cell_type": "code",
   "execution_count": 21,
   "metadata": {
    "ExecuteTime": {
     "end_time": "2022-01-05T16:19:30.762820Z",
     "start_time": "2022-01-05T16:19:30.308081Z"
    }
   },
   "outputs": [
    {
     "data": {
      "image/png": "[encoded data removed]",
      "text/plain": [
       "<Figure size 864x576 with 1 Axes>"
      ]
     },
     "metadata": {
      "needs_background": "light"
     },
     "output_type": "display_data"
    }
   ],
   "source": [
    "fig, ax = plt.subplots(figsize=(12, 8))\n",
    "ax.plot(train, label='train')\n",
    "ax.plot(test, label='test')\n",
    "ax.set_title('Train-Test Split');\n",
    "plt.legend();"
   ]
  },
  {
   "cell_type": "code",
   "execution_count": 22,
   "metadata": {
    "ExecuteTime": {
     "end_time": "2022-01-05T16:19:30.787795Z",
     "start_time": "2022-01-05T16:19:30.776278Z"
    }
   },
   "outputs": [
    {
     "name": "stdout",
     "output_type": "stream",
     "text": [
      "[ 0  1  2  3  4  5  6  7  8  9 10 11 12 13] [14 15 16 17 18 19 20 21 22 23 24 25 26 27]\n",
      "[ 0  1  2  3  4  5  6  7  8  9 10 11 12 13 14 15 16 17 18 19 20 21 22 23\n",
      " 24 25 26 27] [28 29 30 31 32 33 34 35 36 37 38 39 40 41]\n",
      "[ 0  1  2  3  4  5  6  7  8  9 10 11 12 13 14 15 16 17 18 19 20 21 22 23\n",
      " 24 25 26 27 28 29 30 31 32 33 34 35 36 37 38 39 40 41] [42 43 44 45 46 47 48 49 50 51 52 53 54 55]\n",
      "[ 0  1  2  3  4  5  6  7  8  9 10 11 12 13 14 15 16 17 18 19 20 21 22 23\n",
      " 24 25 26 27 28 29 30 31 32 33 34 35 36 37 38 39 40 41 42 43 44 45 46 47\n",
      " 48 49 50 51 52 53 54 55] [56 57 58 59 60 61 62 63 64 65 66 67 68 69]\n",
      "[ 0  1  2  3  4  5  6  7  8  9 10 11 12 13 14 15 16 17 18 19 20 21 22 23\n",
      " 24 25 26 27 28 29 30 31 32 33 34 35 36 37 38 39 40 41 42 43 44 45 46 47\n",
      " 48 49 50 51 52 53 54 55 56 57 58 59 60 61 62 63 64 65 66 67 68 69] [70 71 72 73 74 75 76 77 78 79 80 81 82 83]\n"
     ]
    }
   ],
   "source": [
    "split = TimeSeriesSplit()\n",
    "\n",
    "for train_ind, val_ind in split.split(train):\n",
    "    print(train_ind, val_ind)"
   ]
  },
  {
   "cell_type": "code",
   "execution_count": 23,
   "metadata": {
    "ExecuteTime": {
     "end_time": "2022-01-05T16:19:30.816173Z",
     "start_time": "2022-01-05T16:19:30.807421Z"
    }
   },
   "outputs": [
    {
     "data": {
      "text/plain": [
       "time\n",
       "2009-08-01         NaN\n",
       "2009-09-01    0.065968\n",
       "2009-10-01    0.051474\n",
       "2009-11-01    0.045407\n",
       "2009-12-01    0.297312\n",
       "                ...   \n",
       "2016-03-01    0.152816\n",
       "2016-04-01    0.621698\n",
       "2016-05-01    0.328838\n",
       "2016-06-01   -0.252446\n",
       "2016-07-01   -0.303275\n",
       "Name: growth, Length: 84, dtype: float64"
      ]
     },
     "execution_count": 23,
     "metadata": {},
     "output_type": "execute_result"
    }
   ],
   "source": [
    "# we can perform this with the shift operator\n",
    "# The prediction for the next day is the original series shifted to the future by one day.\n",
    "baseline = train.shift(1)\n",
    "baseline"
   ]
  },
  {
   "cell_type": "code",
   "execution_count": 24,
   "metadata": {
    "ExecuteTime": {
     "end_time": "2022-01-05T16:19:31.380373Z",
     "start_time": "2022-01-05T16:19:30.845993Z"
    }
   },
   "outputs": [
    {
     "data": {
      "image/png": "[encoded data removed]",
      "text/plain": [
       "<Figure size 432x288 with 1 Axes>"
      ]
     },
     "metadata": {
      "needs_background": "light"
     },
     "output_type": "display_data"
    }
   ],
   "source": [
    "fig, ax = plt.subplots()\n",
    "\n",
    "train[0:30].plot(ax=ax, c='r', label='original')\n",
    "baseline[0:30].plot(ax=ax, c='b', label='shifted')\n",
    "ax.set_title('baseline')\n",
    "ax.legend();"
   ]
  },
  {
   "cell_type": "code",
   "execution_count": 25,
   "metadata": {
    "ExecuteTime": {
     "end_time": "2022-01-05T16:19:31.409672Z",
     "start_time": "2022-01-05T16:19:31.401215Z"
    }
   },
   "outputs": [
    {
     "data": {
      "text/plain": [
       "0.6645821929403614"
      ]
     },
     "execution_count": 25,
     "metadata": {},
     "output_type": "execute_result"
    }
   ],
   "source": [
    "np.sqrt(mean_squared_error(train[1:], baseline.dropna()))"
   ]
  },
  {
   "cell_type": "code",
   "execution_count": 26,
   "metadata": {
    "ExecuteTime": {
     "end_time": "2022-01-05T16:19:31.918563Z",
     "start_time": "2022-01-05T16:19:31.429841Z"
    }
   },
   "outputs": [
    {
     "data": {
      "image/png": "[encoded data removed]",
      "text/plain": [
       "<Figure size 432x288 with 1 Axes>"
      ]
     },
     "metadata": {
      "needs_background": "light"
     },
     "output_type": "display_data"
    }
   ],
   "source": [
    "fig, ax = plt.subplots()\n",
    "residuals = baseline[1:] - train[1:]\n",
    "ax.plot(residuals.index, residuals)\n",
    "ax.plot(residuals.index, residuals.rolling(30).std());"
   ]
  },
  {
   "cell_type": "code",
   "execution_count": 27,
   "metadata": {
    "ExecuteTime": {
     "end_time": "2022-01-05T16:19:33.260958Z",
     "start_time": "2022-01-05T16:19:31.975110Z"
    }
   },
   "outputs": [
    {
     "data": {
      "image/png": "[encoded data removed]",
      "text/plain": [
       "<Figure size 432x288 with 1 Axes>"
      ]
     },
     "metadata": {
      "needs_background": "light"
     },
     "output_type": "display_data"
    }
   ],
   "source": [
    "fig, ax = plt.subplots()\n",
    "\n",
    "ax.plot(residuals.index, residuals.rolling(30).var());"
   ]
  },
  {
   "cell_type": "code",
   "execution_count": 28,
   "metadata": {
    "ExecuteTime": {
     "end_time": "2022-01-05T16:19:33.953623Z",
     "start_time": "2022-01-05T16:19:33.275103Z"
    }
   },
   "outputs": [
    {
     "data": {
      "image/png": "[encoded data removed]",
      "text/plain": [
       "<Figure size 432x288 with 1 Axes>"
      ]
     },
     "metadata": {
      "needs_background": "light"
     },
     "output_type": "display_data"
    }
   ],
   "source": [
    "fig, ax = plt.subplots()\n",
    "ax.plot(train.diff())\n",
    "ax.set_title('Monthly differenced data');"
   ]
  },
  {
   "cell_type": "code",
   "execution_count": 29,
   "metadata": {
    "ExecuteTime": {
     "end_time": "2022-01-05T16:19:34.171949Z",
     "start_time": "2022-01-05T16:19:34.044797Z"
    }
   },
   "outputs": [
    {
     "name": "stdout",
     "output_type": "stream",
     "text": [
      "The p-value associated with the Dickey-Fuller statistical test is 3.272837064562423e-06,\n",
      " so we can safely assume that the differenced data is stationary.\n"
     ]
    }
   ],
   "source": [
    "p_val = adfuller(train.diff()[1:])[1]\n",
    "print(f\"The p-value associated with the Dickey-Fuller statistical test is {p_val},\")\n",
    "if p_val < 0.05:\n",
    "    print(\" so we can safely assume that the differenced data is stationary.\")\n",
    "else:\n",
    "    print(\" so we cannot reject the null hypothesis that the differenced data is \\\n",
    "not stationary.\")"
   ]
  },
  {
   "cell_type": "code",
   "execution_count": 30,
   "metadata": {
    "ExecuteTime": {
     "end_time": "2022-01-05T16:19:34.344899Z",
     "start_time": "2022-01-05T16:19:34.184564Z"
    }
   },
   "outputs": [
    {
     "data": {
      "text/plain": [
       "2009-08-01    0.000000\n",
       "2009-09-01    0.065968\n",
       "2009-10-01    0.053444\n",
       "2009-11-01    0.046232\n",
       "2009-12-01    0.263069\n",
       "                ...   \n",
       "2016-03-01    0.191960\n",
       "2016-04-01    0.557959\n",
       "2016-05-01    0.368649\n",
       "2016-06-01   -0.173427\n",
       "2016-07-01   -0.296366\n",
       "Freq: MS, Name: predicted_mean, Length: 84, dtype: float64"
      ]
     },
     "execution_count": 30,
     "metadata": {},
     "output_type": "execute_result"
    }
   ],
   "source": [
    "ar_1 = ARIMA(train, order=(1, 1, 0)).fit()\n",
    "\n",
    "# We put a typ='levels' to convert our predictions to remove the differencing performed.\n",
    "ar_1.predict(typ='levels')"
   ]
  },
  {
   "cell_type": "code",
   "execution_count": 31,
   "metadata": {
    "ExecuteTime": {
     "end_time": "2022-01-05T16:19:34.513698Z",
     "start_time": "2022-01-05T16:19:34.351317Z"
    }
   },
   "outputs": [
    {
     "data": {
      "text/html": [
       "<table class=\"simpletable\">\n",
       "<caption>SARIMAX Results</caption>\n",
       "<tr>\n",
       "  <th>Dep. Variable:</th>        <td>growth</td>      <th>  No. Observations:  </th>   <td>84</td>   \n",
       "</tr>\n",
       "<tr>\n",
       "  <th>Model:</th>            <td>ARIMA(1, 1, 0)</td>  <th>  Log Likelihood     </th> <td>-83.075</td>\n",
       "</tr>\n",
       "<tr>\n",
       "  <th>Date:</th>            <td>Wed, 05 Jan 2022</td> <th>  AIC                </th> <td>170.150</td>\n",
       "</tr>\n",
       "<tr>\n",
       "  <th>Time:</th>                <td>11:19:34</td>     <th>  BIC                </th> <td>174.988</td>\n",
       "</tr>\n",
       "<tr>\n",
       "  <th>Sample:</th>             <td>08-01-2009</td>    <th>  HQIC               </th> <td>172.094</td>\n",
       "</tr>\n",
       "<tr>\n",
       "  <th></th>                   <td>- 07-01-2016</td>   <th>                     </th>    <td> </td>   \n",
       "</tr>\n",
       "<tr>\n",
       "  <th>Covariance Type:</th>        <td>opg</td>       <th>                     </th>    <td> </td>   \n",
       "</tr>\n",
       "</table>\n",
       "<table class=\"simpletable\">\n",
       "<tr>\n",
       "     <td></td>       <th>coef</th>     <th>std err</th>      <th>z</th>      <th>P>|z|</th>  <th>[0.025</th>    <th>0.975]</th>  \n",
       "</tr>\n",
       "<tr>\n",
       "  <th>ar.L1</th>  <td>   -0.1359</td> <td>    0.062</td> <td>   -2.198</td> <td> 0.028</td> <td>   -0.257</td> <td>   -0.015</td>\n",
       "</tr>\n",
       "<tr>\n",
       "  <th>sigma2</th> <td>    0.4333</td> <td>    0.041</td> <td>   10.464</td> <td> 0.000</td> <td>    0.352</td> <td>    0.514</td>\n",
       "</tr>\n",
       "</table>\n",
       "<table class=\"simpletable\">\n",
       "<tr>\n",
       "  <th>Ljung-Box (L1) (Q):</th>     <td>0.24</td> <th>  Jarque-Bera (JB):  </th> <td>75.35</td>\n",
       "</tr>\n",
       "<tr>\n",
       "  <th>Prob(Q):</th>                <td>0.62</td> <th>  Prob(JB):          </th> <td>0.00</td> \n",
       "</tr>\n",
       "<tr>\n",
       "  <th>Heteroskedasticity (H):</th> <td>0.33</td> <th>  Skew:              </th> <td>0.04</td> \n",
       "</tr>\n",
       "<tr>\n",
       "  <th>Prob(H) (two-sided):</th>    <td>0.00</td> <th>  Kurtosis:          </th> <td>7.67</td> \n",
       "</tr>\n",
       "</table><br/><br/>Warnings:<br/>[1] Covariance matrix calculated using the outer product of gradients (complex-step)."
      ],
      "text/plain": [
       "<class 'statsmodels.iolib.summary.Summary'>\n",
       "\"\"\"\n",
       "                               SARIMAX Results                                \n",
       "==============================================================================\n",
       "Dep. Variable:                 growth   No. Observations:                   84\n",
       "Model:                 ARIMA(1, 1, 0)   Log Likelihood                 -83.075\n",
       "Date:                Wed, 05 Jan 2022   AIC                            170.150\n",
       "Time:                        11:19:34   BIC                            174.988\n",
       "Sample:                    08-01-2009   HQIC                           172.094\n",
       "                         - 07-01-2016                                         \n",
       "Covariance Type:                  opg                                         \n",
       "==============================================================================\n",
       "                 coef    std err          z      P>|z|      [0.025      0.975]\n",
       "------------------------------------------------------------------------------\n",
       "ar.L1         -0.1359      0.062     -2.198      0.028      -0.257      -0.015\n",
       "sigma2         0.4333      0.041     10.464      0.000       0.352       0.514\n",
       "===================================================================================\n",
       "Ljung-Box (L1) (Q):                   0.24   Jarque-Bera (JB):                75.35\n",
       "Prob(Q):                              0.62   Prob(JB):                         0.00\n",
       "Heteroskedasticity (H):               0.33   Skew:                             0.04\n",
       "Prob(H) (two-sided):                  0.00   Kurtosis:                         7.67\n",
       "===================================================================================\n",
       "\n",
       "Warnings:\n",
       "[1] Covariance matrix calculated using the outer product of gradients (complex-step).\n",
       "\"\"\""
      ]
     },
     "execution_count": 31,
     "metadata": {},
     "output_type": "execute_result"
    }
   ],
   "source": [
    "ar_1.summary()"
   ]
  },
  {
   "cell_type": "code",
   "execution_count": 32,
   "metadata": {
    "ExecuteTime": {
     "end_time": "2022-01-05T16:19:34.665646Z",
     "start_time": "2022-01-05T16:19:34.519594Z"
    }
   },
   "outputs": [
    {
     "data": {
      "text/html": [
       "<table class=\"simpletable\">\n",
       "<caption>SARIMAX Results</caption>\n",
       "<tr>\n",
       "  <th>Dep. Variable:</th>        <td>growth</td>      <th>  No. Observations:  </th>   <td>84</td>   \n",
       "</tr>\n",
       "<tr>\n",
       "  <th>Model:</th>            <td>ARIMA(0, 1, 0)</td>  <th>  Log Likelihood     </th> <td>-83.858</td>\n",
       "</tr>\n",
       "<tr>\n",
       "  <th>Date:</th>            <td>Wed, 05 Jan 2022</td> <th>  AIC                </th> <td>169.717</td>\n",
       "</tr>\n",
       "<tr>\n",
       "  <th>Time:</th>                <td>11:19:34</td>     <th>  BIC                </th> <td>172.136</td>\n",
       "</tr>\n",
       "<tr>\n",
       "  <th>Sample:</th>             <td>08-01-2009</td>    <th>  HQIC               </th> <td>170.688</td>\n",
       "</tr>\n",
       "<tr>\n",
       "  <th></th>                   <td>- 07-01-2016</td>   <th>                     </th>    <td> </td>   \n",
       "</tr>\n",
       "<tr>\n",
       "  <th>Covariance Type:</th>        <td>opg</td>       <th>                     </th>    <td> </td>   \n",
       "</tr>\n",
       "</table>\n",
       "<table class=\"simpletable\">\n",
       "<tr>\n",
       "     <td></td>       <th>coef</th>     <th>std err</th>      <th>z</th>      <th>P>|z|</th>  <th>[0.025</th>    <th>0.975]</th>  \n",
       "</tr>\n",
       "<tr>\n",
       "  <th>sigma2</th> <td>    0.4417</td> <td>    0.034</td> <td>   12.930</td> <td> 0.000</td> <td>    0.375</td> <td>    0.509</td>\n",
       "</tr>\n",
       "</table>\n",
       "<table class=\"simpletable\">\n",
       "<tr>\n",
       "  <th>Ljung-Box (L1) (Q):</th>     <td>1.63</td> <th>  Jarque-Bera (JB):  </th> <td>128.28</td>\n",
       "</tr>\n",
       "<tr>\n",
       "  <th>Prob(Q):</th>                <td>0.20</td> <th>  Prob(JB):          </th>  <td>0.00</td> \n",
       "</tr>\n",
       "<tr>\n",
       "  <th>Heteroskedasticity (H):</th> <td>0.28</td> <th>  Skew:              </th>  <td>-0.35</td>\n",
       "</tr>\n",
       "<tr>\n",
       "  <th>Prob(H) (two-sided):</th>    <td>0.00</td> <th>  Kurtosis:          </th>  <td>9.05</td> \n",
       "</tr>\n",
       "</table><br/><br/>Warnings:<br/>[1] Covariance matrix calculated using the outer product of gradients (complex-step)."
      ],
      "text/plain": [
       "<class 'statsmodels.iolib.summary.Summary'>\n",
       "\"\"\"\n",
       "                               SARIMAX Results                                \n",
       "==============================================================================\n",
       "Dep. Variable:                 growth   No. Observations:                   84\n",
       "Model:                 ARIMA(0, 1, 0)   Log Likelihood                 -83.858\n",
       "Date:                Wed, 05 Jan 2022   AIC                            169.717\n",
       "Time:                        11:19:34   BIC                            172.136\n",
       "Sample:                    08-01-2009   HQIC                           170.688\n",
       "                         - 07-01-2016                                         \n",
       "Covariance Type:                  opg                                         \n",
       "==============================================================================\n",
       "                 coef    std err          z      P>|z|      [0.025      0.975]\n",
       "------------------------------------------------------------------------------\n",
       "sigma2         0.4417      0.034     12.930      0.000       0.375       0.509\n",
       "===================================================================================\n",
       "Ljung-Box (L1) (Q):                   1.63   Jarque-Bera (JB):               128.28\n",
       "Prob(Q):                              0.20   Prob(JB):                         0.00\n",
       "Heteroskedasticity (H):               0.28   Skew:                            -0.35\n",
       "Prob(H) (two-sided):                  0.00   Kurtosis:                         9.05\n",
       "===================================================================================\n",
       "\n",
       "Warnings:\n",
       "[1] Covariance matrix calculated using the outer product of gradients (complex-step).\n",
       "\"\"\""
      ]
     },
     "execution_count": 32,
     "metadata": {},
     "output_type": "execute_result"
    }
   ],
   "source": [
    "random_walk_model = ARIMA(train, order=(0, 1, 0)).fit()\n",
    "random_walk_model.summary()"
   ]
  },
  {
   "cell_type": "code",
   "execution_count": 33,
   "metadata": {
    "ExecuteTime": {
     "end_time": "2022-01-05T16:19:34.689615Z",
     "start_time": "2022-01-05T16:19:34.678221Z"
    }
   },
   "outputs": [
    {
     "name": "stdout",
     "output_type": "stream",
     "text": [
      "Random Walk AIC: 169.71674147844618\n",
      "AR(1, 1, 0) AIC: 170.15003232647763\n"
     ]
    }
   ],
   "source": [
    "print(f'Random Walk AIC: {random_walk_model.aic}')\n",
    "print(f'AR(1, 1, 0) AIC: {ar_1.aic}' )"
   ]
  },
  {
   "cell_type": "code",
   "execution_count": 34,
   "metadata": {
    "ExecuteTime": {
     "end_time": "2022-01-05T16:19:34.723114Z",
     "start_time": "2022-01-05T16:19:34.704624Z"
    }
   },
   "outputs": [
    {
     "data": {
      "text/plain": [
       "0.6543750422514842"
      ]
     },
     "execution_count": 34,
     "metadata": {},
     "output_type": "execute_result"
    }
   ],
   "source": [
    "y_hat_ar1 = ar_1.predict(typ='levels')\n",
    "np.sqrt(mean_squared_error(train, y_hat_ar1))"
   ]
  },
  {
   "cell_type": "code",
   "execution_count": 35,
   "metadata": {
    "ExecuteTime": {
     "end_time": "2022-01-05T16:19:34.776715Z",
     "start_time": "2022-01-05T16:19:34.734415Z"
    }
   },
   "outputs": [
    {
     "data": {
      "text/plain": [
       "0.6606537121083691"
      ]
     },
     "execution_count": 35,
     "metadata": {},
     "output_type": "execute_result"
    }
   ],
   "source": [
    "y_hat_rw = random_walk_model.predict(typ='levels')\n",
    "np.sqrt(mean_squared_error(train, y_hat_rw))"
   ]
  },
  {
   "cell_type": "code",
   "execution_count": 36,
   "metadata": {
    "ExecuteTime": {
     "end_time": "2022-01-05T16:19:34.811746Z",
     "start_time": "2022-01-05T16:19:34.786989Z"
    }
   },
   "outputs": [
    {
     "data": {
      "text/plain": [
       "DatetimeIndex(['2009-08-01', '2009-09-01', '2009-10-01', '2009-11-01',\n",
       "               '2009-12-01', '2010-01-01', '2010-02-01', '2010-03-01',\n",
       "               '2010-04-01', '2010-05-01', '2010-06-01', '2010-07-01',\n",
       "               '2010-08-01', '2010-09-01', '2010-10-01', '2010-11-01',\n",
       "               '2010-12-01', '2011-01-01', '2011-02-01', '2011-03-01',\n",
       "               '2011-04-01', '2011-05-01', '2011-06-01', '2011-07-01',\n",
       "               '2011-08-01', '2011-09-01', '2011-10-01', '2011-11-01',\n",
       "               '2011-12-01', '2012-01-01', '2012-02-01', '2012-03-01',\n",
       "               '2012-04-01', '2012-05-01', '2012-06-01', '2012-07-01',\n",
       "               '2012-08-01', '2012-09-01', '2012-10-01', '2012-11-01',\n",
       "               '2012-12-01', '2013-01-01', '2013-02-01', '2013-03-01',\n",
       "               '2013-04-01', '2013-05-01', '2013-06-01', '2013-07-01',\n",
       "               '2013-08-01', '2013-09-01', '2013-10-01', '2013-11-01',\n",
       "               '2013-12-01', '2014-01-01', '2014-02-01', '2014-03-01',\n",
       "               '2014-04-01', '2014-05-01', '2014-06-01', '2014-07-01',\n",
       "               '2014-08-01', '2014-09-01', '2014-10-01', '2014-11-01',\n",
       "               '2014-12-01', '2015-01-01', '2015-02-01', '2015-03-01',\n",
       "               '2015-04-01', '2015-05-01', '2015-06-01', '2015-07-01',\n",
       "               '2015-08-01', '2015-09-01', '2015-10-01', '2015-11-01',\n",
       "               '2015-12-01', '2016-01-01', '2016-02-01', '2016-03-01',\n",
       "               '2016-04-01', '2016-05-01', '2016-06-01', '2016-07-01'],\n",
       "              dtype='datetime64[ns]', name='time', freq=None)"
      ]
     },
     "execution_count": 36,
     "metadata": {},
     "output_type": "execute_result"
    }
   ],
   "source": [
    "train.index"
   ]
  },
  {
   "cell_type": "code",
   "execution_count": 37,
   "metadata": {
    "ExecuteTime": {
     "end_time": "2022-01-05T16:19:34.853892Z",
     "start_time": "2022-01-05T16:19:34.824465Z"
    }
   },
   "outputs": [],
   "source": [
    "train_with_ind = train.reset_index()"
   ]
  },
  {
   "cell_type": "code",
   "execution_count": 38,
   "metadata": {
    "ExecuteTime": {
     "end_time": "2022-01-05T16:19:35.485109Z",
     "start_time": "2022-01-05T16:19:34.867656Z"
    }
   },
   "outputs": [
    {
     "name": "stdout",
     "output_type": "stream",
     "text": [
      "0.9247731142112584\n",
      "0.539848132097846\n",
      "0.3500960607902209\n",
      "0.9945810865302941\n",
      "0.6733995238075675\n"
     ]
    }
   ],
   "source": [
    "for train_ind, val_ind in split.split(train_with_ind):\n",
    "    ar = ARIMA(endog=train_with_ind.iloc[train_ind, -1], order=(1, 1, 0)).fit()\n",
    "    preds = ar.predict(typ='levels', start=val_ind[0], end=val_ind[-1])\n",
    "    true = train_with_ind.iloc[val_ind, -1]\n",
    "    print(np.sqrt(mean_squared_error(true, preds)))"
   ]
  },
  {
   "cell_type": "code",
   "execution_count": 39,
   "metadata": {
    "ExecuteTime": {
     "end_time": "2022-01-05T16:19:35.517418Z",
     "start_time": "2022-01-05T16:19:35.503389Z"
    }
   },
   "outputs": [
    {
     "data": {
      "text/plain": [
       "array([-0.13593892])"
      ]
     },
     "execution_count": 39,
     "metadata": {},
     "output_type": "execute_result"
    }
   ],
   "source": [
    "ar_1.arparams"
   ]
  },
  {
   "cell_type": "code",
   "execution_count": 40,
   "metadata": {
    "ExecuteTime": {
     "end_time": "2022-01-05T16:19:35.713099Z",
     "start_time": "2022-01-05T16:19:35.524966Z"
    }
   },
   "outputs": [
    {
     "name": "stdout",
     "output_type": "stream",
     "text": [
      "[-0.13761657]\n"
     ]
    }
   ],
   "source": [
    "from sklearn.linear_model import LinearRegression\n",
    "lr = LinearRegression()\n",
    "lr.fit(np.array(train.diff().shift(1).dropna()).reshape(-1, 1), train[1:].diff().dropna())\n",
    "print(lr.coef_)"
   ]
  },
  {
   "cell_type": "code",
   "execution_count": 41,
   "metadata": {
    "ExecuteTime": {
     "end_time": "2022-01-05T16:19:35.956948Z",
     "start_time": "2022-01-05T16:19:35.718886Z"
    }
   },
   "outputs": [
    {
     "data": {
      "text/plain": [
       "2009-08-01    0.000000\n",
       "2009-09-01    0.065968\n",
       "2009-10-01    0.053456\n",
       "2009-11-01    0.051883\n",
       "2009-12-01    0.252395\n",
       "                ...   \n",
       "2016-03-01    0.408682\n",
       "2016-04-01    0.640040\n",
       "2016-05-01    0.210877\n",
       "2016-06-01   -0.035722\n",
       "2016-07-01   -0.079561\n",
       "Freq: MS, Name: predicted_mean, Length: 84, dtype: float64"
      ]
     },
     "execution_count": 41,
     "metadata": {},
     "output_type": "execute_result"
    }
   ],
   "source": [
    "ar_2 = ARIMA(train, order=(2, 1, 0)).fit()\n",
    "\n",
    "ar_2.predict(typ='levels')"
   ]
  },
  {
   "cell_type": "code",
   "execution_count": 42,
   "metadata": {
    "ExecuteTime": {
     "end_time": "2022-01-05T16:19:35.999655Z",
     "start_time": "2022-01-05T16:19:35.981755Z"
    }
   },
   "outputs": [
    {
     "name": "stdout",
     "output_type": "stream",
     "text": [
      "169.71674147844618\n",
      "170.15003232647763\n",
      "159.70771895296727\n"
     ]
    }
   ],
   "source": [
    "print(random_walk_model.aic)\n",
    "print(ar_1.aic)\n",
    "print(ar_2.aic)"
   ]
  },
  {
   "cell_type": "code",
   "execution_count": 43,
   "metadata": {
    "ExecuteTime": {
     "end_time": "2022-01-05T16:19:36.019630Z",
     "start_time": "2022-01-05T16:19:36.005334Z"
    }
   },
   "outputs": [
    {
     "data": {
      "text/plain": [
       "0.6060593397324888"
      ]
     },
     "execution_count": 43,
     "metadata": {},
     "output_type": "execute_result"
    }
   ],
   "source": [
    "y_hat_ar1 = ar_2.predict(typ='levels')\n",
    "np.sqrt(mean_squared_error(train, y_hat_ar1))"
   ]
  },
  {
   "cell_type": "code",
   "execution_count": 44,
   "metadata": {
    "ExecuteTime": {
     "end_time": "2022-01-05T16:19:36.707086Z",
     "start_time": "2022-01-05T16:19:36.032971Z"
    }
   },
   "outputs": [
    {
     "name": "stdout",
     "output_type": "stream",
     "text": [
      "0.9091519605840408\n",
      "0.4718213740262265\n",
      "0.3539631857738825\n",
      "0.8292245348811493\n",
      "0.6662699323688276\n"
     ]
    }
   ],
   "source": [
    "for train_ind, val_ind in split.split(train_with_ind):\n",
    "    ar = ARIMA(endog=train_with_ind.iloc[train_ind, -1], order=(2, 1, 0)).fit()\n",
    "    preds = ar.predict(typ='levels', start=val_ind[0], end=val_ind[-1])\n",
    "    true = train_with_ind.iloc[val_ind, -1]\n",
    "    print(np.sqrt(mean_squared_error(true, preds)))"
   ]
  },
  {
   "cell_type": "markdown",
   "metadata": {},
   "source": [
    "### Moving Avg"
   ]
  },
  {
   "cell_type": "code",
   "execution_count": 45,
   "metadata": {
    "ExecuteTime": {
     "end_time": "2022-01-05T16:19:36.876252Z",
     "start_time": "2022-01-05T16:19:36.723671Z"
    }
   },
   "outputs": [
    {
     "data": {
      "text/plain": [
       "2009-08-01    0.034391\n",
       "2009-09-01    0.047399\n",
       "2009-10-01    0.036413\n",
       "2009-11-01    0.039048\n",
       "2009-12-01    0.169627\n",
       "                ...   \n",
       "2016-03-01    0.100297\n",
       "2016-04-01    0.308575\n",
       "2016-05-01    0.045047\n",
       "2016-06-01   -0.122048\n",
       "2016-07-01   -0.060909\n",
       "Freq: MS, Name: predicted_mean, Length: 84, dtype: float64"
      ]
     },
     "execution_count": 45,
     "metadata": {},
     "output_type": "execute_result"
    }
   ],
   "source": [
    "ma_1 = ARIMA(train, order=(0, 0, 1)).fit()\n",
    "y_hat = ma_1.predict(typ='levels')\n",
    "y_hat"
   ]
  },
  {
   "cell_type": "code",
   "execution_count": 46,
   "metadata": {
    "ExecuteTime": {
     "end_time": "2022-01-05T16:19:36.972158Z",
     "start_time": "2022-01-05T16:19:36.884158Z"
    }
   },
   "outputs": [
    {
     "data": {
      "text/html": [
       "<table class=\"simpletable\">\n",
       "<caption>SARIMAX Results</caption>\n",
       "<tr>\n",
       "  <th>Dep. Variable:</th>        <td>growth</td>      <th>  No. Observations:  </th>   <td>84</td>   \n",
       "</tr>\n",
       "<tr>\n",
       "  <th>Model:</th>            <td>ARIMA(0, 0, 1)</td>  <th>  Log Likelihood     </th> <td>-68.188</td>\n",
       "</tr>\n",
       "<tr>\n",
       "  <th>Date:</th>            <td>Wed, 05 Jan 2022</td> <th>  AIC                </th> <td>142.376</td>\n",
       "</tr>\n",
       "<tr>\n",
       "  <th>Time:</th>                <td>11:19:36</td>     <th>  BIC                </th> <td>149.668</td>\n",
       "</tr>\n",
       "<tr>\n",
       "  <th>Sample:</th>             <td>08-01-2009</td>    <th>  HQIC               </th> <td>145.307</td>\n",
       "</tr>\n",
       "<tr>\n",
       "  <th></th>                   <td>- 07-01-2016</td>   <th>                     </th>    <td> </td>   \n",
       "</tr>\n",
       "<tr>\n",
       "  <th>Covariance Type:</th>        <td>opg</td>       <th>                     </th>    <td> </td>   \n",
       "</tr>\n",
       "</table>\n",
       "<table class=\"simpletable\">\n",
       "<tr>\n",
       "     <td></td>       <th>coef</th>     <th>std err</th>      <th>z</th>      <th>P>|z|</th>  <th>[0.025</th>    <th>0.975]</th>  \n",
       "</tr>\n",
       "<tr>\n",
       "  <th>const</th>  <td>    0.0344</td> <td>    0.112</td> <td>    0.307</td> <td> 0.759</td> <td>   -0.186</td> <td>    0.254</td>\n",
       "</tr>\n",
       "<tr>\n",
       "  <th>ma.L1</th>  <td>    0.5259</td> <td>    0.071</td> <td>    7.392</td> <td> 0.000</td> <td>    0.386</td> <td>    0.665</td>\n",
       "</tr>\n",
       "<tr>\n",
       "  <th>sigma2</th> <td>    0.2957</td> <td>    0.023</td> <td>   12.639</td> <td> 0.000</td> <td>    0.250</td> <td>    0.342</td>\n",
       "</tr>\n",
       "</table>\n",
       "<table class=\"simpletable\">\n",
       "<tr>\n",
       "  <th>Ljung-Box (L1) (Q):</th>     <td>0.04</td> <th>  Jarque-Bera (JB):  </th> <td>263.82</td>\n",
       "</tr>\n",
       "<tr>\n",
       "  <th>Prob(Q):</th>                <td>0.83</td> <th>  Prob(JB):          </th>  <td>0.00</td> \n",
       "</tr>\n",
       "<tr>\n",
       "  <th>Heteroskedasticity (H):</th> <td>0.31</td> <th>  Skew:              </th>  <td>1.56</td> \n",
       "</tr>\n",
       "<tr>\n",
       "  <th>Prob(H) (two-sided):</th>    <td>0.00</td> <th>  Kurtosis:          </th>  <td>11.10</td>\n",
       "</tr>\n",
       "</table><br/><br/>Warnings:<br/>[1] Covariance matrix calculated using the outer product of gradients (complex-step)."
      ],
      "text/plain": [
       "<class 'statsmodels.iolib.summary.Summary'>\n",
       "\"\"\"\n",
       "                               SARIMAX Results                                \n",
       "==============================================================================\n",
       "Dep. Variable:                 growth   No. Observations:                   84\n",
       "Model:                 ARIMA(0, 0, 1)   Log Likelihood                 -68.188\n",
       "Date:                Wed, 05 Jan 2022   AIC                            142.376\n",
       "Time:                        11:19:36   BIC                            149.668\n",
       "Sample:                    08-01-2009   HQIC                           145.307\n",
       "                         - 07-01-2016                                         \n",
       "Covariance Type:                  opg                                         \n",
       "==============================================================================\n",
       "                 coef    std err          z      P>|z|      [0.025      0.975]\n",
       "------------------------------------------------------------------------------\n",
       "const          0.0344      0.112      0.307      0.759      -0.186       0.254\n",
       "ma.L1          0.5259      0.071      7.392      0.000       0.386       0.665\n",
       "sigma2         0.2957      0.023     12.639      0.000       0.250       0.342\n",
       "===================================================================================\n",
       "Ljung-Box (L1) (Q):                   0.04   Jarque-Bera (JB):               263.82\n",
       "Prob(Q):                              0.83   Prob(JB):                         0.00\n",
       "Heteroskedasticity (H):               0.31   Skew:                             1.56\n",
       "Prob(H) (two-sided):                  0.00   Kurtosis:                        11.10\n",
       "===================================================================================\n",
       "\n",
       "Warnings:\n",
       "[1] Covariance matrix calculated using the outer product of gradients (complex-step).\n",
       "\"\"\""
      ]
     },
     "execution_count": 46,
     "metadata": {},
     "output_type": "execute_result"
    }
   ],
   "source": [
    "ma_1.summary()"
   ]
  },
  {
   "cell_type": "code",
   "execution_count": 47,
   "metadata": {
    "ExecuteTime": {
     "end_time": "2022-01-05T16:19:37.145289Z",
     "start_time": "2022-01-05T16:19:36.984417Z"
    }
   },
   "outputs": [
    {
     "name": "stdout",
     "output_type": "stream",
     "text": [
      "169.71674147844618\n",
      "170.15003232647763\n",
      "159.70771895296727\n",
      "166.20233986606158\n"
     ]
    }
   ],
   "source": [
    "ma_1 = ARIMA(train, order=(0, 1, 1)).fit()\n",
    "\n",
    "print(random_walk_model.aic)\n",
    "print(ar_1.aic)\n",
    "print(ar_2.aic)\n",
    "print(ma_1.aic)"
   ]
  },
  {
   "cell_type": "code",
   "execution_count": 48,
   "metadata": {
    "ExecuteTime": {
     "end_time": "2022-01-05T16:19:37.190895Z",
     "start_time": "2022-01-05T16:19:37.151543Z"
    }
   },
   "outputs": [
    {
     "data": {
      "text/plain": [
       "0.6381785474097083"
      ]
     },
     "execution_count": 48,
     "metadata": {},
     "output_type": "execute_result"
    }
   ],
   "source": [
    "y_hat_ar1 = ma_1.predict(typ='levels')\n",
    "np.sqrt(mean_squared_error(train, y_hat_ar1))"
   ]
  },
  {
   "cell_type": "code",
   "execution_count": 49,
   "metadata": {
    "ExecuteTime": {
     "end_time": "2022-01-05T16:19:38.053634Z",
     "start_time": "2022-01-05T16:19:37.209856Z"
    }
   },
   "outputs": [
    {
     "name": "stdout",
     "output_type": "stream",
     "text": [
      "0.966023221969091\n",
      "0.5700879531638161\n",
      "0.34015698804451433\n",
      "0.7456943017138152\n",
      "0.6346084361987622\n"
     ]
    }
   ],
   "source": [
    "for train_ind, val_ind in split.split(train_with_ind):\n",
    "    ar = ARIMA(endog=train_with_ind.iloc[train_ind, -1], order=(0, 1, 1)).fit()\n",
    "    preds = ar.predict(typ='levels', start=val_ind[0], end=val_ind[-1])\n",
    "    true = train_with_ind.iloc[val_ind, -1]\n",
    "    print(np.sqrt(mean_squared_error(true, preds)))"
   ]
  },
  {
   "cell_type": "code",
   "execution_count": 50,
   "metadata": {
    "ExecuteTime": {
     "end_time": "2022-01-05T16:19:38.482656Z",
     "start_time": "2022-01-05T16:19:38.073982Z"
    }
   },
   "outputs": [
    {
     "data": {
      "text/plain": [
       "2009-08-01    0.000000\n",
       "2009-09-01    0.065968\n",
       "2009-10-01    0.053594\n",
       "2009-11-01    0.052190\n",
       "2009-12-01    0.236299\n",
       "                ...   \n",
       "2016-03-01    0.103004\n",
       "2016-04-01    0.317679\n",
       "2016-05-01    0.051602\n",
       "2016-06-01   -0.119457\n",
       "2016-07-01   -0.059735\n",
       "Freq: MS, Name: predicted_mean, Length: 84, dtype: float64"
      ]
     },
     "execution_count": 50,
     "metadata": {},
     "output_type": "execute_result"
    }
   ],
   "source": [
    "ma_2 = ARIMA(train, order=(0, 1, 2)).fit()\n",
    "y_hat = ma_2.predict(typ='levels')\n",
    "y_hat"
   ]
  },
  {
   "cell_type": "code",
   "execution_count": 51,
   "metadata": {
    "ExecuteTime": {
     "end_time": "2022-01-05T16:19:38.517062Z",
     "start_time": "2022-01-05T16:19:38.493847Z"
    }
   },
   "outputs": [
    {
     "name": "stdout",
     "output_type": "stream",
     "text": [
      "169.71674147844618\n",
      "170.15003232647763\n",
      "159.70771895296727\n",
      "166.20233986606158\n",
      "145.34050318719207\n"
     ]
    }
   ],
   "source": [
    "print(random_walk_model.aic)\n",
    "print(ar_1.aic)\n",
    "print(ar_2.aic)\n",
    "print(ma_1.aic)\n",
    "print(ma_2.aic)"
   ]
  },
  {
   "cell_type": "code",
   "execution_count": 52,
   "metadata": {
    "ExecuteTime": {
     "end_time": "2022-01-05T16:19:38.615506Z",
     "start_time": "2022-01-05T16:19:38.556462Z"
    }
   },
   "outputs": [
    {
     "data": {
      "text/plain": [
       "0.5578500935449651"
      ]
     },
     "execution_count": 52,
     "metadata": {},
     "output_type": "execute_result"
    }
   ],
   "source": [
    "y_hat_ar1 = ma_2.predict(typ='levels')\n",
    "np.sqrt(mean_squared_error(train, y_hat_ar1))"
   ]
  },
  {
   "cell_type": "code",
   "execution_count": 53,
   "metadata": {
    "ExecuteTime": {
     "end_time": "2022-01-05T16:19:40.295609Z",
     "start_time": "2022-01-05T16:19:38.632338Z"
    }
   },
   "outputs": [
    {
     "name": "stdout",
     "output_type": "stream",
     "text": [
      "0.9403631705149798\n",
      "0.5353144643188226\n",
      "0.42874634779845994\n",
      "0.5145117279064995\n",
      "0.6136262295698964\n"
     ]
    }
   ],
   "source": [
    "for train_ind, val_ind in split.split(train_with_ind):\n",
    "    ar = ARIMA(endog=train_with_ind.iloc[train_ind, -1], order=(0, 1, 2)).fit()\n",
    "    preds = ar.predict(typ='levels', start=val_ind[0], end=val_ind[-1])\n",
    "    true = train_with_ind.iloc[val_ind, -1]\n",
    "    print(np.sqrt(mean_squared_error(true, preds)))"
   ]
  },
  {
   "cell_type": "markdown",
   "metadata": {},
   "source": [
    "### ARMA"
   ]
  },
  {
   "cell_type": "code",
   "execution_count": 54,
   "metadata": {
    "ExecuteTime": {
     "end_time": "2022-01-05T16:19:41.062824Z",
     "start_time": "2022-01-05T16:19:40.311814Z"
    }
   },
   "outputs": [],
   "source": [
    "arma_21 = ARIMA(train, order=(2, 1, 2)).fit()"
   ]
  },
  {
   "cell_type": "code",
   "execution_count": 55,
   "metadata": {
    "ExecuteTime": {
     "end_time": "2022-01-05T16:19:41.092781Z",
     "start_time": "2022-01-05T16:19:41.066703Z"
    }
   },
   "outputs": [
    {
     "name": "stdout",
     "output_type": "stream",
     "text": [
      "169.71674147844618\n",
      "170.15003232647763\n",
      "159.70771895296727\n",
      "166.20233986606158\n",
      "145.34050318719207\n",
      "148.2879215980359\n"
     ]
    }
   ],
   "source": [
    "print(random_walk_model.aic)\n",
    "print(ar_1.aic)\n",
    "print(ar_2.aic)\n",
    "print(ma_1.aic)\n",
    "print(ma_2.aic)\n",
    "print(arma_21.aic)"
   ]
  },
  {
   "cell_type": "code",
   "execution_count": 56,
   "metadata": {
    "ExecuteTime": {
     "end_time": "2022-01-05T16:19:41.141466Z",
     "start_time": "2022-01-05T16:19:41.096102Z"
    }
   },
   "outputs": [],
   "source": [
    "def find_rmse(model, train_data=train):\n",
    "    y_hat = model.predict(typ='levels')\n",
    "    return np.sqrt(mean_squared_error(train_data, y_hat))"
   ]
  },
  {
   "cell_type": "code",
   "execution_count": 57,
   "metadata": {
    "ExecuteTime": {
     "end_time": "2022-01-05T16:19:41.218379Z",
     "start_time": "2022-01-05T16:19:41.145808Z"
    }
   },
   "outputs": [
    {
     "name": "stdout",
     "output_type": "stream",
     "text": [
      "0.6606537121083691\n",
      "0.6543750422514842\n",
      "0.6060593397324888\n",
      "0.6381785474097083\n",
      "0.5578500935449651\n",
      "0.5552622949006586\n"
     ]
    }
   ],
   "source": [
    "print(find_rmse(random_walk_model))\n",
    "print(find_rmse(ar_1))\n",
    "print(find_rmse(ar_2))\n",
    "print(find_rmse(ma_1))\n",
    "print(find_rmse(ma_2))\n",
    "print(find_rmse(arma_21))"
   ]
  },
  {
   "cell_type": "code",
   "execution_count": 58,
   "metadata": {
    "ExecuteTime": {
     "end_time": "2022-01-05T16:19:43.636922Z",
     "start_time": "2022-01-05T16:19:41.225964Z"
    }
   },
   "outputs": [
    {
     "name": "stdout",
     "output_type": "stream",
     "text": [
      "0.9402123618600596\n",
      "0.5491435697438797\n",
      "0.42651644608067873\n",
      "0.5312336587753318\n",
      "0.6142362017861217\n"
     ]
    }
   ],
   "source": [
    "for train_ind, val_ind in split.split(train_with_ind):\n",
    "    ar = ARIMA(endog=train_with_ind.iloc[train_ind, -1], order=(2, 1, 2)).fit()\n",
    "    preds = ar.predict(typ='levels', start=val_ind[0], end=val_ind[-1])\n",
    "    true = train_with_ind.iloc[val_ind, -1]\n",
    "    print(np.sqrt(mean_squared_error(true, preds)))"
   ]
  },
  {
   "cell_type": "code",
   "execution_count": 59,
   "metadata": {
    "ExecuteTime": {
     "end_time": "2022-01-05T16:19:43.715551Z",
     "start_time": "2022-01-05T16:19:43.652520Z"
    }
   },
   "outputs": [],
   "source": [
    "def find_rmse_test(model, test_data=test):\n",
    "    y_hat = model.predict(start=test_data.index[0], end=test_data.index[-1], typ='levels')\n",
    "    return np.sqrt(mean_squared_error(test_data, y_hat))"
   ]
  },
  {
   "cell_type": "code",
   "execution_count": 60,
   "metadata": {
    "ExecuteTime": {
     "end_time": "2022-01-05T16:19:43.875251Z",
     "start_time": "2022-01-05T16:19:43.750559Z"
    }
   },
   "outputs": [
    {
     "name": "stdout",
     "output_type": "stream",
     "text": [
      "0.4881797622795754\n",
      "0.49071857514083184\n",
      "0.4940178678758141\n",
      "0.48456313360697717\n",
      "0.4963117109713785\n",
      "0.49201190795448846\n"
     ]
    }
   ],
   "source": [
    "print(find_rmse_test(random_walk_model))\n",
    "print(find_rmse_test(ar_1))\n",
    "print(find_rmse_test(ar_2))\n",
    "print(find_rmse_test(ma_1))\n",
    "print(find_rmse_test(ma_2))\n",
    "print(find_rmse_test(arma_21))"
   ]
  },
  {
   "cell_type": "code",
   "execution_count": 61,
   "metadata": {
    "ExecuteTime": {
     "end_time": "2022-01-05T16:19:46.844659Z",
     "start_time": "2022-01-05T16:19:46.126587Z"
    }
   },
   "outputs": [],
   "source": [
    "sari_mod =SARIMAX(train,\n",
    "                  order=(0, 1, 0),\n",
    "                  seasonal_order=(0, 1, 1, 52),\n",
    "                  enforce_stationarity=False,\n",
    "                  enforce_invertibility=False).fit()"
   ]
  },
  {
   "cell_type": "code",
   "execution_count": 62,
   "metadata": {
    "ExecuteTime": {
     "end_time": "2022-01-05T16:20:01.314055Z",
     "start_time": "2022-01-05T16:19:56.233027Z"
    }
   },
   "outputs": [
    {
     "name": "stdout",
     "output_type": "stream",
     "text": [
      "0.9283329185129724\n",
      "0.7512866978248999\n",
      "0.3254738437059426\n",
      "1.484261930837586\n",
      "5.294883101233223\n"
     ]
    }
   ],
   "source": [
    "for train_ind, val_ind in split.split(train_with_ind):\n",
    "    sarimax = SARIMAX(endog=train_with_ind.iloc[train_ind, -1],\n",
    "                      order=(1, 1, 1),\n",
    "                     seasonal_order=(0, 1, 1, 52),\n",
    "                     enforce_stationarity=False,\n",
    "                     enforce_invertibility=False).fit()\n",
    "    preds = sarimax.predict(typ='levels', start=val_ind[0], end=val_ind[-1])\n",
    "    true = train_with_ind.iloc[val_ind, -1]\n",
    "    print(np.sqrt(mean_squared_error(true, preds)))"
   ]
  },
  {
   "cell_type": "code",
   "execution_count": 64,
   "metadata": {
    "ExecuteTime": {
     "end_time": "2022-01-05T16:20:31.082284Z",
     "start_time": "2022-01-05T16:20:29.452230Z"
    }
   },
   "outputs": [],
   "source": [
    "sari_mod = SARIMAX(minus_roll_mean_85018,\n",
    "                  order=(1, 1, 1),\n",
    "                  seasonal_order=(0, 1, 1, 52),\n",
    "                  enforce_stationarity=False,\n",
    "                  enforce_invertibility=False).fit()"
   ]
  },
  {
   "cell_type": "code",
   "execution_count": 65,
   "metadata": {
    "ExecuteTime": {
     "end_time": "2022-01-05T16:20:41.078354Z",
     "start_time": "2022-01-05T16:20:40.887688Z"
    }
   },
   "outputs": [],
   "source": [
    "forecast = sari_mod.forecast(steps=52)"
   ]
  },
  {
   "cell_type": "code",
   "execution_count": 67,
   "metadata": {
    "ExecuteTime": {
     "end_time": "2022-01-05T16:21:05.202386Z",
     "start_time": "2022-01-05T16:21:04.828764Z"
    }
   },
   "outputs": [
    {
     "data": {
      "image/png": "[encoded data removed]",
      "text/plain": [
       "<Figure size 432x288 with 1 Axes>"
      ]
     },
     "metadata": {
      "needs_background": "light"
     },
     "output_type": "display_data"
    }
   ],
   "source": [
    "fig, ax = plt.subplots()\n",
    "ax.plot(minus_roll_mean_85018, label='so_far')\n",
    "ax.plot(forecast, label='forecast')\n",
    "ax.set_title('85018 Growth Forecast')\n",
    "\n",
    "plt.legend();"
   ]
  },
  {
   "cell_type": "code",
   "execution_count": null,
   "metadata": {},
   "outputs": [],
   "source": []
  }
 ],
 "metadata": {
  "kernelspec": {
   "display_name": "Python (learn-env)",
   "language": "python",
   "name": "learn-env"
  },
  "language_info": {
   "codemirror_mode": {
    "name": "ipython",
    "version": 3
   },
   "file_extension": ".py",
   "mimetype": "text/x-python",
   "name": "python",
   "nbconvert_exporter": "python",
   "pygments_lexer": "ipython3",
   "version": "3.8.5"
  }
 },
 "nbformat": 4,
 "nbformat_minor": 4
}
